{
 "cells": [
  {
   "cell_type": "markdown",
   "id": "1a90340e",
   "metadata": {},
   "source": [
    "# NMF Model\n",
    "## In this program, we will generate topics that are suitable for checking businesses similarities."
   ]
  },
  {
   "cell_type": "markdown",
   "id": "946371b2",
   "metadata": {},
   "source": [
    "## import necessary datasets"
   ]
  },
  {
   "cell_type": "code",
   "execution_count": 1,
   "id": "af03b478",
   "metadata": {},
   "outputs": [],
   "source": [
    "import numpy as np\n",
    "import pandas as pd\n",
    "from sklearn.feature_extraction.text import TfidfVectorizer\n",
    "from sklearn.feature_extraction._stop_words import ENGLISH_STOP_WORDS\n",
    "from sklearn.decomposition import NMF\n",
    "from nltk.corpus import stopwords\n",
    "from sklearn.preprocessing import normalize"
   ]
  },
  {
   "cell_type": "markdown",
   "id": "27c4e4c1",
   "metadata": {},
   "source": [
    "## Read the cleaned reviews datasets"
   ]
  },
  {
   "cell_type": "code",
   "execution_count": 2,
   "id": "5cf709be",
   "metadata": {},
   "outputs": [
    {
     "data": {
      "text/html": [
       "<div>\n",
       "<style scoped>\n",
       "    .dataframe tbody tr th:only-of-type {\n",
       "        vertical-align: middle;\n",
       "    }\n",
       "\n",
       "    .dataframe tbody tr th {\n",
       "        vertical-align: top;\n",
       "    }\n",
       "\n",
       "    .dataframe thead th {\n",
       "        text-align: right;\n",
       "    }\n",
       "</style>\n",
       "<table border=\"1\" class=\"dataframe\">\n",
       "  <thead>\n",
       "    <tr style=\"text-align: right;\">\n",
       "      <th></th>\n",
       "      <th>review_id</th>\n",
       "      <th>business_id</th>\n",
       "      <th>text</th>\n",
       "      <th>target</th>\n",
       "      <th>words</th>\n",
       "    </tr>\n",
       "  </thead>\n",
       "  <tbody>\n",
       "    <tr>\n",
       "      <th>0</th>\n",
       "      <td>fxWnU4OqONBNoQhEcyazSg</td>\n",
       "      <td>krTHKI0YOpASr4gz2CVWFw</td>\n",
       "      <td>This location used to be good, several years a...</td>\n",
       "      <td>0.0</td>\n",
       "      <td>this location use to be good several year ago ...</td>\n",
       "    </tr>\n",
       "    <tr>\n",
       "      <th>1</th>\n",
       "      <td>FhtER9SGsEYkEhRcs09rsQ</td>\n",
       "      <td>krTHKI0YOpASr4gz2CVWFw</td>\n",
       "      <td>I love Cosi but this Cosi is going down hill f...</td>\n",
       "      <td>0.0</td>\n",
       "      <td>love cosi but this cosi be go down hill fast a...</td>\n",
       "    </tr>\n",
       "  </tbody>\n",
       "</table>\n",
       "</div>"
      ],
      "text/plain": [
       "                review_id             business_id  \\\n",
       "0  fxWnU4OqONBNoQhEcyazSg  krTHKI0YOpASr4gz2CVWFw   \n",
       "1  FhtER9SGsEYkEhRcs09rsQ  krTHKI0YOpASr4gz2CVWFw   \n",
       "\n",
       "                                                text  target  \\\n",
       "0  This location used to be good, several years a...     0.0   \n",
       "1  I love Cosi but this Cosi is going down hill f...     0.0   \n",
       "\n",
       "                                               words  \n",
       "0  this location use to be good several year ago ...  \n",
       "1  love cosi but this cosi be go down hill fast a...  "
      ]
     },
     "execution_count": 2,
     "metadata": {},
     "output_type": "execute_result"
    }
   ],
   "source": [
    "file = \"../Datasets/Cleaned_Text_Dataset.csv\"\n",
    "cleaned_reviews_df = pd.read_csv(file)\n",
    "del cleaned_reviews_df[\"Unnamed: 0\"]\n",
    "cleaned_reviews_df.head(2)"
   ]
  },
  {
   "cell_type": "code",
   "execution_count": 3,
   "id": "265d1614",
   "metadata": {},
   "outputs": [],
   "source": [
    "pos_reviews_df = cleaned_reviews_df[cleaned_reviews_df['target'] == 1]\n",
    "neg_reviews_df = cleaned_reviews_df[cleaned_reviews_df['target'] == 0]\n",
    "pos_reviews_df = pos_reviews_df.reset_index(drop=True)\n",
    "neg_reviews_df = neg_reviews_df.reset_index(drop=True)"
   ]
  },
  {
   "cell_type": "code",
   "execution_count": 4,
   "id": "401c7e1c",
   "metadata": {},
   "outputs": [],
   "source": [
    "pos_reviews = cleaned_reviews_df.words[cleaned_reviews_df.target == 1.0]\n",
    "neg_reviews = cleaned_reviews_df.words[cleaned_reviews_df.target == 0.0]"
   ]
  },
  {
   "cell_type": "markdown",
   "id": "58566b17",
   "metadata": {},
   "source": [
    "## Stopwords"
   ]
  },
  {
   "cell_type": "code",
   "execution_count": 5,
   "id": "d0f397e0",
   "metadata": {},
   "outputs": [],
   "source": [
    "# Create a list of stop words with stopwords library \n",
    "# and adding extra stopwords that is not potentially useful \n",
    "my_stop_words = set(stopwords.words('english') + \n",
    "                    list(ENGLISH_STOP_WORDS) + \n",
    "                    ['super', 'duper', 've', 'like', 'got', \n",
    "                     'Cleveland', 'just', 'don', 'really', \n",
    "                     'said', 'told', 'ok','came', 'went', \n",
    "                     'did', 'didn', 'good'])"
   ]
  },
  {
   "cell_type": "markdown",
   "id": "7e44d535",
   "metadata": {},
   "source": [
    "## TF-IDF"
   ]
  },
  {
   "cell_type": "markdown",
   "id": "292176d7",
   "metadata": {},
   "source": [
    "\n",
    "- Looks like the top words for both positive and negative Yelp reviews have mention topic related to service , place , time and order."
   ]
  },
  {
   "cell_type": "code",
   "execution_count": 6,
   "id": "f9eff65f",
   "metadata": {},
   "outputs": [],
   "source": [
    "# Create a vectorizer object to generate term document counts\n",
    "tfidf_pos = TfidfVectorizer(stop_words=my_stop_words, min_df=10, max_df=0.5, \n",
    "                        ngram_range=(1,2), token_pattern='[a-z][a-z]+')\n",
    "\n",
    "tfidf_neg = TfidfVectorizer(stop_words=my_stop_words, min_df=10, max_df=0.5, \n",
    "                        ngram_range=(1,2), token_pattern='[a-z][a-z]+')"
   ]
  },
  {
   "cell_type": "code",
   "execution_count": 10,
   "id": "b055cb04",
   "metadata": {},
   "outputs": [],
   "source": [
    "# Get the vectors\n",
    "pos_vectors = tfidf_pos.fit_transform(pos_reviews)\n",
    "neg_vectors = tfidf_neg.fit_transform(neg_reviews)"
   ]
  },
  {
   "cell_type": "markdown",
   "id": "1fb33616",
   "metadata": {},
   "source": [
    "## Apply NMF to find Generate Topics"
   ]
  },
  {
   "cell_type": "code",
   "execution_count": 8,
   "id": "b1eb49ec",
   "metadata": {},
   "outputs": [],
   "source": [
    "num_topics = 6 # declare the number of topics\n",
    "num_top_words = 6 # declare the number of words in each topic\n",
    "\n",
    "nmf_pos = NMF(n_components=num_topics)\n",
    "W_pos = nmf_pos.fit_transform(pos_vectors)\n",
    "H_pos = nmf_pos.components_\n",
    "\n",
    "nmf_neg = NMF(n_components=num_topics)\n",
    "W_neg = nmf_neg.fit_transform(neg_vectors)\n",
    "H_neg = nmf_neg.components_"
   ]
  },
  {
   "cell_type": "code",
   "execution_count": 9,
   "id": "377a7bc2",
   "metadata": {},
   "outputs": [],
   "source": [
    "# Get the vectors\n",
    "pos_vectors = tfidf_pos.fit_transform(pos_reviews)\n",
    "neg_vectors = tfidf_neg.fit_transform(neg_reviews)"
   ]
  },
  {
   "cell_type": "markdown",
   "id": "55034e45",
   "metadata": {},
   "source": [
    "### Function : show_topics_result\n",
    "#### parameter : model , feature names , number of topics , number of words in topic\n",
    "#### output : show the result of all topics and weight of each word in each topic"
   ]
  },
  {
   "cell_type": "code",
   "execution_count": 11,
   "id": "a5456ba8",
   "metadata": {},
   "outputs": [],
   "source": [
    "def show_topics_result(model, feature_names, num_topics, no_top_words):\n",
    "    for topic_idx, topic in enumerate(model.components_):\n",
    "        if topic_idx < num_topics:\n",
    "            print(\"{:11}\".format(\"Topic %d:\" %(topic_idx+1)), end='')\n",
    "            print(\", \".join(['{:04.3f}*'.format(topic[i])+feature_names[i] \\\n",
    "                             for i in topic.argsort()[:-no_top_words-1:-1]]))"
   ]
  },
  {
   "cell_type": "markdown",
   "id": "a6ad1f02",
   "metadata": {},
   "source": [
    "### Generate top 6 topics for positive and negative reviews"
   ]
  },
  {
   "cell_type": "code",
   "execution_count": 12,
   "id": "7216fa77",
   "metadata": {},
   "outputs": [
    {
     "name": "stdout",
     "output_type": "stream",
     "text": [
      "Top topics + words for Positive reviews\n",
      "---------------------------------------\n",
      "Topic 1:   0.794*order, 0.636*come, 0.505*delicious, 0.484*chicken, 0.478*try, 0.469*dish\n",
      "Topic 2:   0.933*sandwich, 0.877*cheesesteak, 0.768*cheese, 0.754*pork, 0.696*steak, 0.634*roast\n",
      "Topic 3:   2.292*pizza, 0.264*crust, 0.228*slice, 0.197*pizza place, 0.170*pizza pizza, 0.160*pie\n",
      "Topic 4:   1.238*place, 0.862*market, 0.721*love, 0.515*terminal, 0.393*love place, 0.393*food\n",
      "Topic 5:   1.553*great, 1.177*food, 0.871*service, 0.532*recommend, 0.491*amazing, 0.463*staff\n",
      "Topic 6:   0.747*hour, 0.740*happy hour, 0.718*happy, 0.686*beer, 0.572*bar, 0.511*drink\n",
      "\n",
      "Top topics + words for Negative reviews\n",
      "---------------------------------------\n",
      "Topic 1:   1.160*table, 0.772*wait, 0.729*come, 0.692*minute, 0.624*ask, 0.600*reservation\n",
      "Topic 2:   0.840*chicken, 0.597*taste, 0.536*salad, 0.436*sauce, 0.393*dish, 0.371*rice\n",
      "Topic 3:   2.148*pizza, 0.300*slice, 0.207*pizza place, 0.205*order pizza, 0.194*crust, 0.142*cheese\n",
      "Topic 4:   0.799*bar, 0.766*drink, 0.692*place, 0.481*bartender, 0.480*service, 0.414*beer\n",
      "Topic 5:   1.580*order, 0.561*time, 0.496*delivery, 0.371*hour, 0.364*say, 0.334*customer\n",
      "Topic 6:   1.213*cheesesteak, 1.209*sandwich, 0.622*steak, 0.556*cheese, 0.530*meat, 0.506*philly\n"
     ]
    }
   ],
   "source": [
    "print('Top topics + words for Positive reviews')\n",
    "print('-'*39)\n",
    "show_topics_result(nmf_pos, tfidf_pos.get_feature_names_out(), num_topics, num_top_words)\n",
    "\n",
    "print('\\nTop topics + words for Negative reviews')\n",
    "print('-'*39)\n",
    "show_topics_result(nmf_neg, tfidf_neg.get_feature_names_out(), num_topics, num_top_words)"
   ]
  },
  {
   "cell_type": "markdown",
   "id": "2ba33c6f",
   "metadata": {},
   "source": [
    "### Summarize all topics"
   ]
  },
  {
   "cell_type": "markdown",
   "id": "c6dd37ad",
   "metadata": {},
   "source": [
    "Topics in Positive reviews Similarity:\n",
    "- Topics(1) : Order , Delicious , Dish  \n",
    "- Topics(2) : Sandwich , Cheese , Steak , Pork\n",
    "- Topics(3) : Pizza , Food\n",
    "- Topics(4) : Place , Terminal , Market\n",
    "- Topics(5) : Service , Staff , Recommend\n",
    "- Topics(6) ：Happy hour , Beer , Drink\n",
    "\n",
    "Topics in Negative reviews Similarity:\n",
    "- Topics(1) : Table , Wait , Reservation\n",
    "- Topics(2) : Dish , Salad , Taste\n",
    "- Topics(3) : Pizza , Food\n",
    "- Topics(4) : Bar , Drink , Service\n",
    "- Topics(5) : Order , Time , Delivery\n",
    "- Topics(6) ：Cheesesteak, Sandwich , Philly"
   ]
  },
  {
   "cell_type": "markdown",
   "id": "dafd4bb1",
   "metadata": {},
   "source": [
    "With these topis, we can investigate any review in the datasets that, the similarity of topics to the reviews"
   ]
  },
  {
   "cell_type": "code",
   "execution_count": 13,
   "id": "5fce7065",
   "metadata": {},
   "outputs": [],
   "source": [
    "# store the topics in a dictionary\n",
    "pos_topics = {0:'order/delicious/dish', \n",
    "              1:'sandwich/cheese/steak/pork', \n",
    "              2:'pizza/food', \n",
    "              3:'place/terminal/market', \n",
    "              4:'service/staff/recommend', \n",
    "              5:'happy_hour/beer/drink'}\n",
    "\n",
    "neg_topics = {0:'table/wait/resevation', \n",
    "              1:'dish/salad/taste', \n",
    "              2:'pizza/food', \n",
    "              3:'bar/drink/service', \n",
    "              4:'order/time/delivery', \n",
    "              5:'cheesesteak/sandwich/philly'}"
   ]
  },
  {
   "cell_type": "markdown",
   "id": "7dbd8d33",
   "metadata": {},
   "source": [
    "---"
   ]
  },
  {
   "cell_type": "markdown",
   "id": "f680e6ae",
   "metadata": {},
   "source": [
    "## Testing positive review with the generated topics"
   ]
  },
  {
   "cell_type": "code",
   "execution_count": 14,
   "id": "afce607d",
   "metadata": {},
   "outputs": [
    {
     "name": "stdout",
     "output_type": "stream",
     "text": [
      "Sample Positive Review :\n",
      "-------------------------\n",
      "I tried the pulled pork sandwich and it was so delicious and tender. I took a cheesesteak back home to California and it was the best. If your a tourist and looking for good food you gotta try this place.\n",
      "-------------------------\n",
      "Topic 2: 0.1222\n",
      "Topic 4: 0.0268\n",
      "Topic 5: 0.0075\n",
      "Topic 1: 0.0033\n",
      "Topic 3: 0.0000\n",
      "Topic 6: 0.0000\n"
     ]
    }
   ],
   "source": [
    "sample_pos_review = pos_reviews_df['text'][87] #randomly select a positive review\n",
    "print('Sample Positive Review :')\n",
    "print('-'*25)\n",
    "print(sample_pos_review)\n",
    "print('-'*25)\n",
    "topic_dict = {}\n",
    "for ind, w in enumerate(W_pos[87]):\n",
    "    topic_dict[ind] = w\n",
    "for k in sorted(topic_dict, key=topic_dict.get, reverse=True):\n",
    "     print('Topic {}: {:.4f}'.format(k+1, topic_dict[k]))"
   ]
  },
  {
   "cell_type": "markdown",
   "id": "7368cdeb",
   "metadata": {},
   "source": [
    "## Testing negative review the generated topics"
   ]
  },
  {
   "cell_type": "code",
   "execution_count": 15,
   "id": "0f2ce3af",
   "metadata": {},
   "outputs": [
    {
     "name": "stdout",
     "output_type": "stream",
     "text": [
      "Sample Negative Review :\n",
      "-------------------------\n",
      "Completely disappointed. I can't believe I paid $40 for 50 wings from this place. I'll never eat here again.  They were over priced, small, and over cooked.  It's a complete rip off.   They should be ashamed to charge what they charge for what they give you.\n",
      "-------------------------\n",
      "Topic 2: 0.0414\n",
      "Topic 4: 0.0297\n",
      "Topic 5: 0.0024\n",
      "Topic 3: 0.0021\n",
      "Topic 6: 0.0015\n",
      "Topic 1: 0.0000\n"
     ]
    }
   ],
   "source": [
    "sample_neg_review = neg_reviews_df['text'][95] #randomly select a positive review\n",
    "print('Sample Negative Review :')\n",
    "print('-'*25)\n",
    "print(sample_neg_review)\n",
    "print('-'*25)\n",
    "topic_dict = {}\n",
    "for ind, w in enumerate(W_neg[95]):\n",
    "    topic_dict[ind] = w\n",
    "for k in sorted(topic_dict, key=topic_dict.get, reverse=True):\n",
    "     print('Topic {}: {:.4f}'.format(k+1, topic_dict[k]))"
   ]
  },
  {
   "cell_type": "markdown",
   "id": "ba8846b6",
   "metadata": {},
   "source": [
    "---"
   ]
  },
  {
   "cell_type": "markdown",
   "id": "e1a11db3",
   "metadata": {},
   "source": [
    "## Calculate the average topic weights of each business in previous chosen restaurant datasets."
   ]
  },
  {
   "cell_type": "markdown",
   "id": "2c27799e",
   "metadata": {},
   "source": [
    "### sample weight for a review"
   ]
  },
  {
   "cell_type": "code",
   "execution_count": 16,
   "id": "7fbbe1b9",
   "metadata": {},
   "outputs": [
    {
     "name": "stdout",
     "output_type": "stream",
     "text": [
      "Topic weights :  [0.05703727 0.01336418 0.         0.         0.02132281 0.        ]\n",
      "Total topic weights:  0.09172425851016007\n"
     ]
    }
   ],
   "source": [
    "print('Topic weights : ', W_pos[1])\n",
    "print('Total topic weights: ', W_pos[1].sum())"
   ]
  },
  {
   "cell_type": "markdown",
   "id": "a09dd415",
   "metadata": {},
   "source": [
    "### Normalize the sum of weights"
   ]
  },
  {
   "cell_type": "code",
   "execution_count": 17,
   "id": "0c81495b",
   "metadata": {},
   "outputs": [
    {
     "name": "stdout",
     "output_type": "stream",
     "text": [
      "Normalized Topic weights :  [[0.41160783 0.33349535 0.         0.         0.03134024 0.22355659]]\n",
      "Total normalized topic weights:  1.0\n"
     ]
    }
   ],
   "source": [
    "print('Normalized Topic weights : ', normalize(W_pos[0].reshape(1,-1), norm='l1'))\n",
    "print('Total normalized topic weights: ', normalize(W_pos[0].reshape(1,-1), norm='l1').sum())"
   ]
  },
  {
   "cell_type": "code",
   "execution_count": 18,
   "id": "d17b6eeb",
   "metadata": {},
   "outputs": [],
   "source": [
    "# add normalized topic weights to each review\n",
    "pos_reviews_df = pd.concat([pos_reviews_df, pd.DataFrame(normalize(W_pos, norm='l1'))], axis=1)\n",
    "neg_reviews_df = pd.concat([neg_reviews_df, pd.DataFrame(normalize(W_pos, norm='l1'))], axis=1)"
   ]
  },
  {
   "cell_type": "code",
   "execution_count": 19,
   "id": "8c75a876",
   "metadata": {},
   "outputs": [],
   "source": [
    "pos_reviews_df = pos_reviews_df.rename(columns={0: \"topic_1\", 1: \"topic_2\" , 2: \"topic_3\", 3: \"topic_4\" , 4: \"topic_5\", 5: \"topic_6\"})\n",
    "neg_reviews_df = neg_reviews_df.rename(columns={0: \"topic_1\", 1: \"topic_2\" , 2: \"topic_3\", 3: \"topic_4\" , 4: \"topic_5\", 5: \"topic_6\"})"
   ]
  },
  {
   "cell_type": "code",
   "execution_count": 20,
   "id": "843ddf9a",
   "metadata": {},
   "outputs": [],
   "source": [
    "# drop unecessary columns\n",
    "del pos_reviews_df['review_id']\n",
    "del pos_reviews_df['text']\n",
    "del pos_reviews_df['target']\n",
    "del pos_reviews_df['words']"
   ]
  },
  {
   "cell_type": "code",
   "execution_count": 21,
   "id": "a7c9bfe4",
   "metadata": {},
   "outputs": [
    {
     "data": {
      "text/html": [
       "<div>\n",
       "<style scoped>\n",
       "    .dataframe tbody tr th:only-of-type {\n",
       "        vertical-align: middle;\n",
       "    }\n",
       "\n",
       "    .dataframe tbody tr th {\n",
       "        vertical-align: top;\n",
       "    }\n",
       "\n",
       "    .dataframe thead th {\n",
       "        text-align: right;\n",
       "    }\n",
       "</style>\n",
       "<table border=\"1\" class=\"dataframe\">\n",
       "  <thead>\n",
       "    <tr style=\"text-align: right;\">\n",
       "      <th></th>\n",
       "      <th>business_id</th>\n",
       "      <th>topic_1</th>\n",
       "      <th>topic_2</th>\n",
       "      <th>topic_3</th>\n",
       "      <th>topic_4</th>\n",
       "      <th>topic_5</th>\n",
       "      <th>topic_6</th>\n",
       "    </tr>\n",
       "  </thead>\n",
       "  <tbody>\n",
       "    <tr>\n",
       "      <th>0</th>\n",
       "      <td>4R2KR_-FybS7oegGrXjHVg</td>\n",
       "      <td>0.411608</td>\n",
       "      <td>0.333495</td>\n",
       "      <td>0.000000</td>\n",
       "      <td>0.000000</td>\n",
       "      <td>0.031340</td>\n",
       "      <td>0.223557</td>\n",
       "    </tr>\n",
       "    <tr>\n",
       "      <th>1</th>\n",
       "      <td>mUIBtlWNPD7sz3rGGWQ1RA</td>\n",
       "      <td>0.621834</td>\n",
       "      <td>0.145700</td>\n",
       "      <td>0.000000</td>\n",
       "      <td>0.000000</td>\n",
       "      <td>0.232466</td>\n",
       "      <td>0.000000</td>\n",
       "    </tr>\n",
       "    <tr>\n",
       "      <th>2</th>\n",
       "      <td>-mIlmp5l4hKlp1tvHRdvTg</td>\n",
       "      <td>0.000000</td>\n",
       "      <td>0.701594</td>\n",
       "      <td>0.000000</td>\n",
       "      <td>0.000000</td>\n",
       "      <td>0.290622</td>\n",
       "      <td>0.007784</td>\n",
       "    </tr>\n",
       "    <tr>\n",
       "      <th>3</th>\n",
       "      <td>gvD09Ev1aOmphtlq07zYEA</td>\n",
       "      <td>0.489859</td>\n",
       "      <td>0.005281</td>\n",
       "      <td>0.066384</td>\n",
       "      <td>0.438476</td>\n",
       "      <td>0.000000</td>\n",
       "      <td>0.000000</td>\n",
       "    </tr>\n",
       "    <tr>\n",
       "      <th>4</th>\n",
       "      <td>Ou-_OQUNvBcaAoRU0XPtaQ</td>\n",
       "      <td>0.511939</td>\n",
       "      <td>0.095519</td>\n",
       "      <td>0.001228</td>\n",
       "      <td>0.000000</td>\n",
       "      <td>0.391314</td>\n",
       "      <td>0.000000</td>\n",
       "    </tr>\n",
       "  </tbody>\n",
       "</table>\n",
       "</div>"
      ],
      "text/plain": [
       "              business_id   topic_1   topic_2   topic_3   topic_4   topic_5  \\\n",
       "0  4R2KR_-FybS7oegGrXjHVg  0.411608  0.333495  0.000000  0.000000  0.031340   \n",
       "1  mUIBtlWNPD7sz3rGGWQ1RA  0.621834  0.145700  0.000000  0.000000  0.232466   \n",
       "2  -mIlmp5l4hKlp1tvHRdvTg  0.000000  0.701594  0.000000  0.000000  0.290622   \n",
       "3  gvD09Ev1aOmphtlq07zYEA  0.489859  0.005281  0.066384  0.438476  0.000000   \n",
       "4  Ou-_OQUNvBcaAoRU0XPtaQ  0.511939  0.095519  0.001228  0.000000  0.391314   \n",
       "\n",
       "    topic_6  \n",
       "0  0.223557  \n",
       "1  0.000000  \n",
       "2  0.007784  \n",
       "3  0.000000  \n",
       "4  0.000000  "
      ]
     },
     "execution_count": 21,
     "metadata": {},
     "output_type": "execute_result"
    }
   ],
   "source": [
    "# peek into a dataframe to ensure it worked right\n",
    "pos_reviews_df.head(5)"
   ]
  },
  {
   "cell_type": "markdown",
   "id": "49047800",
   "metadata": {},
   "source": [
    "## group the reviews by businesses and calculate the average topic weights by businesses"
   ]
  },
  {
   "cell_type": "code",
   "execution_count": 22,
   "id": "309cf84c",
   "metadata": {},
   "outputs": [],
   "source": [
    "# group by business_id and apply mean/count functions to columns\n",
    "pos_reviews_df = pos_reviews_df.groupby('business_id').agg({'topic_1':'mean', 'topic_2':'mean', \n",
    "                                                            'topic_3':'mean', 'topic_4':'mean',\n",
    "                                                            'topic_5':'mean', 'topic_6':'mean'}).reset_index()\n",
    "neg_reviews_df = neg_reviews_df.groupby('business_id').agg({'topic_1':'mean', 'topic_2':'mean', \n",
    "                                                            'topic_3':'mean', 'topic_4':'mean',\n",
    "                                                            'topic_5':'mean', 'topic_6':'mean'}).reset_index()"
   ]
  },
  {
   "cell_type": "code",
   "execution_count": 23,
   "id": "4941a326",
   "metadata": {},
   "outputs": [
    {
     "data": {
      "text/html": [
       "<div>\n",
       "<style scoped>\n",
       "    .dataframe tbody tr th:only-of-type {\n",
       "        vertical-align: middle;\n",
       "    }\n",
       "\n",
       "    .dataframe tbody tr th {\n",
       "        vertical-align: top;\n",
       "    }\n",
       "\n",
       "    .dataframe thead th {\n",
       "        text-align: right;\n",
       "    }\n",
       "</style>\n",
       "<table border=\"1\" class=\"dataframe\">\n",
       "  <thead>\n",
       "    <tr style=\"text-align: right;\">\n",
       "      <th></th>\n",
       "      <th>business_id</th>\n",
       "      <th>name</th>\n",
       "      <th>address</th>\n",
       "      <th>city</th>\n",
       "      <th>state</th>\n",
       "      <th>postal_code</th>\n",
       "      <th>latitude</th>\n",
       "      <th>longitude</th>\n",
       "      <th>stars</th>\n",
       "      <th>review_count</th>\n",
       "      <th>is_open</th>\n",
       "      <th>attributes</th>\n",
       "      <th>categories</th>\n",
       "      <th>hours</th>\n",
       "      <th>general_category</th>\n",
       "    </tr>\n",
       "  </thead>\n",
       "  <tbody>\n",
       "    <tr>\n",
       "      <th>0</th>\n",
       "      <td>hSbwd-VP4THYYvSKQQr6Ow</td>\n",
       "      <td>George's Famous Roast Pork and Beef</td>\n",
       "      <td>1007 S 9th St</td>\n",
       "      <td>Philadelphia</td>\n",
       "      <td>PA</td>\n",
       "      <td>19147.0</td>\n",
       "      <td>39.937345</td>\n",
       "      <td>-75.158118</td>\n",
       "      <td>4.0</td>\n",
       "      <td>27</td>\n",
       "      <td>0</td>\n",
       "      <td>{'RestaurantsReservations': 'False', 'Restaura...</td>\n",
       "      <td>Restaurants, Delis</td>\n",
       "      <td>{'Monday': '7:30-15:0', 'Tuesday': '7:30-15:0'...</td>\n",
       "      <td>Restaurants</td>\n",
       "    </tr>\n",
       "  </tbody>\n",
       "</table>\n",
       "</div>"
      ],
      "text/plain": [
       "              business_id                                 name        address  \\\n",
       "0  hSbwd-VP4THYYvSKQQr6Ow  George's Famous Roast Pork and Beef  1007 S 9th St   \n",
       "\n",
       "           city state  postal_code   latitude  longitude  stars  review_count  \\\n",
       "0  Philadelphia    PA      19147.0  39.937345 -75.158118    4.0            27   \n",
       "\n",
       "   is_open                                         attributes  \\\n",
       "0        0  {'RestaurantsReservations': 'False', 'Restaura...   \n",
       "\n",
       "           categories                                              hours  \\\n",
       "0  Restaurants, Delis  {'Monday': '7:30-15:0', 'Tuesday': '7:30-15:0'...   \n",
       "\n",
       "  general_category  \n",
       "0      Restaurants  "
      ]
     },
     "execution_count": 23,
     "metadata": {},
     "output_type": "execute_result"
    }
   ],
   "source": [
    "# read the restaurant info file\n",
    "file = \"../Datasets/Filtered_Restaurant_Dataset.csv\"\n",
    "restaurant_df = pd.read_csv(file)\n",
    "restaurant_df.head(1)"
   ]
  },
  {
   "cell_type": "markdown",
   "id": "35fdcbf6",
   "metadata": {},
   "source": [
    "### add business name, city & categories information back to the review df"
   ]
  },
  {
   "cell_type": "code",
   "execution_count": 24,
   "id": "96212a01",
   "metadata": {},
   "outputs": [],
   "source": [
    "# merge business name/city with topic data\n",
    "pos_reviews_df = pos_reviews_df.merge(restaurant_df[['business_id', 'name', 'city', 'stars', 'categories']], left_on='business_id', \n",
    "                               right_on='business_id')\n",
    "\n",
    "neg_reviews_df = neg_reviews_df.merge(restaurant_df[['business_id', 'name', 'city', 'stars', 'categories']], left_on='business_id', \n",
    "                               right_on='business_id')\n"
   ]
  },
  {
   "cell_type": "code",
   "execution_count": 25,
   "id": "151f48aa",
   "metadata": {},
   "outputs": [
    {
     "data": {
      "text/html": [
       "<div>\n",
       "<style scoped>\n",
       "    .dataframe tbody tr th:only-of-type {\n",
       "        vertical-align: middle;\n",
       "    }\n",
       "\n",
       "    .dataframe tbody tr th {\n",
       "        vertical-align: top;\n",
       "    }\n",
       "\n",
       "    .dataframe thead th {\n",
       "        text-align: right;\n",
       "    }\n",
       "</style>\n",
       "<table border=\"1\" class=\"dataframe\">\n",
       "  <thead>\n",
       "    <tr style=\"text-align: right;\">\n",
       "      <th></th>\n",
       "      <th>business_id</th>\n",
       "      <th>topic_1</th>\n",
       "      <th>topic_2</th>\n",
       "      <th>topic_3</th>\n",
       "      <th>topic_4</th>\n",
       "      <th>topic_5</th>\n",
       "      <th>topic_6</th>\n",
       "      <th>name</th>\n",
       "      <th>city</th>\n",
       "      <th>stars</th>\n",
       "      <th>categories</th>\n",
       "    </tr>\n",
       "  </thead>\n",
       "  <tbody>\n",
       "    <tr>\n",
       "      <th>0</th>\n",
       "      <td>-2-ih3mE8KPyeKVIzpBfPQ</td>\n",
       "      <td>0.169049</td>\n",
       "      <td>0.0</td>\n",
       "      <td>0.0</td>\n",
       "      <td>0.01401</td>\n",
       "      <td>0.144715</td>\n",
       "      <td>0.672226</td>\n",
       "      <td>SkyGarten</td>\n",
       "      <td>Philadelphia</td>\n",
       "      <td>3.5</td>\n",
       "      <td>American (Traditional), Bars, Restaurants, Nig...</td>\n",
       "    </tr>\n",
       "  </tbody>\n",
       "</table>\n",
       "</div>"
      ],
      "text/plain": [
       "              business_id   topic_1  topic_2  topic_3  topic_4   topic_5  \\\n",
       "0  -2-ih3mE8KPyeKVIzpBfPQ  0.169049      0.0      0.0  0.01401  0.144715   \n",
       "\n",
       "    topic_6       name          city  stars  \\\n",
       "0  0.672226  SkyGarten  Philadelphia    3.5   \n",
       "\n",
       "                                          categories  \n",
       "0  American (Traditional), Bars, Restaurants, Nig...  "
      ]
     },
     "execution_count": 25,
     "metadata": {},
     "output_type": "execute_result"
    }
   ],
   "source": [
    "pos_reviews_df.head(1)"
   ]
  },
  {
   "cell_type": "code",
   "execution_count": 26,
   "id": "bec7af73",
   "metadata": {},
   "outputs": [
    {
     "data": {
      "text/html": [
       "<div>\n",
       "<style scoped>\n",
       "    .dataframe tbody tr th:only-of-type {\n",
       "        vertical-align: middle;\n",
       "    }\n",
       "\n",
       "    .dataframe tbody tr th {\n",
       "        vertical-align: top;\n",
       "    }\n",
       "\n",
       "    .dataframe thead th {\n",
       "        text-align: right;\n",
       "    }\n",
       "</style>\n",
       "<table border=\"1\" class=\"dataframe\">\n",
       "  <thead>\n",
       "    <tr style=\"text-align: right;\">\n",
       "      <th></th>\n",
       "      <th>business_id</th>\n",
       "      <th>name</th>\n",
       "      <th>categories</th>\n",
       "      <th>city</th>\n",
       "      <th>stars</th>\n",
       "      <th>topic_1</th>\n",
       "      <th>topic_2</th>\n",
       "      <th>topic_3</th>\n",
       "      <th>topic_4</th>\n",
       "      <th>topic_5</th>\n",
       "      <th>topic_6</th>\n",
       "    </tr>\n",
       "  </thead>\n",
       "  <tbody>\n",
       "    <tr>\n",
       "      <th>0</th>\n",
       "      <td>-2-ih3mE8KPyeKVIzpBfPQ</td>\n",
       "      <td>SkyGarten</td>\n",
       "      <td>American (Traditional), Bars, Restaurants, Nig...</td>\n",
       "      <td>Philadelphia</td>\n",
       "      <td>3.5</td>\n",
       "      <td>0.169049</td>\n",
       "      <td>0.0</td>\n",
       "      <td>0.0</td>\n",
       "      <td>0.01401</td>\n",
       "      <td>0.144715</td>\n",
       "      <td>0.672226</td>\n",
       "    </tr>\n",
       "  </tbody>\n",
       "</table>\n",
       "</div>"
      ],
      "text/plain": [
       "              business_id       name  \\\n",
       "0  -2-ih3mE8KPyeKVIzpBfPQ  SkyGarten   \n",
       "\n",
       "                                          categories          city  stars  \\\n",
       "0  American (Traditional), Bars, Restaurants, Nig...  Philadelphia    3.5   \n",
       "\n",
       "    topic_1  topic_2  topic_3  topic_4   topic_5   topic_6  \n",
       "0  0.169049      0.0      0.0  0.01401  0.144715  0.672226  "
      ]
     },
     "execution_count": 26,
     "metadata": {},
     "output_type": "execute_result"
    }
   ],
   "source": [
    "# rearrange dataframe\n",
    "pos_reviews_df = pos_reviews_df[['business_id' , 'name' , 'categories' , 'city' , 'stars' , 'topic_1' , 'topic_2' , 'topic_3' , 'topic_4' , 'topic_5' , 'topic_6']]\n",
    "neg_reviews_df = neg_reviews_df[['business_id' , 'name' , 'categories' , 'city' , 'stars' , 'topic_1' , 'topic_2' , 'topic_3' , 'topic_4' , 'topic_5' , 'topic_6']]\n",
    "pos_reviews_df.head(1)"
   ]
  },
  {
   "cell_type": "markdown",
   "id": "d79e92d0",
   "metadata": {},
   "source": [
    "### With the new pos_reviews_df , we can check the restaurant that is in this dataframe that how close is the restaurant to all topics."
   ]
  },
  {
   "cell_type": "markdown",
   "id": "e445a6de",
   "metadata": {},
   "source": [
    "Let take a restaurant 'SkyGarten' as Example"
   ]
  },
  {
   "cell_type": "code",
   "execution_count": 27,
   "id": "c7c87665",
   "metadata": {},
   "outputs": [
    {
     "name": "stdout",
     "output_type": "stream",
     "text": [
      "Restaurant : SkyGarten - Positive Reviews topics\n",
      "--------------------------------------------------\n",
      "Topic 1: order/delicious/dish         -> 0.1690\n",
      "Topic 2: sandwich/cheese/steak/pork   -> 0.0000\n",
      "Topic 3: pizza/food                   -> 0.0000\n",
      "Topic 4: place/terminal/market        -> 0.0140\n",
      "Topic 5: service/staff/recommend      -> 0.1447\n",
      "Topic 6: happy_hour/beer/drink        -> 0.6722\n"
     ]
    }
   ],
   "source": [
    "topics_weights = pos_reviews_df[pos_reviews_df.business_id == '-2-ih3mE8KPyeKVIzpBfPQ'].iloc[:,-6:].values\n",
    "print('Restaurant : ' + restaurant_df[restaurant_df.business_id == '-2-ih3mE8KPyeKVIzpBfPQ']['name'].values[0] + ' - Positive Reviews topics')\n",
    "print('-'*50)\n",
    "for n in pos_topics:\n",
    "    print('Topic {}: {:28} -> {:.4f}'.format(n+1, pos_topics[n], topics_weights[0][n]))"
   ]
  },
  {
   "cell_type": "markdown",
   "id": "e53c2770",
   "metadata": {},
   "source": [
    "---"
   ]
  },
  {
   "cell_type": "markdown",
   "id": "8b9ba28f",
   "metadata": {},
   "source": [
    "### Export to CSV"
   ]
  },
  {
   "cell_type": "code",
   "execution_count": 29,
   "id": "ac759b64",
   "metadata": {},
   "outputs": [],
   "source": [
    "pos_reviews_df.to_csv('../Datasets/Positive_Restaurant_Topics.csv')\n",
    "neg_reviews_df.to_csv('../Datasets/Negative_Restaurant_Topics.csv')"
   ]
  },
  {
   "cell_type": "code",
   "execution_count": null,
   "id": "eada45ca",
   "metadata": {},
   "outputs": [],
   "source": []
  }
 ],
 "metadata": {
  "kernelspec": {
   "display_name": "Python 3 (ipykernel)",
   "language": "python",
   "name": "python3"
  },
  "language_info": {
   "codemirror_mode": {
    "name": "ipython",
    "version": 3
   },
   "file_extension": ".py",
   "mimetype": "text/x-python",
   "name": "python",
   "nbconvert_exporter": "python",
   "pygments_lexer": "ipython3",
   "version": "3.10.7"
  }
 },
 "nbformat": 4,
 "nbformat_minor": 5
}
