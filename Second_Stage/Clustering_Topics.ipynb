{
 "cells": [
  {
   "cell_type": "markdown",
   "id": "387b94c3",
   "metadata": {},
   "source": [
    "# Kmean clustering by topics weights to find similar restaurants"
   ]
  },
  {
   "cell_type": "markdown",
   "id": "0558e6b3",
   "metadata": {},
   "source": [
    "## Import necessary libraries "
   ]
  },
  {
   "cell_type": "code",
   "execution_count": 24,
   "id": "dbd28c88",
   "metadata": {},
   "outputs": [],
   "source": [
    "import pandas as pd\n",
    "import matplotlib.pyplot as plt\n",
    "from sklearn.cluster import KMeans"
   ]
  },
  {
   "cell_type": "markdown",
   "id": "e54dbd3f",
   "metadata": {},
   "source": [
    "## Read the restaurant business with topics weights datasets"
   ]
  },
  {
   "cell_type": "code",
   "execution_count": 25,
   "id": "6664dc6b",
   "metadata": {},
   "outputs": [],
   "source": [
    "pos_restaurant_topic_file = 'Positive_Restaurant_Topics.csv'\n",
    "df_pos_restaurant_topic = pd.read_csv(pos_restaurant_topic_file)\n",
    "del df_pos_restaurant_topic['Unnamed: 0']"
   ]
  },
  {
   "cell_type": "code",
   "execution_count": 26,
   "id": "a427780c",
   "metadata": {},
   "outputs": [
    {
     "data": {
      "text/html": [
       "<div>\n",
       "<style scoped>\n",
       "    .dataframe tbody tr th:only-of-type {\n",
       "        vertical-align: middle;\n",
       "    }\n",
       "\n",
       "    .dataframe tbody tr th {\n",
       "        vertical-align: top;\n",
       "    }\n",
       "\n",
       "    .dataframe thead th {\n",
       "        text-align: right;\n",
       "    }\n",
       "</style>\n",
       "<table border=\"1\" class=\"dataframe\">\n",
       "  <thead>\n",
       "    <tr style=\"text-align: right;\">\n",
       "      <th></th>\n",
       "      <th>business_id</th>\n",
       "      <th>name</th>\n",
       "      <th>categories</th>\n",
       "      <th>city</th>\n",
       "      <th>stars</th>\n",
       "      <th>topic_1</th>\n",
       "      <th>topic_2</th>\n",
       "      <th>topic_3</th>\n",
       "      <th>topic_4</th>\n",
       "      <th>topic_5</th>\n",
       "      <th>topic_6</th>\n",
       "    </tr>\n",
       "  </thead>\n",
       "  <tbody>\n",
       "    <tr>\n",
       "      <th>0</th>\n",
       "      <td>-2-ih3mE8KPyeKVIzpBfPQ</td>\n",
       "      <td>SkyGarten</td>\n",
       "      <td>American (Traditional), Bars, Restaurants, Nig...</td>\n",
       "      <td>Philadelphia</td>\n",
       "      <td>3.5</td>\n",
       "      <td>0.170043</td>\n",
       "      <td>0.000000</td>\n",
       "      <td>0.00000</td>\n",
       "      <td>0.014064</td>\n",
       "      <td>0.145168</td>\n",
       "      <td>0.670726</td>\n",
       "    </tr>\n",
       "    <tr>\n",
       "      <th>1</th>\n",
       "      <td>-T_lkOvaK39R-Ufg6VUyxg</td>\n",
       "      <td>Magpie</td>\n",
       "      <td>Desserts, Food, Coffee &amp; Tea, Restaurants</td>\n",
       "      <td>Philadelphia</td>\n",
       "      <td>4.5</td>\n",
       "      <td>0.499080</td>\n",
       "      <td>0.016986</td>\n",
       "      <td>0.18418</td>\n",
       "      <td>0.145433</td>\n",
       "      <td>0.098592</td>\n",
       "      <td>0.055729</td>\n",
       "    </tr>\n",
       "    <tr>\n",
       "      <th>2</th>\n",
       "      <td>-V0vIgo6196MDn_x3ZaYmA</td>\n",
       "      <td>La Creperie Cafe</td>\n",
       "      <td>Restaurants, Cafes, Creperies</td>\n",
       "      <td>Philadelphia</td>\n",
       "      <td>3.5</td>\n",
       "      <td>0.224335</td>\n",
       "      <td>0.164131</td>\n",
       "      <td>0.03775</td>\n",
       "      <td>0.227311</td>\n",
       "      <td>0.272450</td>\n",
       "      <td>0.074022</td>\n",
       "    </tr>\n",
       "  </tbody>\n",
       "</table>\n",
       "</div>"
      ],
      "text/plain": [
       "              business_id              name  \\\n",
       "0  -2-ih3mE8KPyeKVIzpBfPQ         SkyGarten   \n",
       "1  -T_lkOvaK39R-Ufg6VUyxg            Magpie   \n",
       "2  -V0vIgo6196MDn_x3ZaYmA  La Creperie Cafe   \n",
       "\n",
       "                                          categories          city  stars  \\\n",
       "0  American (Traditional), Bars, Restaurants, Nig...  Philadelphia    3.5   \n",
       "1          Desserts, Food, Coffee & Tea, Restaurants  Philadelphia    4.5   \n",
       "2                      Restaurants, Cafes, Creperies  Philadelphia    3.5   \n",
       "\n",
       "    topic_1   topic_2  topic_3   topic_4   topic_5   topic_6  \n",
       "0  0.170043  0.000000  0.00000  0.014064  0.145168  0.670726  \n",
       "1  0.499080  0.016986  0.18418  0.145433  0.098592  0.055729  \n",
       "2  0.224335  0.164131  0.03775  0.227311  0.272450  0.074022  "
      ]
     },
     "execution_count": 26,
     "metadata": {},
     "output_type": "execute_result"
    }
   ],
   "source": [
    "df_pos_restaurant_topic.head(3)"
   ]
  },
  {
   "cell_type": "code",
   "execution_count": 27,
   "id": "90bec14a",
   "metadata": {},
   "outputs": [
    {
     "data": {
      "text/html": [
       "<div>\n",
       "<style scoped>\n",
       "    .dataframe tbody tr th:only-of-type {\n",
       "        vertical-align: middle;\n",
       "    }\n",
       "\n",
       "    .dataframe tbody tr th {\n",
       "        vertical-align: top;\n",
       "    }\n",
       "\n",
       "    .dataframe thead th {\n",
       "        text-align: right;\n",
       "    }\n",
       "</style>\n",
       "<table border=\"1\" class=\"dataframe\">\n",
       "  <thead>\n",
       "    <tr style=\"text-align: right;\">\n",
       "      <th></th>\n",
       "      <th>topic_1</th>\n",
       "      <th>topic_2</th>\n",
       "      <th>topic_3</th>\n",
       "      <th>topic_4</th>\n",
       "      <th>topic_5</th>\n",
       "      <th>topic_6</th>\n",
       "    </tr>\n",
       "  </thead>\n",
       "  <tbody>\n",
       "    <tr>\n",
       "      <th>0</th>\n",
       "      <td>0.170043</td>\n",
       "      <td>0.000000</td>\n",
       "      <td>0.00000</td>\n",
       "      <td>0.014064</td>\n",
       "      <td>0.145168</td>\n",
       "      <td>0.670726</td>\n",
       "    </tr>\n",
       "    <tr>\n",
       "      <th>1</th>\n",
       "      <td>0.499080</td>\n",
       "      <td>0.016986</td>\n",
       "      <td>0.18418</td>\n",
       "      <td>0.145433</td>\n",
       "      <td>0.098592</td>\n",
       "      <td>0.055729</td>\n",
       "    </tr>\n",
       "    <tr>\n",
       "      <th>2</th>\n",
       "      <td>0.224335</td>\n",
       "      <td>0.164131</td>\n",
       "      <td>0.03775</td>\n",
       "      <td>0.227311</td>\n",
       "      <td>0.272450</td>\n",
       "      <td>0.074022</td>\n",
       "    </tr>\n",
       "  </tbody>\n",
       "</table>\n",
       "</div>"
      ],
      "text/plain": [
       "    topic_1   topic_2  topic_3   topic_4   topic_5   topic_6\n",
       "0  0.170043  0.000000  0.00000  0.014064  0.145168  0.670726\n",
       "1  0.499080  0.016986  0.18418  0.145433  0.098592  0.055729\n",
       "2  0.224335  0.164131  0.03775  0.227311  0.272450  0.074022"
      ]
     },
     "execution_count": 27,
     "metadata": {},
     "output_type": "execute_result"
    }
   ],
   "source": [
    "df_pos_res_clus =  df_pos_restaurant_topic[['topic_1' , 'topic_2' , 'topic_3' , 'topic_4' , 'topic_5' , 'topic_6']]\n",
    "df_pos_res_clus.head(3)"
   ]
  },
  {
   "cell_type": "markdown",
   "id": "5f9a5b86",
   "metadata": {},
   "source": [
    "## Apply K-Means clustering method"
   ]
  },
  {
   "cell_type": "code",
   "execution_count": 28,
   "id": "87870f12",
   "metadata": {},
   "outputs": [
    {
     "name": "stdout",
     "output_type": "stream",
     "text": [
      "[[0.55596943 0.04925348 0.02603008 0.12916122 0.1769055  0.06268029]\n",
      " [0.16490808 0.05234165 0.02587004 0.13162187 0.18819902 0.43705933]\n",
      " [0.3163212  0.05819385 0.02531286 0.10615383 0.40370722 0.09031103]\n",
      " [0.11747272 0.04679387 0.61751602 0.06879234 0.09546997 0.05395508]\n",
      " [0.18804789 0.46598931 0.0430542  0.13922931 0.1103424  0.05333689]\n",
      " [0.25790211 0.07230473 0.0314339  0.37047974 0.18766266 0.08021685]]\n"
     ]
    }
   ],
   "source": [
    "kmeans = KMeans(n_clusters=6).fit(df_pos_res_clus) #compute k-means clustering\n",
    "centroids = kmeans.cluster_centers_ # get cluster center\n",
    "clusters = kmeans.predict(df_pos_res_clus)\n",
    "df_pos_restaurant_topic.insert(11,\"cluster\",clusters,True)\n",
    "print(centroids)\n"
   ]
  },
  {
   "cell_type": "code",
   "execution_count": 79,
   "id": "2af12c41",
   "metadata": {},
   "outputs": [
    {
     "data": {
      "text/html": [
       "<div>\n",
       "<style scoped>\n",
       "    .dataframe tbody tr th:only-of-type {\n",
       "        vertical-align: middle;\n",
       "    }\n",
       "\n",
       "    .dataframe tbody tr th {\n",
       "        vertical-align: top;\n",
       "    }\n",
       "\n",
       "    .dataframe thead th {\n",
       "        text-align: right;\n",
       "    }\n",
       "</style>\n",
       "<table border=\"1\" class=\"dataframe\">\n",
       "  <thead>\n",
       "    <tr style=\"text-align: right;\">\n",
       "      <th></th>\n",
       "      <th>business_id</th>\n",
       "      <th>name</th>\n",
       "      <th>categories</th>\n",
       "      <th>city</th>\n",
       "      <th>stars</th>\n",
       "      <th>topic_1</th>\n",
       "      <th>topic_2</th>\n",
       "      <th>topic_3</th>\n",
       "      <th>topic_4</th>\n",
       "      <th>topic_5</th>\n",
       "      <th>topic_6</th>\n",
       "      <th>cluster</th>\n",
       "    </tr>\n",
       "  </thead>\n",
       "  <tbody>\n",
       "    <tr>\n",
       "      <th>0</th>\n",
       "      <td>-2-ih3mE8KPyeKVIzpBfPQ</td>\n",
       "      <td>SkyGarten</td>\n",
       "      <td>American (Traditional), Bars, Restaurants, Nig...</td>\n",
       "      <td>Philadelphia</td>\n",
       "      <td>3.5</td>\n",
       "      <td>0.170043</td>\n",
       "      <td>0.000000</td>\n",
       "      <td>0.00000</td>\n",
       "      <td>0.014064</td>\n",
       "      <td>0.145168</td>\n",
       "      <td>0.670726</td>\n",
       "      <td>1</td>\n",
       "    </tr>\n",
       "    <tr>\n",
       "      <th>1</th>\n",
       "      <td>-T_lkOvaK39R-Ufg6VUyxg</td>\n",
       "      <td>Magpie</td>\n",
       "      <td>Desserts, Food, Coffee &amp; Tea, Restaurants</td>\n",
       "      <td>Philadelphia</td>\n",
       "      <td>4.5</td>\n",
       "      <td>0.499080</td>\n",
       "      <td>0.016986</td>\n",
       "      <td>0.18418</td>\n",
       "      <td>0.145433</td>\n",
       "      <td>0.098592</td>\n",
       "      <td>0.055729</td>\n",
       "      <td>0</td>\n",
       "    </tr>\n",
       "    <tr>\n",
       "      <th>2</th>\n",
       "      <td>-V0vIgo6196MDn_x3ZaYmA</td>\n",
       "      <td>La Creperie Cafe</td>\n",
       "      <td>Restaurants, Cafes, Creperies</td>\n",
       "      <td>Philadelphia</td>\n",
       "      <td>3.5</td>\n",
       "      <td>0.224335</td>\n",
       "      <td>0.164131</td>\n",
       "      <td>0.03775</td>\n",
       "      <td>0.227311</td>\n",
       "      <td>0.272450</td>\n",
       "      <td>0.074022</td>\n",
       "      <td>5</td>\n",
       "    </tr>\n",
       "  </tbody>\n",
       "</table>\n",
       "</div>"
      ],
      "text/plain": [
       "              business_id              name  \\\n",
       "0  -2-ih3mE8KPyeKVIzpBfPQ         SkyGarten   \n",
       "1  -T_lkOvaK39R-Ufg6VUyxg            Magpie   \n",
       "2  -V0vIgo6196MDn_x3ZaYmA  La Creperie Cafe   \n",
       "\n",
       "                                          categories          city  stars  \\\n",
       "0  American (Traditional), Bars, Restaurants, Nig...  Philadelphia    3.5   \n",
       "1          Desserts, Food, Coffee & Tea, Restaurants  Philadelphia    4.5   \n",
       "2                      Restaurants, Cafes, Creperies  Philadelphia    3.5   \n",
       "\n",
       "    topic_1   topic_2  topic_3   topic_4   topic_5   topic_6  cluster  \n",
       "0  0.170043  0.000000  0.00000  0.014064  0.145168  0.670726        1  \n",
       "1  0.499080  0.016986  0.18418  0.145433  0.098592  0.055729        0  \n",
       "2  0.224335  0.164131  0.03775  0.227311  0.272450  0.074022        5  "
      ]
     },
     "execution_count": 79,
     "metadata": {},
     "output_type": "execute_result"
    }
   ],
   "source": [
    "df_pos_restaurant_topic.head(3)"
   ]
  },
  {
   "cell_type": "code",
   "execution_count": 30,
   "id": "adf82b9e",
   "metadata": {},
   "outputs": [],
   "source": [
    "df_pos_restaurant_topic_c0 = df_pos_restaurant_topic[df_pos_restaurant_topic['cluster'] == 0]\n",
    "df_pos_restaurant_topic_c1 = df_pos_restaurant_topic[df_pos_restaurant_topic['cluster'] == 1]\n",
    "df_pos_restaurant_topic_c2 = df_pos_restaurant_topic[df_pos_restaurant_topic['cluster'] == 2]\n",
    "df_pos_restaurant_topic_c3 = df_pos_restaurant_topic[df_pos_restaurant_topic['cluster'] == 3]\n",
    "df_pos_restaurant_topic_c4 = df_pos_restaurant_topic[df_pos_restaurant_topic['cluster'] == 4]\n",
    "df_pos_restaurant_topic_c5 = df_pos_restaurant_topic[df_pos_restaurant_topic['cluster'] == 5]"
   ]
  },
  {
   "cell_type": "markdown",
   "id": "04e845b5",
   "metadata": {},
   "source": [
    "## Restaurant similar to 'The Pizza Place'"
   ]
  },
  {
   "cell_type": "markdown",
   "id": "6e0c3501",
   "metadata": {},
   "source": [
    "Function : retrieve_similar_res\n",
    "</br>\n",
    "Parameter : restaurant name\n",
    "</br>\n",
    "output : a list of similar restaurants"
   ]
  },
  {
   "cell_type": "code",
   "execution_count": 132,
   "id": "0f19313c",
   "metadata": {},
   "outputs": [],
   "source": [
    "def retrieve_similar_res(res_name):\n",
    "    res_info = df_pos_restaurant_topic[df_pos_restaurant_topic['name'] == res_name]\n",
    "    res_info = res_info.reset_index(drop=True)\n",
    "    res_cluster = res_info['cluster'][0]\n",
    "    df_result = df_pos_restaurant_topic[(df_pos_restaurant_topic['cluster'] == res_cluster) & (df_pos_restaurant_topic['name'] != res_name)]\n",
    "    df_result = df_result.reset_index(drop=True)\n",
    "    print(\"Restaurant Similar to '{}': \".format(res_name))\n",
    "    print('='*50)\n",
    "    for n in range(0 , len(df_result)):\n",
    "        print('Restaurant: {} \\ncategories: {:50}'.format(df_result['name'][n], df_result['categories'][n]))\n",
    "        print('-'*50)\n"
   ]
  },
  {
   "cell_type": "code",
   "execution_count": 133,
   "id": "4e171f36",
   "metadata": {},
   "outputs": [
    {
     "name": "stdout",
     "output_type": "stream",
     "text": [
      "Restaurant Similar to 'The Pizza Place': \n",
      "==================================================\n",
      "Restaurant: Francoluigi's Pizzeria & Italian Restaurant \n",
      "categories: Italian, Restaurants, Pizza                       \n",
      "--------------------------------------------------\n",
      "Restaurant: Lazos Pizza & Grill \n",
      "categories: Pizza, American (Traditional), Restaurants, Italian\n",
      "--------------------------------------------------\n",
      "Restaurant: Bufad \n",
      "categories: Desserts, Event Planning & Services, Caterers, Vegetarian, Pizza, Restaurants, Food, Italian, Venues & Event Spaces\n",
      "--------------------------------------------------\n",
      "Restaurant: Kosmo Pizza & Grille \n",
      "categories: Restaurants, Pizza, Sandwiches, American (Traditional), Food Delivery Services, Food\n",
      "--------------------------------------------------\n",
      "Restaurant: Robert Chiarella's Gourmet Pizzeria \n",
      "categories: Pizza, Restaurants, Sandwiches, Italian           \n",
      "--------------------------------------------------\n",
      "Restaurant: The Crocodile \n",
      "categories: Nightlife, Arts & Entertainment, Food, Pizza, Restaurants, Beer, Wine & Spirits, Bars, Music Venues, Lounges\n",
      "--------------------------------------------------\n",
      "Restaurant: Mama Angelina's \n",
      "categories: Restaurants, Pizza, Sandwiches, Cheesesteaks      \n",
      "--------------------------------------------------\n",
      "Restaurant: Mack's Boardwalk Pizza \n",
      "categories: Food, Pizza, Restaurants                          \n",
      "--------------------------------------------------\n",
      "Restaurant: Mattei Family Pizza \n",
      "categories: Pizza, Restaurants                                \n",
      "--------------------------------------------------\n",
      "Restaurant: 20th Street Pizza \n",
      "categories: Vegan, Restaurants, Pizza                         \n",
      "--------------------------------------------------\n",
      "Restaurant: Nomad Pizza Company \n",
      "categories: Pizza, Italian, Salad, Restaurants                \n",
      "--------------------------------------------------\n",
      "Restaurant: Celebre Pizzeria \n",
      "categories: Pizza, Caterers, Event Planning & Services, Restaurants, Sandwiches\n",
      "--------------------------------------------------\n",
      "Restaurant: The Spot \n",
      "categories: Breakfast & Brunch, Pizza, Greek, Restaurants, Food\n",
      "--------------------------------------------------\n",
      "Restaurant: LaScala's Pronto \n",
      "categories: Salad, Italian, Pizza, Restaurants                \n",
      "--------------------------------------------------\n",
      "Restaurant: Fairmount Pizza and Grill \n",
      "categories: Restaurants, Pizza, Italian, Sandwiches           \n",
      "--------------------------------------------------\n",
      "Restaurant: Little Italy Pizza & Trattoria \n",
      "categories: Food, Restaurants, Pizza                          \n",
      "--------------------------------------------------\n",
      "Restaurant: San Lucas Pizzeria \n",
      "categories: Restaurants, Pizza, Cheesesteaks, Italian, Mexican\n",
      "--------------------------------------------------\n",
      "Restaurant: LaScala's Fire \n",
      "categories: Event Planning & Services, Venues & Event Spaces, Italian, Restaurants\n",
      "--------------------------------------------------\n",
      "Restaurant: Mr Bravo Pizza & Grill \n",
      "categories: American (New), American (Traditional), Pizza, Restaurants\n",
      "--------------------------------------------------\n",
      "Restaurant: Mama Palma's Gourmet Pizza \n",
      "categories: Italian, Salad, Restaurants, Pizza                \n",
      "--------------------------------------------------\n",
      "Restaurant: Gennaro's Pizza \n",
      "categories: Pizza, Restaurants, Food                          \n",
      "--------------------------------------------------\n",
      "Restaurant: &pizza - Walnut \n",
      "categories: Pizza, Vegetarian, Restaurants, Vegan             \n",
      "--------------------------------------------------\n"
     ]
    }
   ],
   "source": [
    "retrieve_similar_res(\"The Pizza Place\")"
   ]
  },
  {
   "cell_type": "code",
   "execution_count": null,
   "id": "3bcb0096",
   "metadata": {},
   "outputs": [],
   "source": []
  }
 ],
 "metadata": {
  "kernelspec": {
   "display_name": "Python 3 (ipykernel)",
   "language": "python",
   "name": "python3"
  },
  "language_info": {
   "codemirror_mode": {
    "name": "ipython",
    "version": 3
   },
   "file_extension": ".py",
   "mimetype": "text/x-python",
   "name": "python",
   "nbconvert_exporter": "python",
   "pygments_lexer": "ipython3",
   "version": "3.10.7"
  }
 },
 "nbformat": 4,
 "nbformat_minor": 5
}
