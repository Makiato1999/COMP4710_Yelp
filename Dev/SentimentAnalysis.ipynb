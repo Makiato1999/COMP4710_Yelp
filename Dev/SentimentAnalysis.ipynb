{
 "cells": [
  {
   "cell_type": "code",
   "execution_count": 1,
   "id": "1240e04b-9c49-4ce5-a495-56c687d00c16",
   "metadata": {},
   "outputs": [],
   "source": [
    "import numpy as np\n",
    "import pandas as pd\n",
    "import matplotlib.pyplot as plt\n",
    "import nltk\n",
    "import seaborn as sns"
   ]
  },
  {
   "cell_type": "markdown",
   "id": "d6d6fc7c-f73d-40e9-868f-01708c2a6207",
   "metadata": {},
   "source": [
    "# Load Reviews\n",
    "In the previous stage, we filtered the user reviews we needed by some factors such as state, city, category in Business dataset. In this step we will build a text classifier using Python’s Pandas, NLTK and Scikit-learn libraries. We will explore Reviews dataset, look for correlations between the data, use natural language processing (NLP) to process the text, and build a sentiment analysis model that predicts whether a user liked a local restaurant or not, based on their review on Yelp."
   ]
  },
  {
   "cell_type": "code",
   "execution_count": 33,
   "id": "a1af9116-c9a9-4395-8f99-14ce14467a68",
   "metadata": {},
   "outputs": [
    {
     "data": {
      "text/html": [
       "<div>\n",
       "<style scoped>\n",
       "    .dataframe tbody tr th:only-of-type {\n",
       "        vertical-align: middle;\n",
       "    }\n",
       "\n",
       "    .dataframe tbody tr th {\n",
       "        vertical-align: top;\n",
       "    }\n",
       "\n",
       "    .dataframe thead th {\n",
       "        text-align: right;\n",
       "    }\n",
       "</style>\n",
       "<table border=\"1\" class=\"dataframe\">\n",
       "  <thead>\n",
       "    <tr style=\"text-align: right;\">\n",
       "      <th></th>\n",
       "      <th>business_id</th>\n",
       "      <th>cool</th>\n",
       "      <th>date</th>\n",
       "      <th>funny</th>\n",
       "      <th>review_id</th>\n",
       "      <th>stars</th>\n",
       "      <th>text</th>\n",
       "      <th>useful</th>\n",
       "      <th>user_id</th>\n",
       "      <th>text length</th>\n",
       "    </tr>\n",
       "  </thead>\n",
       "  <tbody>\n",
       "    <tr>\n",
       "      <th>0</th>\n",
       "      <td>4fQPIhCh2bUJBZcxQlLGFQ</td>\n",
       "      <td>0</td>\n",
       "      <td>2014-08-11 11:11:00</td>\n",
       "      <td>0</td>\n",
       "      <td>Rr_613GjMqQKfh5NAWlyMQ</td>\n",
       "      <td>4.0</td>\n",
       "      <td>Listen up, this is a good buffet - a buffet - ...</td>\n",
       "      <td>0</td>\n",
       "      <td>ba9Fz4_S5S1maikWswBEpQ</td>\n",
       "      <td>481</td>\n",
       "    </tr>\n",
       "    <tr>\n",
       "      <th>1</th>\n",
       "      <td>V9XlikTxq0My4gE8LULsjw</td>\n",
       "      <td>0</td>\n",
       "      <td>2016-09-06 02:45:41</td>\n",
       "      <td>0</td>\n",
       "      <td>a1VP27bgzixzrI6WOPP1jQ</td>\n",
       "      <td>5.0</td>\n",
       "      <td>Came in at 6:30 pm on Labor Day for dinner on ...</td>\n",
       "      <td>0</td>\n",
       "      <td>DhfFfbGGFv9yorH5KDEWYQ</td>\n",
       "      <td>868</td>\n",
       "    </tr>\n",
       "    <tr>\n",
       "      <th>2</th>\n",
       "      <td>DsKzHnkLKnxZTVsFpts4oA</td>\n",
       "      <td>0</td>\n",
       "      <td>2017-07-18 19:10:43</td>\n",
       "      <td>0</td>\n",
       "      <td>DGq-K-XhBq4ViKL-I0i6pw</td>\n",
       "      <td>4.0</td>\n",
       "      <td>It's a nice two-leveled tavern, right across f...</td>\n",
       "      <td>0</td>\n",
       "      <td>Zt9dmWEJmX6oBNNDWS_whw</td>\n",
       "      <td>395</td>\n",
       "    </tr>\n",
       "    <tr>\n",
       "      <th>3</th>\n",
       "      <td>CA5BOxKRDPGJgdUQ8OUOpw</td>\n",
       "      <td>0</td>\n",
       "      <td>2013-10-04 01:27:26</td>\n",
       "      <td>0</td>\n",
       "      <td>fB_0ZiIHbr-Nmwd-SUdSqg</td>\n",
       "      <td>5.0</td>\n",
       "      <td>We went on a Sunday night and it was surprisin...</td>\n",
       "      <td>0</td>\n",
       "      <td>Vve73msJ9nzxzhehHvpACg</td>\n",
       "      <td>670</td>\n",
       "    </tr>\n",
       "    <tr>\n",
       "      <th>4</th>\n",
       "      <td>NV6zZPb5OGVpyX4JrSzUPg</td>\n",
       "      <td>2</td>\n",
       "      <td>2018-02-24 00:14:21</td>\n",
       "      <td>1</td>\n",
       "      <td>hzXVHZTl4bB6OL-CV-zGBQ</td>\n",
       "      <td>5.0</td>\n",
       "      <td>FAN.TAS.TIC! This place is the real deal, folk...</td>\n",
       "      <td>3</td>\n",
       "      <td>970YlfubcATt-Bl8LGocFw</td>\n",
       "      <td>892</td>\n",
       "    </tr>\n",
       "  </tbody>\n",
       "</table>\n",
       "</div>"
      ],
      "text/plain": [
       "              business_id  cool                 date  funny  \\\n",
       "0  4fQPIhCh2bUJBZcxQlLGFQ     0  2014-08-11 11:11:00      0   \n",
       "1  V9XlikTxq0My4gE8LULsjw     0  2016-09-06 02:45:41      0   \n",
       "2  DsKzHnkLKnxZTVsFpts4oA     0  2017-07-18 19:10:43      0   \n",
       "3  CA5BOxKRDPGJgdUQ8OUOpw     0  2013-10-04 01:27:26      0   \n",
       "4  NV6zZPb5OGVpyX4JrSzUPg     2  2018-02-24 00:14:21      1   \n",
       "\n",
       "                review_id  stars  \\\n",
       "0  Rr_613GjMqQKfh5NAWlyMQ    4.0   \n",
       "1  a1VP27bgzixzrI6WOPP1jQ    5.0   \n",
       "2  DGq-K-XhBq4ViKL-I0i6pw    4.0   \n",
       "3  fB_0ZiIHbr-Nmwd-SUdSqg    5.0   \n",
       "4  hzXVHZTl4bB6OL-CV-zGBQ    5.0   \n",
       "\n",
       "                                                text  useful  \\\n",
       "0  Listen up, this is a good buffet - a buffet - ...       0   \n",
       "1  Came in at 6:30 pm on Labor Day for dinner on ...       0   \n",
       "2  It's a nice two-leveled tavern, right across f...       0   \n",
       "3  We went on a Sunday night and it was surprisin...       0   \n",
       "4  FAN.TAS.TIC! This place is the real deal, folk...       3   \n",
       "\n",
       "                  user_id  text length  \n",
       "0  ba9Fz4_S5S1maikWswBEpQ          481  \n",
       "1  DhfFfbGGFv9yorH5KDEWYQ          868  \n",
       "2  Zt9dmWEJmX6oBNNDWS_whw          395  \n",
       "3  Vve73msJ9nzxzhehHvpACg          670  \n",
       "4  970YlfubcATt-Bl8LGocFw          892  "
      ]
     },
     "execution_count": 33,
     "metadata": {},
     "output_type": "execute_result"
    }
   ],
   "source": [
    "file = \"Reviews_r5000.csv\"\n",
    "df = pd.read_csv(file)\n",
    "del df[\"Unnamed: 0\"]\n",
    "df['text length'] = df['text'].apply(len)\n",
    "df.head()"
   ]
  },
  {
   "cell_type": "code",
   "execution_count": 34,
   "id": "118862cf-0cf4-47f1-8943-6270d9629408",
   "metadata": {},
   "outputs": [
    {
     "data": {
      "text/html": [
       "<div>\n",
       "<style scoped>\n",
       "    .dataframe tbody tr th:only-of-type {\n",
       "        vertical-align: middle;\n",
       "    }\n",
       "\n",
       "    .dataframe tbody tr th {\n",
       "        vertical-align: top;\n",
       "    }\n",
       "\n",
       "    .dataframe thead th {\n",
       "        text-align: right;\n",
       "    }\n",
       "</style>\n",
       "<table border=\"1\" class=\"dataframe\">\n",
       "  <thead>\n",
       "    <tr style=\"text-align: right;\">\n",
       "      <th></th>\n",
       "      <th>cool</th>\n",
       "      <th>funny</th>\n",
       "      <th>stars</th>\n",
       "      <th>useful</th>\n",
       "      <th>text length</th>\n",
       "    </tr>\n",
       "  </thead>\n",
       "  <tbody>\n",
       "    <tr>\n",
       "      <th>count</th>\n",
       "      <td>5000.000000</td>\n",
       "      <td>5000.000000</td>\n",
       "      <td>5000.000000</td>\n",
       "      <td>5000.000000</td>\n",
       "      <td>5000.00000</td>\n",
       "    </tr>\n",
       "    <tr>\n",
       "      <th>mean</th>\n",
       "      <td>0.520800</td>\n",
       "      <td>0.328200</td>\n",
       "      <td>3.753200</td>\n",
       "      <td>1.240800</td>\n",
       "      <td>569.36240</td>\n",
       "    </tr>\n",
       "    <tr>\n",
       "      <th>std</th>\n",
       "      <td>2.441467</td>\n",
       "      <td>1.594175</td>\n",
       "      <td>1.467897</td>\n",
       "      <td>3.528074</td>\n",
       "      <td>526.15703</td>\n",
       "    </tr>\n",
       "    <tr>\n",
       "      <th>min</th>\n",
       "      <td>0.000000</td>\n",
       "      <td>0.000000</td>\n",
       "      <td>1.000000</td>\n",
       "      <td>0.000000</td>\n",
       "      <td>27.00000</td>\n",
       "    </tr>\n",
       "    <tr>\n",
       "      <th>25%</th>\n",
       "      <td>0.000000</td>\n",
       "      <td>0.000000</td>\n",
       "      <td>3.000000</td>\n",
       "      <td>0.000000</td>\n",
       "      <td>231.00000</td>\n",
       "    </tr>\n",
       "    <tr>\n",
       "      <th>50%</th>\n",
       "      <td>0.000000</td>\n",
       "      <td>0.000000</td>\n",
       "      <td>4.000000</td>\n",
       "      <td>0.000000</td>\n",
       "      <td>408.00000</td>\n",
       "    </tr>\n",
       "    <tr>\n",
       "      <th>75%</th>\n",
       "      <td>0.000000</td>\n",
       "      <td>0.000000</td>\n",
       "      <td>5.000000</td>\n",
       "      <td>1.000000</td>\n",
       "      <td>722.00000</td>\n",
       "    </tr>\n",
       "    <tr>\n",
       "      <th>max</th>\n",
       "      <td>127.000000</td>\n",
       "      <td>81.000000</td>\n",
       "      <td>5.000000</td>\n",
       "      <td>135.000000</td>\n",
       "      <td>4972.00000</td>\n",
       "    </tr>\n",
       "  </tbody>\n",
       "</table>\n",
       "</div>"
      ],
      "text/plain": [
       "              cool        funny        stars       useful  text length\n",
       "count  5000.000000  5000.000000  5000.000000  5000.000000   5000.00000\n",
       "mean      0.520800     0.328200     3.753200     1.240800    569.36240\n",
       "std       2.441467     1.594175     1.467897     3.528074    526.15703\n",
       "min       0.000000     0.000000     1.000000     0.000000     27.00000\n",
       "25%       0.000000     0.000000     3.000000     0.000000    231.00000\n",
       "50%       0.000000     0.000000     4.000000     0.000000    408.00000\n",
       "75%       0.000000     0.000000     5.000000     1.000000    722.00000\n",
       "max     127.000000    81.000000     5.000000   135.000000   4972.00000"
      ]
     },
     "execution_count": 34,
     "metadata": {},
     "output_type": "execute_result"
    }
   ],
   "source": [
    "df.describe()"
   ]
  },
  {
   "cell_type": "markdown",
   "id": "13c73aff-423b-4632-a663-2c0dbf2ab662",
   "metadata": {},
   "source": [
    "## Search for collerations and relevant features\n",
    "Seaborn's FacetGrid allows us to create a grid of bar charts placed side-by-side. We use FacetGrid to see if there is any relationship between the text length characteristics of user reviews and star ratings."
   ]
  },
  {
   "cell_type": "code",
   "execution_count": 32,
   "id": "26530b94-e47b-49f9-b044-b6e8e1e5b986",
   "metadata": {},
   "outputs": [
    {
     "data": {
      "text/plain": [
       "<seaborn.axisgrid.FacetGrid at 0x12f4ca6d0>"
      ]
     },
     "execution_count": 32,
     "metadata": {},
     "output_type": "execute_result"
    },
    {
     "data": {
      "image/png": "[encoded data removed]",
      "text/plain": [
       "<Figure size 1500x300 with 5 Axes>"
      ]
     },
     "metadata": {},
     "output_type": "display_data"
    }
   ],
   "source": [
    "g = sns.FacetGrid(data=df, col='stars')\n",
    "g.map(plt.hist, 'text length', bins=50)"
   ]
  },
  {
   "cell_type": "markdown",
   "id": "a7304284-4770-49c2-b28a-202e44768c3f",
   "metadata": {},
   "source": [
    "从五张图的分布可以看出，大多数评论的文本长度都在0～1000左右，随着文本长度的增加，评论的数量越来越少。"
   ]
  },
  {
   "cell_type": "code",
   "execution_count": 16,
   "id": "17892aac-9e1e-455e-b331-0a8c77313aa5",
   "metadata": {},
   "outputs": [
    {
     "data": {
      "text/html": [
       "<div>\n",
       "<style scoped>\n",
       "    .dataframe tbody tr th:only-of-type {\n",
       "        vertical-align: middle;\n",
       "    }\n",
       "\n",
       "    .dataframe tbody tr th {\n",
       "        vertical-align: top;\n",
       "    }\n",
       "\n",
       "    .dataframe thead th {\n",
       "        text-align: right;\n",
       "    }\n",
       "</style>\n",
       "<table border=\"1\" class=\"dataframe\">\n",
       "  <thead>\n",
       "    <tr style=\"text-align: right;\">\n",
       "      <th></th>\n",
       "      <th>cool</th>\n",
       "      <th>funny</th>\n",
       "      <th>useful</th>\n",
       "      <th>text length</th>\n",
       "    </tr>\n",
       "  </thead>\n",
       "  <tbody>\n",
       "    <tr>\n",
       "      <th>cool</th>\n",
       "      <td>1.000000</td>\n",
       "      <td>-0.502337</td>\n",
       "      <td>-0.632625</td>\n",
       "      <td>-0.669432</td>\n",
       "    </tr>\n",
       "    <tr>\n",
       "      <th>funny</th>\n",
       "      <td>-0.502337</td>\n",
       "      <td>1.000000</td>\n",
       "      <td>0.685667</td>\n",
       "      <td>0.837723</td>\n",
       "    </tr>\n",
       "    <tr>\n",
       "      <th>useful</th>\n",
       "      <td>-0.632625</td>\n",
       "      <td>0.685667</td>\n",
       "      <td>1.000000</td>\n",
       "      <td>0.762144</td>\n",
       "    </tr>\n",
       "    <tr>\n",
       "      <th>text length</th>\n",
       "      <td>-0.669432</td>\n",
       "      <td>0.837723</td>\n",
       "      <td>0.762144</td>\n",
       "      <td>1.000000</td>\n",
       "    </tr>\n",
       "  </tbody>\n",
       "</table>\n",
       "</div>"
      ],
      "text/plain": [
       "                 cool     funny    useful  text length\n",
       "cool         1.000000 -0.502337 -0.632625    -0.669432\n",
       "funny       -0.502337  1.000000  0.685667     0.837723\n",
       "useful      -0.632625  0.685667  1.000000     0.762144\n",
       "text length -0.669432  0.837723  0.762144     1.000000"
      ]
     },
     "execution_count": 16,
     "metadata": {},
     "output_type": "execute_result"
    }
   ],
   "source": [
    "stars = df.groupby('stars').mean()\n",
    "stars.corr()"
   ]
  },
  {
   "cell_type": "code",
   "execution_count": 29,
   "id": "06ea7e3a-2d01-4de8-b4de-69c46a89c101",
   "metadata": {},
   "outputs": [
    {
     "data": {
      "text/plain": [
       "<AxesSubplot: >"
      ]
     },
     "execution_count": 29,
     "metadata": {},
     "output_type": "execute_result"
    },
    {
     "data": {
      "image/png": "[encoded data removed]",
      "text/plain": [
       "<Figure size 640x480 with 2 Axes>"
      ]
     },
     "metadata": {},
     "output_type": "display_data"
    }
   ],
   "source": [
    "sns.heatmap(data=stars.corr(), annot=True, cmap=\"GnBu\")"
   ]
  },
  {
   "cell_type": "code",
   "execution_count": null,
   "id": "06a587ef-3c08-4b35-b36c-aa08eb15a300",
   "metadata": {},
   "outputs": [],
   "source": []
  }
 ],
 "metadata": {
  "kernelspec": {
   "display_name": "Python 3 (ipykernel)",
   "language": "python",
   "name": "python3"
  },
  "language_info": {
   "codemirror_mode": {
    "name": "ipython",
    "version": 3
   },
   "file_extension": ".py",
   "mimetype": "text/x-python",
   "name": "python",
   "nbconvert_exporter": "python",
   "pygments_lexer": "ipython3",
   "version": "3.8.14"
  }
 },
 "nbformat": 4,
 "nbformat_minor": 5
}
