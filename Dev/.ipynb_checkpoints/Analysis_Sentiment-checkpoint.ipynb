{
 "cells": [
  {
   "cell_type": "markdown",
   "id": "11a9669e-c92d-45ae-81b7-b59e2e8523af",
   "metadata": {},
   "source": [
    "# Introduction\n",
    "The previous stage includes reviews text preprocessing, which is in Preprocess_Reviews.ipynb<br>\n",
    "The following stage is aim to analysis reviews sentiment"
   ]
  },
  {
   "cell_type": "code",
   "execution_count": 37,
   "id": "a9dbb51f-8804-4366-87b7-f9a3bc567865",
   "metadata": {},
   "outputs": [
    {
     "name": "stderr",
     "output_type": "stream",
     "text": [
      "[nltk_data] Downloading package vader_lexicon to\n",
      "[nltk_data]     /Users/xiexiaoran/nltk_data...\n",
      "[nltk_data] Downloading package punkt to\n",
      "[nltk_data]     /Users/xiexiaoran/nltk_data...\n",
      "[nltk_data]   Package punkt is already up-to-date!\n"
     ]
    }
   ],
   "source": [
    "import numpy as np\n",
    "import pandas as pd\n",
    "import re\n",
    "import nltk\n",
    "from nltk.sentiment.vader import SentimentIntensityAnalyzer\n",
    "nltk.download('vader_lexicon')\n",
    "from nltk.corpus import stopwords\n",
    "from nltk.tokenize import word_tokenize\n",
    "from nltk.tokenize import sent_tokenize\n",
    "nltk.download('punkt')\n",
    "from sklearn.feature_extraction._stop_words import ENGLISH_STOP_WORDS\n",
    "import seaborn as sns\n",
    "from sklearn.utils import resample\n",
    "from sklearn.model_selection import train_test_split\n",
    "from sklearn.model_selection import GridSearchCV\n",
    "from sklearn.feature_extraction.text import TfidfVectorizer\n",
    "from sklearn.feature_extraction.text import CountVectorizer\n",
    "from sklearn.metrics import confusion_matrix\n",
    "from sklearn.metrics import classification_report\n",
    "from sklearn.pipeline import Pipeline\n",
    "from sklearn.linear_model import LogisticRegression\n",
    "from sklearn import svm\n",
    "from gensim.models import Word2Vec\n",
    "import sys\n",
    "import os\n",
    "import warnings\n",
    "if not sys.warnoptions:\n",
    "    warnings.simplefilter(\"ignore\")\n",
    "    os.environ[\"PYTHONWARNINGS\"] = \"ignore\" \n",
    "\n",
    "import matplotlib.pyplot as plt\n",
    "%matplotlib inline"
   ]
  },
  {
   "cell_type": "markdown",
   "id": "b2882f14-c15d-49e7-844b-49aa4a14dab9",
   "metadata": {},
   "source": [
    "# Load reviews"
   ]
  },
  {
   "cell_type": "code",
   "execution_count": 38,
   "id": "788b8514-5d9e-442a-b96c-11e5d8bf35ef",
   "metadata": {},
   "outputs": [
    {
     "data": {
      "text/html": [
       "<div>\n",
       "<style scoped>\n",
       "    .dataframe tbody tr th:only-of-type {\n",
       "        vertical-align: middle;\n",
       "    }\n",
       "\n",
       "    .dataframe tbody tr th {\n",
       "        vertical-align: top;\n",
       "    }\n",
       "\n",
       "    .dataframe thead th {\n",
       "        text-align: right;\n",
       "    }\n",
       "</style>\n",
       "<table border=\"1\" class=\"dataframe\">\n",
       "  <thead>\n",
       "    <tr style=\"text-align: right;\">\n",
       "      <th></th>\n",
       "      <th>review_id</th>\n",
       "      <th>business_id</th>\n",
       "      <th>text</th>\n",
       "      <th>target</th>\n",
       "      <th>words</th>\n",
       "    </tr>\n",
       "  </thead>\n",
       "  <tbody>\n",
       "    <tr>\n",
       "      <th>0</th>\n",
       "      <td>Gt_h5A-A5Nt50EbaPCorvw</td>\n",
       "      <td>F8yozE3NWnImNApHO347gQ</td>\n",
       "      <td>First impression was good but their food is ho...</td>\n",
       "      <td>0.0</td>\n",
       "      <td>impression good food horrible cash idea pricey</td>\n",
       "    </tr>\n",
       "    <tr>\n",
       "      <th>1</th>\n",
       "      <td>0dELc-isYD5Av7KNsIvcRA</td>\n",
       "      <td>WxB8498ejPtHE7wFa89_fA</td>\n",
       "      <td>I've been to this location countless times, an...</td>\n",
       "      <td>0.0</td>\n",
       "      <td>location countless time time food service ambi...</td>\n",
       "    </tr>\n",
       "    <tr>\n",
       "      <th>2</th>\n",
       "      <td>Bmrq4dvmlVMGU3roXzeDgQ</td>\n",
       "      <td>-mIlmp5l4hKlp1tvHRdvTg</td>\n",
       "      <td>Seems popular- but not that delish. Short sub ...</td>\n",
       "      <td>0.0</td>\n",
       "      <td>popular delish short sub maybe typical length ...</td>\n",
       "    </tr>\n",
       "    <tr>\n",
       "      <th>3</th>\n",
       "      <td>tCP2EjtzGJ7JEHlj_8i1xw</td>\n",
       "      <td>hcxea89M_U__LADtu3C0kA</td>\n",
       "      <td>The service was great! The place was very beau...</td>\n",
       "      <td>0.0</td>\n",
       "      <td>service great place beautiful small tight rest...</td>\n",
       "    </tr>\n",
       "    <tr>\n",
       "      <th>4</th>\n",
       "      <td>3gM_kcsqfU9eqmE19kL4tw</td>\n",
       "      <td>3BJxm-HnvzdwD1zjmSbmyQ</td>\n",
       "      <td>I was at this restaurant recently and was so u...</td>\n",
       "      <td>0.0</td>\n",
       "      <td>restaurant recently unhappy purchase wonton so...</td>\n",
       "    </tr>\n",
       "  </tbody>\n",
       "</table>\n",
       "</div>"
      ],
      "text/plain": [
       "                review_id             business_id  \\\n",
       "0  Gt_h5A-A5Nt50EbaPCorvw  F8yozE3NWnImNApHO347gQ   \n",
       "1  0dELc-isYD5Av7KNsIvcRA  WxB8498ejPtHE7wFa89_fA   \n",
       "2  Bmrq4dvmlVMGU3roXzeDgQ  -mIlmp5l4hKlp1tvHRdvTg   \n",
       "3  tCP2EjtzGJ7JEHlj_8i1xw  hcxea89M_U__LADtu3C0kA   \n",
       "4  3gM_kcsqfU9eqmE19kL4tw  3BJxm-HnvzdwD1zjmSbmyQ   \n",
       "\n",
       "                                                text  target  \\\n",
       "0  First impression was good but their food is ho...     0.0   \n",
       "1  I've been to this location countless times, an...     0.0   \n",
       "2  Seems popular- but not that delish. Short sub ...     0.0   \n",
       "3  The service was great! The place was very beau...     0.0   \n",
       "4  I was at this restaurant recently and was so u...     0.0   \n",
       "\n",
       "                                               words  \n",
       "0     impression good food horrible cash idea pricey  \n",
       "1  location countless time time food service ambi...  \n",
       "2  popular delish short sub maybe typical length ...  \n",
       "3  service great place beautiful small tight rest...  \n",
       "4  restaurant recently unhappy purchase wonton so...  "
      ]
     },
     "execution_count": 38,
     "metadata": {},
     "output_type": "execute_result"
    }
   ],
   "source": [
    "file = \"Cleaned_Text_Dataset.csv\"\n",
    "df = pd.read_csv(file)\n",
    "del df[\"Unnamed: 0\"]\n",
    "df.head()"
   ]
  },
  {
   "cell_type": "markdown",
   "id": "dc15cc1b-5533-4b41-839a-d9af67736bfb",
   "metadata": {},
   "source": [
    "# Tokenization and Bag-of-Words (BoW)"
   ]
  },
  {
   "cell_type": "code",
   "execution_count": 39,
   "id": "cfbccbb3-2df8-423f-a724-773de613b8ec",
   "metadata": {},
   "outputs": [
    {
     "data": {
      "text/plain": [
       "4882    similar reviewer avoid place year simply veget...\n",
       "4931    happy pop major change work long table got rid...\n",
       "275     month track burger fi like iroquois brave prov...\n",
       "6592    husband dine wedding anniversary note occasion...\n",
       "7150    love reading terminal shop fish head pick hoag...\n",
       "Name: words, dtype: object"
      ]
     },
     "execution_count": 39,
     "metadata": {},
     "output_type": "execute_result"
    }
   ],
   "source": [
    "X = df['words'] \n",
    "y = df['target']\n",
    "X_train, X_test, y_train, y_test = train_test_split(X, y, test_size = 0.3, random_state = 42, stratify=y)\n",
    "X_train.head()"
   ]
  },
  {
   "cell_type": "code",
   "execution_count": 40,
   "id": "3c6536a8-5be4-405c-ae3a-bd63a6a15556",
   "metadata": {},
   "outputs": [
    {
     "data": {
      "text/plain": [
       "4882    1.0\n",
       "4931    1.0\n",
       "275     0.0\n",
       "6592    1.0\n",
       "7150    1.0\n",
       "Name: target, dtype: float64"
      ]
     },
     "execution_count": 40,
     "metadata": {},
     "output_type": "execute_result"
    }
   ],
   "source": [
    "y_train.head()"
   ]
  },
  {
   "cell_type": "markdown",
   "id": "edec2e8d-7cee-4ecb-8f1e-aa8e32dd525f",
   "metadata": {},
   "source": [
    "建立评估function，它可以生成confusion matrix的heatmap，直观"
   ]
  },
  {
   "cell_type": "code",
   "execution_count": 41,
   "id": "8484cf45-a611-4f3d-bb1a-b6570426df60",
   "metadata": {},
   "outputs": [],
   "source": [
    "def evaluate(y_test, predictions):\n",
    "    cf_matrix = confusion_matrix(y_test, predictions)\n",
    "    sns.heatmap(cf_matrix, annot = True, fmt = 'd',cmap=\"Blues\")\n",
    "    plt.title('Heatmap of confusion matrix for Test data')\n",
    "    plt.ylabel('True label')\n",
    "    plt.xlabel('Predicted label') "
   ]
  },
  {
   "cell_type": "markdown",
   "id": "57144e06-660d-4d15-93cd-4e1f03a913ff",
   "metadata": {},
   "source": [
    "# Vectorisation and Cross-Validation"
   ]
  },
  {
   "cell_type": "markdown",
   "id": "2612c617-7bae-431e-a33a-9d74c11d422a",
   "metadata": {},
   "source": [
    "列举我们将要实验的n-gram，【摘抄】GridSearchCV是Sklearn model_selection包的一个模块，用于超参数调整。 给定一组不同的超参数，GridSearchCV 循环浏览所有可能的超参数值和组合，并在训练数据集上拟合模型。 在这个过程中，它能够确定产生最佳精度的超参数的最佳值和组合（从给定的参数集中）【摘抄】在机器学习模型中，需要人工选择的参数称为超参数。比如随机森林中决策树的个数，人工神经网络模型中隐藏层层数和每层的节点个数，正则项中常数大小等等，他们都需要事先指定。超参数选择不恰当，就会出现欠拟合或者过拟合的问题。而在选择超参数的时候，有两个途径，一个是凭经验微调，另一个就是选择不同大小的参数，带入模型中，挑选表现最好的参数。微调的一种方法是手工调制超参数，直到找到一个好的超参数组合，这么做的话会非常冗长，你也可能没有时间探索多种组合，所以可以使用Scikit-Learn的GridSearchCV来做这项搜索工作。<br>\n",
    "这里用的是后者<br>\n",
    "可以提一下交叉验证，cross validation"
   ]
  },
  {
   "cell_type": "code",
   "execution_count": 20,
   "id": "c36b98f5-3fb0-41b4-9e60-412497111302",
   "metadata": {},
   "outputs": [],
   "source": [
    "param_grid = {'c_vectorizer__ngram_range': [(1, 1), (1, 2), (1, 3), (2, 2), (2, 3), (3, 3)]}"
   ]
  },
  {
   "cell_type": "markdown",
   "id": "6461e82c-57cd-4fd1-8204-e9093b9343c0",
   "metadata": {},
   "source": [
    "### Logistic Regression model \n",
    "找出哪个n-gram在逻辑回归模型中表现更好"
   ]
  },
  {
   "cell_type": "code",
   "execution_count": 21,
   "id": "a39cee3d-502e-4a4d-9928-c536986759ca",
   "metadata": {},
   "outputs": [
    {
     "name": "stdout",
     "output_type": "stream",
     "text": [
      "Optimal n-gram: (1, 2)\n",
      "最优参数:  {'c_vectorizer__ngram_range': (1, 2)}\n",
      "最佳性能:  0.9572187853968808\n",
      "              precision    recall  f1-score   support\n",
      "\n",
      "         0.0     0.9591    0.9917    0.9751      1088\n",
      "         1.0     0.9914    0.9577    0.9743      1088\n",
      "\n",
      "    accuracy                         0.9747      2176\n",
      "   macro avg     0.9753    0.9747    0.9747      2176\n",
      "weighted avg     0.9753    0.9747    0.9747      2176\n",
      "\n"
     ]
    }
   ],
   "source": [
    "lr_pipeline = Pipeline([\n",
    "    ('c_vectorizer', CountVectorizer()),\n",
    "    ('lr', LogisticRegression(random_state=42))\n",
    "])\n",
    "\n",
    "gs_lr = GridSearchCV(lr_pipeline, refit=True, cv=2, param_grid=param_grid, scoring='f1', n_jobs=-1)\n",
    "gs_lr.fit(X_train, y_train)\n",
    "\n",
    "print('Optimal n-gram:', gs_lr.best_estimator_.get_params()['c_vectorizer__ngram_range'])\n",
    "print(\"最优参数: \", gs_lr.best_params_)\n",
    "print(\"最佳性能: \", gs_lr.best_score_)\n",
    "\n",
    "predictions = gs_lr.predict(X_test)\n",
    "print(classification_report(y_test, predictions, digits=4))\n",
    "#evaluate(y_test, predictions)"
   ]
  },
  {
   "cell_type": "markdown",
   "id": "18e9f1a3-3a51-468c-b4f8-3277594305fe",
   "metadata": {},
   "source": [
    "### Support Vector Machine model \n",
    "找出哪个n-gram在支持向量机SVM模型中表现更好"
   ]
  },
  {
   "cell_type": "code",
   "execution_count": 22,
   "id": "5bfc5448-a7d3-472d-a91f-be1481f6ff78",
   "metadata": {},
   "outputs": [
    {
     "name": "stdout",
     "output_type": "stream",
     "text": [
      "Best ngram_range: (1, 2)\n",
      "最优参数:  {'c_vectorizer__ngram_range': (1, 2)}\n",
      "最佳性能:  0.9494188226471691\n",
      "              precision    recall  f1-score   support\n",
      "\n",
      "         0.0     0.9662    0.9724    0.9693      1088\n",
      "         1.0     0.9722    0.9660    0.9691      1088\n",
      "\n",
      "    accuracy                         0.9692      2176\n",
      "   macro avg     0.9692    0.9692    0.9692      2176\n",
      "weighted avg     0.9692    0.9692    0.9692      2176\n",
      "\n"
     ]
    }
   ],
   "source": [
    "svm_pipe = Pipeline([\n",
    "    ('c_vectorizer', CountVectorizer()),\n",
    "    ('svm', svm.SVC(max_iter=-1, random_state=42))\n",
    "])\n",
    "\n",
    "gs_svm = GridSearchCV(svm_pipe, refit=True, cv=2, param_grid=param_grid, scoring='f1', n_jobs=-1)\n",
    "gs_svm.fit(X_train, y_train)\n",
    "\n",
    "print('Best ngram_range:', gs_svm.best_estimator_.get_params()['c_vectorizer__ngram_range'])\n",
    "print(\"最优参数: \", gs_svm.best_params_)\n",
    "print(\"最佳性能: \", gs_svm.best_score_)\n",
    "\n",
    "predictions = gs_svm.predict(X_test)\n",
    "print(classification_report(y_test, predictions, digits=4))\n",
    "#evaluate(y_test, predictions)"
   ]
  },
  {
   "cell_type": "markdown",
   "id": "3816dfd3-2c4f-4dc9-9c6d-eaf2cbbdbaf7",
   "metadata": {},
   "source": [
    "对比上面逻辑回归和SVM交叉验证的结果，逻辑回归的最佳性能更好，因此我们选择最佳性能更好的逻辑回归结果，它的最优参数n-gram是（1，2）<br>\n",
    "接下来使用逻辑回归和"
   ]
  },
  {
   "cell_type": "code",
   "execution_count": 23,
   "id": "5a6c01a5-d31e-4a23-b922-3c13395ae0f1",
   "metadata": {},
   "outputs": [
    {
     "name": "stdout",
     "output_type": "stream",
     "text": [
      "Best l1_ratio: 0\n",
      "Best C: 1\n",
      "Best penalty: l2\n",
      "Best solver: lbfgs\n"
     ]
    },
    {
     "data": {
      "image/png": "[encoded data removed]",
      "text/plain": [
       "<Figure size 640x480 with 2 Axes>"
      ]
     },
     "metadata": {},
     "output_type": "display_data"
    }
   ],
   "source": [
    "grid = {\"lr__C\":[0.5, 1, 2], 'lr__l1_ratio':['none', 0, 0.1], 'lr__penalty':['l2', 'elasticnet'],\n",
    "       'lr__solver':['lbfgs', 'saga']}\n",
    "\n",
    "# Pipeline for CountVectorizer - with the best ngram_range - and Logistic Regression\n",
    "lr_pipe_2 = Pipeline([\n",
    " ('c_vectorizer', CountVectorizer(ngram_range = (1,2))),\n",
    " ('lr', LogisticRegression(max_iter=1500, random_state=42))\n",
    "])\n",
    "\n",
    "logreg_cv=GridSearchCV(lr_pipe_2, grid, scoring='f1', refit=True, cv=2, n_jobs=-1)\n",
    "logreg_cv.fit(X_train, y_train)\n",
    "\n",
    "print('Best l1_ratio:', logreg_cv.best_estimator_.get_params()['lr__l1_ratio'])\n",
    "print('Best C:', logreg_cv.best_estimator_.get_params()['lr__C'])\n",
    "print('Best penalty:', logreg_cv.best_estimator_.get_params()['lr__penalty'])\n",
    "print('Best solver:', logreg_cv.best_estimator_.get_params()['lr__solver'])\n",
    "\n",
    "predictions = logreg_cv.predict(X_test)\n",
    "evaluate(y_test, predictions)"
   ]
  },
  {
   "cell_type": "code",
   "execution_count": 24,
   "id": "30c9a8f2-ee75-44e1-906b-613f21bd335f",
   "metadata": {},
   "outputs": [
    {
     "name": "stdout",
     "output_type": "stream",
     "text": [
      "              precision    recall  f1-score   support\n",
      "\n",
      "         0.0     0.9591    0.9917    0.9751      1088\n",
      "         1.0     0.9914    0.9577    0.9743      1088\n",
      "\n",
      "    accuracy                         0.9747      2176\n",
      "   macro avg     0.9753    0.9747    0.9747      2176\n",
      "weighted avg     0.9753    0.9747    0.9747      2176\n",
      "\n"
     ]
    }
   ],
   "source": [
    "print(classification_report(y_test, predictions, digits=4))"
   ]
  },
  {
   "cell_type": "code",
   "execution_count": 16,
   "id": "d6301302-b357-441e-8130-0967b8877c53",
   "metadata": {},
   "outputs": [
    {
     "name": "stdout",
     "output_type": "stream",
     "text": [
      "<class 'pandas.core.frame.DataFrame'>\n",
      "Int64Index: 3626 entries, 3626 to 7251\n",
      "Data columns (total 7 columns):\n",
      " #   Column       Non-Null Count  Dtype  \n",
      "---  ------       --------------  -----  \n",
      " 0   review_id    3626 non-null   object \n",
      " 1   business_id  3626 non-null   object \n",
      " 2   text         3626 non-null   object \n",
      " 3   target       3626 non-null   float64\n",
      " 4   words        3626 non-null   object \n",
      " 5   tokens       3626 non-null   object \n",
      " 6   tokens_freq  3626 non-null   object \n",
      "dtypes: float64(1), object(6)\n",
      "memory usage: 226.6+ KB\n"
     ]
    },
    {
     "data": {
      "text/html": [
       "<div>\n",
       "<style scoped>\n",
       "    .dataframe tbody tr th:only-of-type {\n",
       "        vertical-align: middle;\n",
       "    }\n",
       "\n",
       "    .dataframe tbody tr th {\n",
       "        vertical-align: top;\n",
       "    }\n",
       "\n",
       "    .dataframe thead th {\n",
       "        text-align: right;\n",
       "    }\n",
       "</style>\n",
       "<table border=\"1\" class=\"dataframe\">\n",
       "  <thead>\n",
       "    <tr style=\"text-align: right;\">\n",
       "      <th></th>\n",
       "      <th>review_id</th>\n",
       "      <th>business_id</th>\n",
       "      <th>text</th>\n",
       "      <th>target</th>\n",
       "      <th>words</th>\n",
       "      <th>tokens</th>\n",
       "      <th>tokens_freq</th>\n",
       "    </tr>\n",
       "  </thead>\n",
       "  <tbody>\n",
       "    <tr>\n",
       "      <th>3626</th>\n",
       "      <td>Dkv4YJVG3vOg12i3GJxc-g</td>\n",
       "      <td>NMtUD873aWrNjljt3VOcFA</td>\n",
       "      <td>Chef Kevin Sbraga knows fried chicken. My firs...</td>\n",
       "      <td>1.0</td>\n",
       "      <td>chef kevin sbraga know fried chicken exposure ...</td>\n",
       "      <td>['chef', 'kevin', 'sbraga', 'know', 'fried', '...</td>\n",
       "      <td>&lt;FreqDist with 98 samples and 116 outcomes&gt;</td>\n",
       "    </tr>\n",
       "    <tr>\n",
       "      <th>3627</th>\n",
       "      <td>XWs3JW2wboGq_aIUk81Pzw</td>\n",
       "      <td>1NCUTTp6rIyXpwUDVv9qOA</td>\n",
       "      <td>The pizza was the best we've had in the Fairmo...</td>\n",
       "      <td>1.0</td>\n",
       "      <td>pizza good fairmount art museum brewerytown ar...</td>\n",
       "      <td>['pizza', 'good', 'fairmount', 'art', 'museum'...</td>\n",
       "      <td>&lt;FreqDist with 23 samples and 27 outcomes&gt;</td>\n",
       "    </tr>\n",
       "    <tr>\n",
       "      <th>3628</th>\n",
       "      <td>-QMY6GJ1rHGVlOyKBHgV1g</td>\n",
       "      <td>uE40984_YDgVvPeRpFcCaQ</td>\n",
       "      <td>The hot chicken is probably one of the best fr...</td>\n",
       "      <td>1.0</td>\n",
       "      <td>hot chicken probably good fry chicken eat sout...</td>\n",
       "      <td>['hot', 'chicken', 'probably', 'good', 'fry', ...</td>\n",
       "      <td>&lt;FreqDist with 16 samples and 17 outcomes&gt;</td>\n",
       "    </tr>\n",
       "    <tr>\n",
       "      <th>3629</th>\n",
       "      <td>VairgP5nQwKofVCI2E7mAw</td>\n",
       "      <td>uKAbrDSJJzZliY1Yqu5KxQ</td>\n",
       "      <td>Our Friday night party of eight could not have...</td>\n",
       "      <td>1.0</td>\n",
       "      <td>friday night party time alexa server attentive...</td>\n",
       "      <td>['friday', 'night', 'party', 'time', 'alexa', ...</td>\n",
       "      <td>&lt;FreqDist with 44 samples and 48 outcomes&gt;</td>\n",
       "    </tr>\n",
       "    <tr>\n",
       "      <th>3630</th>\n",
       "      <td>1HP3yZN3jT646IlHSo7GZw</td>\n",
       "      <td>YtSqYv1Q_pOltsVPSx54SA</td>\n",
       "      <td>been to nearly all the high-end steak houses i...</td>\n",
       "      <td>1.0</td>\n",
       "      <td>nearly high end steak house philly favorite ri...</td>\n",
       "      <td>['nearly', 'high', 'end', 'steak', 'house', 'p...</td>\n",
       "      <td>&lt;FreqDist with 35 samples and 47 outcomes&gt;</td>\n",
       "    </tr>\n",
       "  </tbody>\n",
       "</table>\n",
       "</div>"
      ],
      "text/plain": [
       "                   review_id             business_id  \\\n",
       "3626  Dkv4YJVG3vOg12i3GJxc-g  NMtUD873aWrNjljt3VOcFA   \n",
       "3627  XWs3JW2wboGq_aIUk81Pzw  1NCUTTp6rIyXpwUDVv9qOA   \n",
       "3628  -QMY6GJ1rHGVlOyKBHgV1g  uE40984_YDgVvPeRpFcCaQ   \n",
       "3629  VairgP5nQwKofVCI2E7mAw  uKAbrDSJJzZliY1Yqu5KxQ   \n",
       "3630  1HP3yZN3jT646IlHSo7GZw  YtSqYv1Q_pOltsVPSx54SA   \n",
       "\n",
       "                                                   text  target  \\\n",
       "3626  Chef Kevin Sbraga knows fried chicken. My firs...     1.0   \n",
       "3627  The pizza was the best we've had in the Fairmo...     1.0   \n",
       "3628  The hot chicken is probably one of the best fr...     1.0   \n",
       "3629  Our Friday night party of eight could not have...     1.0   \n",
       "3630  been to nearly all the high-end steak houses i...     1.0   \n",
       "\n",
       "                                                  words  \\\n",
       "3626  chef kevin sbraga know fried chicken exposure ...   \n",
       "3627  pizza good fairmount art museum brewerytown ar...   \n",
       "3628  hot chicken probably good fry chicken eat sout...   \n",
       "3629  friday night party time alexa server attentive...   \n",
       "3630  nearly high end steak house philly favorite ri...   \n",
       "\n",
       "                                                 tokens  \\\n",
       "3626  ['chef', 'kevin', 'sbraga', 'know', 'fried', '...   \n",
       "3627  ['pizza', 'good', 'fairmount', 'art', 'museum'...   \n",
       "3628  ['hot', 'chicken', 'probably', 'good', 'fry', ...   \n",
       "3629  ['friday', 'night', 'party', 'time', 'alexa', ...   \n",
       "3630  ['nearly', 'high', 'end', 'steak', 'house', 'p...   \n",
       "\n",
       "                                      tokens_freq  \n",
       "3626  <FreqDist with 98 samples and 116 outcomes>  \n",
       "3627   <FreqDist with 23 samples and 27 outcomes>  \n",
       "3628   <FreqDist with 16 samples and 17 outcomes>  \n",
       "3629   <FreqDist with 44 samples and 48 outcomes>  \n",
       "3630   <FreqDist with 35 samples and 47 outcomes>  "
      ]
     },
     "execution_count": 16,
     "metadata": {},
     "output_type": "execute_result"
    }
   ],
   "source": [
    "df_pos = df[df['target']==1]\n",
    "df_pos.info()\n",
    "df_pos.head()"
   ]
  },
  {
   "cell_type": "markdown",
   "id": "190651e7-9fc6-4600-96b6-4f0f8027876e",
   "metadata": {},
   "source": [
    "# Word2Vec\n",
    "利用Word2Vec model去寻找特定单词在上下文中的相关单词"
   ]
  },
  {
   "cell_type": "code",
   "execution_count": 15,
   "id": "c8500594-b39b-44ab-a4ac-73d097787318",
   "metadata": {},
   "outputs": [],
   "source": [
    "my_stop_words = set(stopwords.words('english') + \n",
    "                    list(ENGLISH_STOP_WORDS) + \n",
    "                    ['super', 'duper', 'place','lo'])\n",
    "exclude_stopwords = ['no','not','none']\n",
    "for word in exclude_stopwords:\n",
    "    my_stop_words.remove(word)"
   ]
  },
  {
   "cell_type": "code",
   "execution_count": 26,
   "id": "b6ba6f0f-1c72-46f0-97c7-fcf47bb498e9",
   "metadata": {},
   "outputs": [
    {
     "name": "stdout",
     "output_type": "stream",
     "text": [
      "['Chef Kevin Sbraga knows fried chicken.', 'My first exposure to his succulent birds was the hot chicken at The Fat Ham.', 'Lo and behold, his lavender honey fried chicken tops its spicy cousin.']\n"
     ]
    }
   ],
   "source": [
    "words_pos_str = ' '.join(df_pos.text)\n",
    "# split the long string into sentences\n",
    "sentences_pos = sent_tokenize(words_pos_str)\n",
    "takens_pos_list = list()\n",
    "# get tokens for each sentence\n",
    "for sentence in sentences_pos:\n",
    "    eng_word = re.findall(r'[A-Za-z\\-]+', sentence)\n",
    "    takens_pos_list.append([i.lower() for i in eng_word if i.lower() not in my_stop_words])\n",
    "\n",
    "print(sentences_pos[:3])"
   ]
  },
  {
   "cell_type": "code",
   "execution_count": 18,
   "id": "1bd2d853-149c-47d0-8327-1491d55443f5",
   "metadata": {},
   "outputs": [
    {
     "name": "stdout",
     "output_type": "stream",
     "text": [
      "[['chef', 'kevin', 'sbraga', 'knows', 'fried', 'chicken'], ['exposure', 'succulent', 'birds', 'hot', 'chicken', 'fat', 'ham'], ['behold', 'lavender', 'honey', 'fried', 'chicken', 'tops', 'spicy', 'cousin']]\n"
     ]
    }
   ],
   "source": [
    "print(takens_pos_list[:3])"
   ]
  },
  {
   "cell_type": "code",
   "execution_count": 27,
   "id": "467928bb-9c30-4fdd-923f-50622e8ecc92",
   "metadata": {},
   "outputs": [
    {
     "data": {
      "text/plain": [
       "[('friendly', 0.20840886),\n",
       " ('staff', 0.11742882),\n",
       " ('service', 0.07620949),\n",
       " ('attentive', 0.01363444),\n",
       " ('atmosphere', 0.013285542),\n",
       " ('great', 0.007119206),\n",
       " ('food', 0.005859895),\n",
       " ('drinks', 0.0049396516),\n",
       " ('excellent', 0.0042923004),\n",
       " ('helpful', 0.004103131),\n",
       " ('fast', 0.003429048),\n",
       " ('nice', 0.0033718834),\n",
       " ('selection', 0.002935044),\n",
       " ('nthe', 0.0028059662),\n",
       " ('experience', 0.002801184),\n",
       " ('prices', 0.002275312),\n",
       " ('beer', 0.0021491845),\n",
       " ('quick', 0.0017242681),\n",
       " ('bar', 0.0016681402),\n",
       " ('ambiance', 0.0016126)]"
      ]
     },
     "execution_count": 27,
     "metadata": {},
     "output_type": "execute_result"
    }
   ],
   "source": [
    "def run_word2vec(word):\n",
    "    model_ted = Word2Vec(sentences=takens_pos_list, window=10, min_count=1, workers=4, sg=0)\n",
    "    return model_ted.predict_output_word([word], topn=20)\n",
    "    \n",
    "run_word2vec('service')"
   ]
  },
  {
   "cell_type": "markdown",
   "id": "fb87481a-aea8-4f0d-8928-12eb03c835d5",
   "metadata": {},
   "source": [
    "These surrounding words are very informative and they can better explain why people love or explain about certain things."
   ]
  },
  {
   "cell_type": "markdown",
   "id": "f36d8d2c-168f-4390-b2ea-8361cb4da3a0",
   "metadata": {},
   "source": [
    "# Sentiment analysis"
   ]
  },
  {
   "cell_type": "code",
   "execution_count": 46,
   "id": "ae16008d-d2ed-4524-a458-77bc62a8b4ae",
   "metadata": {},
   "outputs": [
    {
     "name": "stdout",
     "output_type": "stream",
     "text": [
      "impression good food horrible cash idea pricey\n",
      "{'neg': 0.285, 'neu': 0.325, 'pos': 0.39, 'compound': 0.0772}\n"
     ]
    }
   ],
   "source": [
    "# Instantiate new SentimentIntensityAnalyzer\n",
    "sid = SentimentIntensityAnalyzer()\n",
    "# Generate sentiment scores\n",
    "sentiment_scores = df['words'].apply(sid.polarity_scores)\n",
    "sentiment = sentiment_scores.apply(lambda x: x['compound'])\n",
    "print(df['words'][0])\n",
    "print(sentiment_scores[0])"
   ]
  },
  {
   "cell_type": "markdown",
   "id": "f1a564ba-aae2-465d-a802-c0179a2feece",
   "metadata": {},
   "source": [
    "### Using TF_IDF\n",
    "【摘抄】we can use TF_IDF vectorizing to find the weighted words that occur more frequently in the document that leads to creation of the bag of words model我们可以使用 TF_IDF 向量化来找到文档中出现频率更高的加权词，从而创建词袋模型"
   ]
  },
  {
   "cell_type": "code",
   "execution_count": null,
   "id": "ca3708bb-139c-4a17-8460-20013f3a9252",
   "metadata": {},
   "outputs": [],
   "source": []
  },
  {
   "cell_type": "code",
   "execution_count": null,
   "id": "ef98d02a-d089-4fd1-8ae2-e8af51de1dc6",
   "metadata": {},
   "outputs": [],
   "source": []
  }
 ],
 "metadata": {
  "kernelspec": {
   "display_name": "Python 3 (ipykernel)",
   "language": "python",
   "name": "python3"
  },
  "language_info": {
   "codemirror_mode": {
    "name": "ipython",
    "version": 3
   },
   "file_extension": ".py",
   "mimetype": "text/x-python",
   "name": "python",
   "nbconvert_exporter": "python",
   "pygments_lexer": "ipython3",
   "version": "3.8.14"
  }
 },
 "nbformat": 4,
 "nbformat_minor": 5
}
