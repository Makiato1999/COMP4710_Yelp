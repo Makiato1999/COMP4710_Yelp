{
 "cells": [
  {
   "cell_type": "markdown",
   "id": "11a9669e-c92d-45ae-81b7-b59e2e8523af",
   "metadata": {},
   "source": [
    "# Introduction\n",
    "The previous stage includes reviews text preprocessing, which is in Preprocess_Reviews.ipynb<br>\n",
    "The following stage is aim to analysis reviews sentiment"
   ]
  },
  {
   "cell_type": "code",
   "execution_count": 146,
   "id": "a9dbb51f-8804-4366-87b7-f9a3bc567865",
   "metadata": {},
   "outputs": [],
   "source": [
    "import numpy as np\n",
    "import pandas as pd\n",
    "import nltk\n",
    "import seaborn as sns\n",
    "import re\n",
    "import spacy\n",
    "nlp = spacy.load('en_core_web_sm')\n",
    "import string\n",
    "from sklearn.utils import resample\n",
    "from sklearn.model_selection import train_test_split\n",
    "from sklearn.model_selection import GridSearchCV\n",
    "from sklearn.feature_extraction.text import TfidfVectorizer\n",
    "from sklearn.feature_extraction.text import CountVectorizer\n",
    "from sklearn.metrics import confusion_matrix\n",
    "from sklearn.metrics import classification_report\n",
    "from sklearn.pipeline import Pipeline\n",
    "from sklearn.linear_model import LogisticRegression\n",
    "from sklearn import svm\n",
    "import sys\n",
    "import os\n",
    "import warnings\n",
    "if not sys.warnoptions:\n",
    "    warnings.simplefilter(\"ignore\")\n",
    "    os.environ[\"PYTHONWARNINGS\"] = \"ignore\" \n",
    "\n",
    "import matplotlib.pyplot as plt\n",
    "%matplotlib inline"
   ]
  },
  {
   "cell_type": "markdown",
   "id": "b2882f14-c15d-49e7-844b-49aa4a14dab9",
   "metadata": {},
   "source": [
    "# Load reviews"
   ]
  },
  {
   "cell_type": "code",
   "execution_count": 147,
   "id": "788b8514-5d9e-442a-b96c-11e5d8bf35ef",
   "metadata": {},
   "outputs": [
    {
     "data": {
      "text/html": [
       "<div>\n",
       "<style scoped>\n",
       "    .dataframe tbody tr th:only-of-type {\n",
       "        vertical-align: middle;\n",
       "    }\n",
       "\n",
       "    .dataframe tbody tr th {\n",
       "        vertical-align: top;\n",
       "    }\n",
       "\n",
       "    .dataframe thead th {\n",
       "        text-align: right;\n",
       "    }\n",
       "</style>\n",
       "<table border=\"1\" class=\"dataframe\">\n",
       "  <thead>\n",
       "    <tr style=\"text-align: right;\">\n",
       "      <th></th>\n",
       "      <th>review_id</th>\n",
       "      <th>business_id</th>\n",
       "      <th>text</th>\n",
       "      <th>target</th>\n",
       "      <th>cleaned_text</th>\n",
       "    </tr>\n",
       "  </thead>\n",
       "  <tbody>\n",
       "    <tr>\n",
       "      <th>0</th>\n",
       "      <td>DBlPGlx7mGITUzvtz9A7QQ</td>\n",
       "      <td>n_k7VjsTWjqACsvOihHQHQ</td>\n",
       "      <td>uninpressed, uninpressive, disapointed, disapo...</td>\n",
       "      <td>0.0</td>\n",
       "      <td>uninpressed uninpressive disapointed disapoint...</td>\n",
       "    </tr>\n",
       "    <tr>\n",
       "      <th>1</th>\n",
       "      <td>khHfRuVufqXxbl2KpfAFmA</td>\n",
       "      <td>5l67axuAa5EmEV3lLuSa1Q</td>\n",
       "      <td>I was not impressed with Smashburger. I figure...</td>\n",
       "      <td>0.0</td>\n",
       "      <td>impressed smashburger figure try close apartme...</td>\n",
       "    </tr>\n",
       "    <tr>\n",
       "      <th>2</th>\n",
       "      <td>2EcJZtfg_Kko7EIEPkBTTw</td>\n",
       "      <td>W7S5xV7aOIWjcq0Xd4KKLg</td>\n",
       "      <td>Wanted to charge me for an oil change that was...</td>\n",
       "      <td>0.0</td>\n",
       "      <td>want charge oil change suppose free certified ...</td>\n",
       "    </tr>\n",
       "    <tr>\n",
       "      <th>3</th>\n",
       "      <td>fm5S-0puAjpCq5idVszLjg</td>\n",
       "      <td>_dZd3_GrQNPNKuP5Eame-Q</td>\n",
       "      <td>This was my first visit to Stacks.  Met my fri...</td>\n",
       "      <td>0.0</td>\n",
       "      <td>visit stacks met friend little run door open m...</td>\n",
       "    </tr>\n",
       "    <tr>\n",
       "      <th>4</th>\n",
       "      <td>KtGMc-m6DwMLce2IahyvPA</td>\n",
       "      <td>CkENBnSJFfPA1hY0qrqfCg</td>\n",
       "      <td>We have tried this restaurant several times in...</td>\n",
       "      <td>0.0</td>\n",
       "      <td>try restaurant time hope fabulous santa barbar...</td>\n",
       "    </tr>\n",
       "  </tbody>\n",
       "</table>\n",
       "</div>"
      ],
      "text/plain": [
       "                review_id             business_id  \\\n",
       "0  DBlPGlx7mGITUzvtz9A7QQ  n_k7VjsTWjqACsvOihHQHQ   \n",
       "1  khHfRuVufqXxbl2KpfAFmA  5l67axuAa5EmEV3lLuSa1Q   \n",
       "2  2EcJZtfg_Kko7EIEPkBTTw  W7S5xV7aOIWjcq0Xd4KKLg   \n",
       "3  fm5S-0puAjpCq5idVszLjg  _dZd3_GrQNPNKuP5Eame-Q   \n",
       "4  KtGMc-m6DwMLce2IahyvPA  CkENBnSJFfPA1hY0qrqfCg   \n",
       "\n",
       "                                                text  target  \\\n",
       "0  uninpressed, uninpressive, disapointed, disapo...     0.0   \n",
       "1  I was not impressed with Smashburger. I figure...     0.0   \n",
       "2  Wanted to charge me for an oil change that was...     0.0   \n",
       "3  This was my first visit to Stacks.  Met my fri...     0.0   \n",
       "4  We have tried this restaurant several times in...     0.0   \n",
       "\n",
       "                                        cleaned_text  \n",
       "0  uninpressed uninpressive disapointed disapoint...  \n",
       "1  impressed smashburger figure try close apartme...  \n",
       "2  want charge oil change suppose free certified ...  \n",
       "3  visit stacks met friend little run door open m...  \n",
       "4  try restaurant time hope fabulous santa barbar...  "
      ]
     },
     "execution_count": 147,
     "metadata": {},
     "output_type": "execute_result"
    }
   ],
   "source": [
    "file = \"Cleaned_Text_Dataset.csv\"\n",
    "df = pd.read_csv(file)\n",
    "del df[\"Unnamed: 0\"]\n",
    "df.head()"
   ]
  },
  {
   "cell_type": "markdown",
   "id": "1bfb9b82-d522-49ba-b800-cdbfca32dff1",
   "metadata": {},
   "source": [
    "为了方便接下来的使用，我需要将dataframe里cleaned_text转为token list"
   ]
  },
  {
   "cell_type": "code",
   "execution_count": 148,
   "id": "97ae5e5e-4357-4841-8694-5b79b588f2a8",
   "metadata": {},
   "outputs": [
    {
     "data": {
      "text/plain": [
       "\"\\ndef list_of_token(text):\\n    return [w for w in text.split()]\\ndf['cleaned_text'] = df['cleaned_text'].apply(lambda text: list_of_token(text))\\ndf\\n\""
      ]
     },
     "execution_count": 148,
     "metadata": {},
     "output_type": "execute_result"
    }
   ],
   "source": [
    "\"\"\"\n",
    "def list_of_token(text):\n",
    "    return [w for w in text.split()]\n",
    "df['cleaned_text'] = df['cleaned_text'].apply(lambda text: list_of_token(text))\n",
    "df\n",
    "\"\"\""
   ]
  },
  {
   "cell_type": "code",
   "execution_count": 149,
   "id": "cfbccbb3-2df8-423f-a724-773de613b8ec",
   "metadata": {},
   "outputs": [
    {
     "data": {
      "text/plain": [
       "59      star solely base pleasant housekeeper good bri...\n",
       "6399    great concept food choice great service little...\n",
       "6210    stop night outside boise cross country trip wa...\n",
       "1688    manager reach speak phone week hear find new m...\n",
       "4865    britney great atmosphere lot fun people enjoy ...\n",
       "Name: cleaned_text, dtype: object"
      ]
     },
     "execution_count": 149,
     "metadata": {},
     "output_type": "execute_result"
    }
   ],
   "source": [
    "X = df['cleaned_text'] \n",
    "y = df['target']\n",
    "X_train, X_test, y_train, y_test = train_test_split(X, y, test_size = 0.3, random_state = 42, stratify=y)\n",
    "X_train.head()"
   ]
  },
  {
   "cell_type": "code",
   "execution_count": 150,
   "id": "3c6536a8-5be4-405c-ae3a-bd63a6a15556",
   "metadata": {},
   "outputs": [
    {
     "data": {
      "text/plain": [
       "59      0.0\n",
       "6399    1.0\n",
       "6210    1.0\n",
       "1688    0.0\n",
       "4865    1.0\n",
       "Name: target, dtype: float64"
      ]
     },
     "execution_count": 150,
     "metadata": {},
     "output_type": "execute_result"
    }
   ],
   "source": [
    "y_train.head()"
   ]
  },
  {
   "cell_type": "markdown",
   "id": "edec2e8d-7cee-4ecb-8f1e-aa8e32dd525f",
   "metadata": {},
   "source": [
    "建立评估function，它可以生成confusion matrix的heatmap，直观"
   ]
  },
  {
   "cell_type": "code",
   "execution_count": 151,
   "id": "8484cf45-a611-4f3d-bb1a-b6570426df60",
   "metadata": {},
   "outputs": [],
   "source": [
    "def evaluate(y_test, predictions):\n",
    "    cf_matrix = confusion_matrix(y_test, predictions)\n",
    "    sns.heatmap(cf_matrix, annot = True, fmt = 'd',cmap=\"Blues\")\n",
    "    plt.title('Heatmap of confusion matrix for Test data')\n",
    "    plt.ylabel('True label')\n",
    "    plt.xlabel('Predicted label') "
   ]
  },
  {
   "cell_type": "markdown",
   "id": "57144e06-660d-4d15-93cd-4e1f03a913ff",
   "metadata": {},
   "source": [
    "# Vectorisation and Validation"
   ]
  },
  {
   "cell_type": "markdown",
   "id": "2612c617-7bae-431e-a33a-9d74c11d422a",
   "metadata": {},
   "source": [
    "列举我们将要实验的n-gram，【摘抄】GridSearchCV是Sklearn model_selection包的一个模块，用于超参数调整。 给定一组不同的超参数，GridSearchCV 循环浏览所有可能的超参数值和组合，并在训练数据集上拟合模型。 在这个过程中，它能够确定产生最佳精度的超参数的最佳值和组合（从给定的参数集中）【摘抄】在机器学习模型中，需要人工选择的参数称为超参数。比如随机森林中决策树的个数，人工神经网络模型中隐藏层层数和每层的节点个数，正则项中常数大小等等，他们都需要事先指定。超参数选择不恰当，就会出现欠拟合或者过拟合的问题。而在选择超参数的时候，有两个途径，一个是凭经验微调，另一个就是选择不同大小的参数，带入模型中，挑选表现最好的参数。微调的一种方法是手工调制超参数，直到找到一个好的超参数组合，这么做的话会非常冗长，你也可能没有时间探索多种组合，所以可以使用Scikit-Learn的GridSearchCV来做这项搜索工作。<br>\n",
    "这里用的是后者<br>\n",
    "可以提一下交叉验证，cross validation"
   ]
  },
  {
   "cell_type": "code",
   "execution_count": 152,
   "id": "c36b98f5-3fb0-41b4-9e60-412497111302",
   "metadata": {},
   "outputs": [],
   "source": [
    "param_grid = {'c_vectorizer__ngram_range': [(1, 1), (1, 2), (1, 3), (2, 2), (2, 3), (3, 3)]}"
   ]
  },
  {
   "cell_type": "markdown",
   "id": "6461e82c-57cd-4fd1-8204-e9093b9343c0",
   "metadata": {},
   "source": [
    "### Logistic Regression model \n",
    "找出哪个n-gram在逻辑回归模型中表现更好"
   ]
  },
  {
   "cell_type": "code",
   "execution_count": 153,
   "id": "a39cee3d-502e-4a4d-9928-c536986759ca",
   "metadata": {},
   "outputs": [
    {
     "name": "stdout",
     "output_type": "stream",
     "text": [
      "Optimal n-gram: (1, 2)\n",
      "最优参数:  {'c_vectorizer__ngram_range': (1, 2)}\n",
      "最佳性能:  0.9322097128967155\n",
      "              precision    recall  f1-score   support\n",
      "\n",
      "         0.0     0.9460    0.9881    0.9666      1011\n",
      "         1.0     0.9876    0.9436    0.9651      1011\n",
      "\n",
      "    accuracy                         0.9659      2022\n",
      "   macro avg     0.9668    0.9659    0.9659      2022\n",
      "weighted avg     0.9668    0.9659    0.9659      2022\n",
      "\n"
     ]
    }
   ],
   "source": [
    "lr_pipeline = Pipeline([\n",
    "    ('c_vectorizer', CountVectorizer()),\n",
    "    ('lr', LogisticRegression(random_state=42))\n",
    "])\n",
    "\n",
    "gs_lr = GridSearchCV(lr_pipeline, refit=True, cv=2, param_grid=param_grid, scoring='f1', n_jobs=-1)\n",
    "gs_lr.fit(X_train, y_train)\n",
    "\n",
    "print('Optimal n-gram:', gs_lr.best_estimator_.get_params()['c_vectorizer__ngram_range'])\n",
    "print(\"最优参数: \", gs_lr.best_params_)\n",
    "print(\"最佳性能: \", gs_lr.best_score_)\n",
    "\n",
    "predictions = gs_lr.predict(X_test)\n",
    "print(classification_report(y_test, predictions, digits=4))\n",
    "#evaluate(y_test, predictions)"
   ]
  },
  {
   "cell_type": "markdown",
   "id": "18e9f1a3-3a51-468c-b4f8-3277594305fe",
   "metadata": {},
   "source": [
    "### Support Vector Machine model \n",
    "找出哪个n-gram在支持向量机SVM模型中表现更好"
   ]
  },
  {
   "cell_type": "code",
   "execution_count": 157,
   "id": "5bfc5448-a7d3-472d-a91f-be1481f6ff78",
   "metadata": {},
   "outputs": [
    {
     "name": "stdout",
     "output_type": "stream",
     "text": [
      "Best ngram_range: (1, 3)\n",
      "最优参数:  {'c_vectorizer__ngram_range': (1, 3)}\n",
      "最佳性能:  0.9208088884488121\n",
      "              precision    recall  f1-score   support\n",
      "\n",
      "         0.0     0.9574    0.9773    0.9672      1011\n",
      "         1.0     0.9768    0.9565    0.9665      1011\n",
      "\n",
      "    accuracy                         0.9669      2022\n",
      "   macro avg     0.9671    0.9669    0.9669      2022\n",
      "weighted avg     0.9671    0.9669    0.9669      2022\n",
      "\n"
     ]
    }
   ],
   "source": [
    "svm_pipe = Pipeline([\n",
    "    ('c_vectorizer', CountVectorizer()),\n",
    "    ('svm', svm.SVC(max_iter=-1, random_state=42))\n",
    "])\n",
    "\n",
    "gs_svm = GridSearchCV(svm_pipe, refit=True, cv=2, param_grid=param_grid, scoring='f1', n_jobs=-1)\n",
    "gs_svm.fit(X_train, y_train)\n",
    "\n",
    "print('Best ngram_range:', gs_svm.best_estimator_.get_params()['c_vectorizer__ngram_range'])\n",
    "print(\"最优参数: \", gs_svm.best_params_)\n",
    "print(\"最佳性能: \", gs_svm.best_score_)\n",
    "\n",
    "predictions = gs_svm.predict(X_test)\n",
    "print(classification_report(y_test, predictions, digits=4))\n",
    "#evaluate(y_test, predictions)"
   ]
  },
  {
   "cell_type": "markdown",
   "id": "3816dfd3-2c4f-4dc9-9c6d-eaf2cbbdbaf7",
   "metadata": {},
   "source": [
    "对比上面逻辑回归和SVM交叉验证的结果，逻辑回归的最佳性能更好，因此我们选择最佳性能更好的逻辑回归结果，它的最优参数n-gram是（1，2）<br>接下来使用逻辑回归和"
   ]
  },
  {
   "cell_type": "code",
   "execution_count": null,
   "id": "5a6c01a5-d31e-4a23-b922-3c13395ae0f1",
   "metadata": {},
   "outputs": [],
   "source": []
  },
  {
   "cell_type": "markdown",
   "id": "f1a564ba-aae2-465d-a802-c0179a2feece",
   "metadata": {},
   "source": [
    "### Using TF_IDF\n",
    "【摘抄】we can use TF_IDF vectorizing to find the weighted words that occur more frequently in the document that leads to creation of the bag of words model我们可以使用 TF_IDF 向量化来找到文档中出现频率更高的加权词，从而创建词袋模型"
   ]
  },
  {
   "cell_type": "code",
   "execution_count": null,
   "id": "ca3708bb-139c-4a17-8460-20013f3a9252",
   "metadata": {},
   "outputs": [],
   "source": []
  },
  {
   "cell_type": "code",
   "execution_count": null,
   "id": "ef98d02a-d089-4fd1-8ae2-e8af51de1dc6",
   "metadata": {},
   "outputs": [],
   "source": []
  }
 ],
 "metadata": {
  "kernelspec": {
   "display_name": "Python 3 (ipykernel)",
   "language": "python",
   "name": "python3"
  },
  "language_info": {
   "codemirror_mode": {
    "name": "ipython",
    "version": 3
   },
   "file_extension": ".py",
   "mimetype": "text/x-python",
   "name": "python",
   "nbconvert_exporter": "python",
   "pygments_lexer": "ipython3",
   "version": "3.8.14"
  }
 },
 "nbformat": 4,
 "nbformat_minor": 5
}
