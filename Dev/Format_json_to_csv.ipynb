{
 "cells": [
  {
   "cell_type": "code",
   "execution_count": 18,
   "id": "d228f456-d186-46fb-9894-012dd159c8b5",
   "metadata": {},
   "outputs": [],
   "source": [
    "import pandas as pd\n",
    "import turicreate\n",
    "import random"
   ]
  },
  {
   "cell_type": "code",
   "execution_count": 16,
   "id": "5c45d554-a3c0-4c9c-a146-9386e984375c",
   "metadata": {},
   "outputs": [
    {
     "data": {
      "text/html": [
       "<pre>Finished parsing file /Users/xiexiaoran/Documents/GitHub/COMP4710_Yelp/Yelp_Datasets/yelp_academic_dataset_review.json</pre>"
      ],
      "text/plain": [
       "Finished parsing file /Users/xiexiaoran/Documents/GitHub/COMP4710_Yelp/Yelp_Datasets/yelp_academic_dataset_review.json"
      ]
     },
     "metadata": {},
     "output_type": "display_data"
    },
    {
     "data": {
      "text/html": [
       "<pre>Parsing completed. Parsed 100 lines in 0.481721 secs.</pre>"
      ],
      "text/plain": [
       "Parsing completed. Parsed 100 lines in 0.481721 secs."
      ]
     },
     "metadata": {},
     "output_type": "display_data"
    },
    {
     "name": "stdout",
     "output_type": "stream",
     "text": [
      "------------------------------------------------------\n",
      "Inferred types from first 100 line(s) of file as \n",
      "column_type_hints=[dict]\n",
      "If parsing fails due to incorrect types, you can correct\n",
      "the inferred type list above and pass it to read_csv in\n",
      "the column_type_hints argument\n",
      "------------------------------------------------------\n"
     ]
    },
    {
     "data": {
      "text/html": [
       "<pre>Read 70415 lines. Lines per second: 69455.5</pre>"
      ],
      "text/plain": [
       "Read 70415 lines. Lines per second: 69455.5"
      ]
     },
     "metadata": {},
     "output_type": "display_data"
    },
    {
     "data": {
      "text/html": [
       "<pre>Read 622209 lines. Lines per second: 103298</pre>"
      ],
      "text/plain": [
       "Read 622209 lines. Lines per second: 103298"
      ]
     },
     "metadata": {},
     "output_type": "display_data"
    },
    {
     "data": {
      "text/html": [
       "<pre>Read 1173323 lines. Lines per second: 104929</pre>"
      ],
      "text/plain": [
       "Read 1173323 lines. Lines per second: 104929"
      ]
     },
     "metadata": {},
     "output_type": "display_data"
    },
    {
     "data": {
      "text/html": [
       "<pre>Read 1722611 lines. Lines per second: 105275</pre>"
      ],
      "text/plain": [
       "Read 1722611 lines. Lines per second: 105275"
      ]
     },
     "metadata": {},
     "output_type": "display_data"
    },
    {
     "data": {
      "text/html": [
       "<pre>Read 2267847 lines. Lines per second: 104022</pre>"
      ],
      "text/plain": [
       "Read 2267847 lines. Lines per second: 104022"
      ]
     },
     "metadata": {},
     "output_type": "display_data"
    },
    {
     "data": {
      "text/html": [
       "<pre>Read 2811171 lines. Lines per second: 103015</pre>"
      ],
      "text/plain": [
       "Read 2811171 lines. Lines per second: 103015"
      ]
     },
     "metadata": {},
     "output_type": "display_data"
    },
    {
     "data": {
      "text/html": [
       "<pre>Read 3364743 lines. Lines per second: 102186</pre>"
      ],
      "text/plain": [
       "Read 3364743 lines. Lines per second: 102186"
      ]
     },
     "metadata": {},
     "output_type": "display_data"
    },
    {
     "data": {
      "text/html": [
       "<pre>Read 3845644 lines. Lines per second: 100420</pre>"
      ],
      "text/plain": [
       "Read 3845644 lines. Lines per second: 100420"
      ]
     },
     "metadata": {},
     "output_type": "display_data"
    },
    {
     "data": {
      "text/html": [
       "<pre>Read 4181049 lines. Lines per second: 72720.4</pre>"
      ],
      "text/plain": [
       "Read 4181049 lines. Lines per second: 72720.4"
      ]
     },
     "metadata": {},
     "output_type": "display_data"
    },
    {
     "data": {
      "text/html": [
       "<pre>Read 4530172 lines. Lines per second: 71712.8</pre>"
      ],
      "text/plain": [
       "Read 4530172 lines. Lines per second: 71712.8"
      ]
     },
     "metadata": {},
     "output_type": "display_data"
    },
    {
     "data": {
      "text/html": [
       "<pre>Read 4866957 lines. Lines per second: 70937.3</pre>"
      ],
      "text/plain": [
       "Read 4866957 lines. Lines per second: 70937.3"
      ]
     },
     "metadata": {},
     "output_type": "display_data"
    },
    {
     "data": {
      "text/html": [
       "<pre>Read 5216831 lines. Lines per second: 70500.8</pre>"
      ],
      "text/plain": [
       "Read 5216831 lines. Lines per second: 70500.8"
      ]
     },
     "metadata": {},
     "output_type": "display_data"
    },
    {
     "data": {
      "text/html": [
       "<pre>Read 5560163 lines. Lines per second: 69940</pre>"
      ],
      "text/plain": [
       "Read 5560163 lines. Lines per second: 69940"
      ]
     },
     "metadata": {},
     "output_type": "display_data"
    },
    {
     "data": {
      "text/html": [
       "<pre>Read 5905697 lines. Lines per second: 69322.6</pre>"
      ],
      "text/plain": [
       "Read 5905697 lines. Lines per second: 69322.6"
      ]
     },
     "metadata": {},
     "output_type": "display_data"
    },
    {
     "data": {
      "text/html": [
       "<pre>Read 6245873 lines. Lines per second: 68825.9</pre>"
      ],
      "text/plain": [
       "Read 6245873 lines. Lines per second: 68825.9"
      ]
     },
     "metadata": {},
     "output_type": "display_data"
    },
    {
     "data": {
      "text/html": [
       "<pre>Read 6593779 lines. Lines per second: 68552.6</pre>"
      ],
      "text/plain": [
       "Read 6593779 lines. Lines per second: 68552.6"
      ]
     },
     "metadata": {},
     "output_type": "display_data"
    },
    {
     "data": {
      "text/html": [
       "<pre>Read 6933750 lines. Lines per second: 68354.7</pre>"
      ],
      "text/plain": [
       "Read 6933750 lines. Lines per second: 68354.7"
      ]
     },
     "metadata": {},
     "output_type": "display_data"
    },
    {
     "data": {
      "text/html": [
       "<pre>Finished parsing file /Users/xiexiaoran/Documents/GitHub/COMP4710_Yelp/Yelp_Datasets/yelp_academic_dataset_review.json</pre>"
      ],
      "text/plain": [
       "Finished parsing file /Users/xiexiaoran/Documents/GitHub/COMP4710_Yelp/Yelp_Datasets/yelp_academic_dataset_review.json"
      ]
     },
     "metadata": {},
     "output_type": "display_data"
    },
    {
     "data": {
      "text/html": [
       "<pre>Parsing completed. Parsed 6990280 lines in 102.297 secs.</pre>"
      ],
      "text/plain": [
       "Parsing completed. Parsed 6990280 lines in 102.297 secs."
      ]
     },
     "metadata": {},
     "output_type": "display_data"
    },
    {
     "data": {
      "text/html": [
       "<div style=\"max-height:1000px;max-width:1500px;overflow:auto;\"><table frame=\"box\" rules=\"cols\">\n",
       "    <tr>\n",
       "        <th style=\"padding-left: 1em; padding-right: 1em; text-align: center\">business_id</th>\n",
       "        <th style=\"padding-left: 1em; padding-right: 1em; text-align: center\">cool</th>\n",
       "        <th style=\"padding-left: 1em; padding-right: 1em; text-align: center\">date</th>\n",
       "        <th style=\"padding-left: 1em; padding-right: 1em; text-align: center\">funny</th>\n",
       "        <th style=\"padding-left: 1em; padding-right: 1em; text-align: center\">review_id</th>\n",
       "        <th style=\"padding-left: 1em; padding-right: 1em; text-align: center\">stars</th>\n",
       "    </tr>\n",
       "    <tr>\n",
       "        <td style=\"padding-left: 1em; padding-right: 1em; text-align: center; vertical-align: top\">XQfwVwDr-v0ZS3_CbbE5Xw</td>\n",
       "        <td style=\"padding-left: 1em; padding-right: 1em; text-align: center; vertical-align: top\">0</td>\n",
       "        <td style=\"padding-left: 1em; padding-right: 1em; text-align: center; vertical-align: top\">2018-07-07 22:09:11</td>\n",
       "        <td style=\"padding-left: 1em; padding-right: 1em; text-align: center; vertical-align: top\">0</td>\n",
       "        <td style=\"padding-left: 1em; padding-right: 1em; text-align: center; vertical-align: top\">KU_O5udG6zpxOg-VcAEodg</td>\n",
       "        <td style=\"padding-left: 1em; padding-right: 1em; text-align: center; vertical-align: top\">3.0</td>\n",
       "    </tr>\n",
       "    <tr>\n",
       "        <td style=\"padding-left: 1em; padding-right: 1em; text-align: center; vertical-align: top\">7ATYjTIgM3jUlt4UM3IypQ</td>\n",
       "        <td style=\"padding-left: 1em; padding-right: 1em; text-align: center; vertical-align: top\">1</td>\n",
       "        <td style=\"padding-left: 1em; padding-right: 1em; text-align: center; vertical-align: top\">2012-01-03 15:28:18</td>\n",
       "        <td style=\"padding-left: 1em; padding-right: 1em; text-align: center; vertical-align: top\">0</td>\n",
       "        <td style=\"padding-left: 1em; padding-right: 1em; text-align: center; vertical-align: top\">BiTunyQ73aT9WBnpR9DZGw</td>\n",
       "        <td style=\"padding-left: 1em; padding-right: 1em; text-align: center; vertical-align: top\">5.0</td>\n",
       "    </tr>\n",
       "    <tr>\n",
       "        <td style=\"padding-left: 1em; padding-right: 1em; text-align: center; vertical-align: top\">YjUWPpI6HXG530lwP-fb2A</td>\n",
       "        <td style=\"padding-left: 1em; padding-right: 1em; text-align: center; vertical-align: top\">0</td>\n",
       "        <td style=\"padding-left: 1em; padding-right: 1em; text-align: center; vertical-align: top\">2014-02-05 20:30:30</td>\n",
       "        <td style=\"padding-left: 1em; padding-right: 1em; text-align: center; vertical-align: top\">0</td>\n",
       "        <td style=\"padding-left: 1em; padding-right: 1em; text-align: center; vertical-align: top\">saUsX_uimxRlCVr67Z4Jig</td>\n",
       "        <td style=\"padding-left: 1em; padding-right: 1em; text-align: center; vertical-align: top\">3.0</td>\n",
       "    </tr>\n",
       "    <tr>\n",
       "        <td style=\"padding-left: 1em; padding-right: 1em; text-align: center; vertical-align: top\">kxX2SOes4o-D3ZQBkiMRfA</td>\n",
       "        <td style=\"padding-left: 1em; padding-right: 1em; text-align: center; vertical-align: top\">1</td>\n",
       "        <td style=\"padding-left: 1em; padding-right: 1em; text-align: center; vertical-align: top\">2015-01-04 00:01:03</td>\n",
       "        <td style=\"padding-left: 1em; padding-right: 1em; text-align: center; vertical-align: top\">0</td>\n",
       "        <td style=\"padding-left: 1em; padding-right: 1em; text-align: center; vertical-align: top\">AqPFMleE6RsU23_auESxiA</td>\n",
       "        <td style=\"padding-left: 1em; padding-right: 1em; text-align: center; vertical-align: top\">5.0</td>\n",
       "    </tr>\n",
       "    <tr>\n",
       "        <td style=\"padding-left: 1em; padding-right: 1em; text-align: center; vertical-align: top\">e4Vwtrqf-wpJfwesgvdgxQ</td>\n",
       "        <td style=\"padding-left: 1em; padding-right: 1em; text-align: center; vertical-align: top\">1</td>\n",
       "        <td style=\"padding-left: 1em; padding-right: 1em; text-align: center; vertical-align: top\">2017-01-14 20:54:15</td>\n",
       "        <td style=\"padding-left: 1em; padding-right: 1em; text-align: center; vertical-align: top\">0</td>\n",
       "        <td style=\"padding-left: 1em; padding-right: 1em; text-align: center; vertical-align: top\">Sx8TMOWLNuJBWer-0pcmoA</td>\n",
       "        <td style=\"padding-left: 1em; padding-right: 1em; text-align: center; vertical-align: top\">4.0</td>\n",
       "    </tr>\n",
       "    <tr>\n",
       "        <td style=\"padding-left: 1em; padding-right: 1em; text-align: center; vertical-align: top\">04UD14gamNjLY0IDYVhHJg</td>\n",
       "        <td style=\"padding-left: 1em; padding-right: 1em; text-align: center; vertical-align: top\">1</td>\n",
       "        <td style=\"padding-left: 1em; padding-right: 1em; text-align: center; vertical-align: top\">2015-09-23 23:10:31</td>\n",
       "        <td style=\"padding-left: 1em; padding-right: 1em; text-align: center; vertical-align: top\">2</td>\n",
       "        <td style=\"padding-left: 1em; padding-right: 1em; text-align: center; vertical-align: top\">JrIxlS1TzJ-iCu79ul40cQ</td>\n",
       "        <td style=\"padding-left: 1em; padding-right: 1em; text-align: center; vertical-align: top\">1.0</td>\n",
       "    </tr>\n",
       "    <tr>\n",
       "        <td style=\"padding-left: 1em; padding-right: 1em; text-align: center; vertical-align: top\">gmjsEdUsKpj9Xxu6pdjH0g</td>\n",
       "        <td style=\"padding-left: 1em; padding-right: 1em; text-align: center; vertical-align: top\">0</td>\n",
       "        <td style=\"padding-left: 1em; padding-right: 1em; text-align: center; vertical-align: top\">2015-01-03 23:21:18</td>\n",
       "        <td style=\"padding-left: 1em; padding-right: 1em; text-align: center; vertical-align: top\">2</td>\n",
       "        <td style=\"padding-left: 1em; padding-right: 1em; text-align: center; vertical-align: top\">6AxgBCNX_PNTOxmbRSwcKQ</td>\n",
       "        <td style=\"padding-left: 1em; padding-right: 1em; text-align: center; vertical-align: top\">5.0</td>\n",
       "    </tr>\n",
       "    <tr>\n",
       "        <td style=\"padding-left: 1em; padding-right: 1em; text-align: center; vertical-align: top\">LHSTtnW3YHCeUkRDGyJOyw</td>\n",
       "        <td style=\"padding-left: 1em; padding-right: 1em; text-align: center; vertical-align: top\">0</td>\n",
       "        <td style=\"padding-left: 1em; padding-right: 1em; text-align: center; vertical-align: top\">2015-08-07 02:29:16</td>\n",
       "        <td style=\"padding-left: 1em; padding-right: 1em; text-align: center; vertical-align: top\">0</td>\n",
       "        <td style=\"padding-left: 1em; padding-right: 1em; text-align: center; vertical-align: top\">_ZeMknuYdlQcUqng_Im3yg</td>\n",
       "        <td style=\"padding-left: 1em; padding-right: 1em; text-align: center; vertical-align: top\">5.0</td>\n",
       "    </tr>\n",
       "    <tr>\n",
       "        <td style=\"padding-left: 1em; padding-right: 1em; text-align: center; vertical-align: top\">B5XSoSG3SfvQGtKEGQ1tSQ</td>\n",
       "        <td style=\"padding-left: 1em; padding-right: 1em; text-align: center; vertical-align: top\">0</td>\n",
       "        <td style=\"padding-left: 1em; padding-right: 1em; text-align: center; vertical-align: top\">2016-03-30 22:46:33</td>\n",
       "        <td style=\"padding-left: 1em; padding-right: 1em; text-align: center; vertical-align: top\">1</td>\n",
       "        <td style=\"padding-left: 1em; padding-right: 1em; text-align: center; vertical-align: top\">ZKvDG2sBvHVdF5oBNUOpAQ</td>\n",
       "        <td style=\"padding-left: 1em; padding-right: 1em; text-align: center; vertical-align: top\">3.0</td>\n",
       "    </tr>\n",
       "    <tr>\n",
       "        <td style=\"padding-left: 1em; padding-right: 1em; text-align: center; vertical-align: top\">gebiRewfieSdtt17PTW6Zg</td>\n",
       "        <td style=\"padding-left: 1em; padding-right: 1em; text-align: center; vertical-align: top\">0</td>\n",
       "        <td style=\"padding-left: 1em; padding-right: 1em; text-align: center; vertical-align: top\">2016-07-25 07:31:06</td>\n",
       "        <td style=\"padding-left: 1em; padding-right: 1em; text-align: center; vertical-align: top\">0</td>\n",
       "        <td style=\"padding-left: 1em; padding-right: 1em; text-align: center; vertical-align: top\">pUycOfUwM8vqX7KjRRhUEA</td>\n",
       "        <td style=\"padding-left: 1em; padding-right: 1em; text-align: center; vertical-align: top\">3.0</td>\n",
       "    </tr>\n",
       "</table>\n",
       "<table frame=\"box\" rules=\"cols\">\n",
       "    <tr>\n",
       "        <th style=\"padding-left: 1em; padding-right: 1em; text-align: center\">text</th>\n",
       "        <th style=\"padding-left: 1em; padding-right: 1em; text-align: center\">useful</th>\n",
       "        <th style=\"padding-left: 1em; padding-right: 1em; text-align: center\">user_id</th>\n",
       "    </tr>\n",
       "    <tr>\n",
       "        <td style=\"padding-left: 1em; padding-right: 1em; text-align: center; vertical-align: top\">If you decide to eat<br>here, just be aware i ...</td>\n",
       "        <td style=\"padding-left: 1em; padding-right: 1em; text-align: center; vertical-align: top\">0</td>\n",
       "        <td style=\"padding-left: 1em; padding-right: 1em; text-align: center; vertical-align: top\">mh_-eMZ6K5RLWhZyISBhwA</td>\n",
       "    </tr>\n",
       "    <tr>\n",
       "        <td style=\"padding-left: 1em; padding-right: 1em; text-align: center; vertical-align: top\">I&#x27;ve taken a lot of spin<br>classes over the years, ...</td>\n",
       "        <td style=\"padding-left: 1em; padding-right: 1em; text-align: center; vertical-align: top\">1</td>\n",
       "        <td style=\"padding-left: 1em; padding-right: 1em; text-align: center; vertical-align: top\">OyoGAe7OKpv6SyGZT5g77Q</td>\n",
       "    </tr>\n",
       "    <tr>\n",
       "        <td style=\"padding-left: 1em; padding-right: 1em; text-align: center; vertical-align: top\">Family diner. Had the<br>buffet. Eclectic ...</td>\n",
       "        <td style=\"padding-left: 1em; padding-right: 1em; text-align: center; vertical-align: top\">0</td>\n",
       "        <td style=\"padding-left: 1em; padding-right: 1em; text-align: center; vertical-align: top\">8g_iMtfSiwikVnbP2etR0A</td>\n",
       "    </tr>\n",
       "    <tr>\n",
       "        <td style=\"padding-left: 1em; padding-right: 1em; text-align: center; vertical-align: top\">Wow!  Yummy, different,<br>delicious.   Our favo ...</td>\n",
       "        <td style=\"padding-left: 1em; padding-right: 1em; text-align: center; vertical-align: top\">1</td>\n",
       "        <td style=\"padding-left: 1em; padding-right: 1em; text-align: center; vertical-align: top\">_7bHUi9Uuf5__HHc_Q8guQ</td>\n",
       "    </tr>\n",
       "    <tr>\n",
       "        <td style=\"padding-left: 1em; padding-right: 1em; text-align: center; vertical-align: top\">Cute interior and owner<br>(?) gave us tour of ...</td>\n",
       "        <td style=\"padding-left: 1em; padding-right: 1em; text-align: center; vertical-align: top\">1</td>\n",
       "        <td style=\"padding-left: 1em; padding-right: 1em; text-align: center; vertical-align: top\">bcjbaE6dDog4jkNY91ncLQ</td>\n",
       "    </tr>\n",
       "    <tr>\n",
       "        <td style=\"padding-left: 1em; padding-right: 1em; text-align: center; vertical-align: top\">I am a long term frequent<br>customer of this ...</td>\n",
       "        <td style=\"padding-left: 1em; padding-right: 1em; text-align: center; vertical-align: top\">1</td>\n",
       "        <td style=\"padding-left: 1em; padding-right: 1em; text-align: center; vertical-align: top\">eUta8W_HdHMXPzLBBZhL1A</td>\n",
       "    </tr>\n",
       "    <tr>\n",
       "        <td style=\"padding-left: 1em; padding-right: 1em; text-align: center; vertical-align: top\">Loved this tour! I<br>grabbed a groupon and ...</td>\n",
       "        <td style=\"padding-left: 1em; padding-right: 1em; text-align: center; vertical-align: top\">0</td>\n",
       "        <td style=\"padding-left: 1em; padding-right: 1em; text-align: center; vertical-align: top\">r3zeYsv1XFBRA4dJpL78cw</td>\n",
       "    </tr>\n",
       "    <tr>\n",
       "        <td style=\"padding-left: 1em; padding-right: 1em; text-align: center; vertical-align: top\">Amazingly amazing wings<br>and homemade bleu che ...</td>\n",
       "        <td style=\"padding-left: 1em; padding-right: 1em; text-align: center; vertical-align: top\">2</td>\n",
       "        <td style=\"padding-left: 1em; padding-right: 1em; text-align: center; vertical-align: top\">yfFzsLmaWF2d4Sr0UNbBgg</td>\n",
       "    </tr>\n",
       "    <tr>\n",
       "        <td style=\"padding-left: 1em; padding-right: 1em; text-align: center; vertical-align: top\">This easter instead of<br>going to Lopez Lake we ...</td>\n",
       "        <td style=\"padding-left: 1em; padding-right: 1em; text-align: center; vertical-align: top\">1</td>\n",
       "        <td style=\"padding-left: 1em; padding-right: 1em; text-align: center; vertical-align: top\">wSTuiTk-sKNdcFyprzZAjg</td>\n",
       "    </tr>\n",
       "    <tr>\n",
       "        <td style=\"padding-left: 1em; padding-right: 1em; text-align: center; vertical-align: top\">Had a party of 6 here for<br>hibachi. Our waitress ...</td>\n",
       "        <td style=\"padding-left: 1em; padding-right: 1em; text-align: center; vertical-align: top\">0</td>\n",
       "        <td style=\"padding-left: 1em; padding-right: 1em; text-align: center; vertical-align: top\">59MxRhNVhU9MYndMkz0wtw</td>\n",
       "    </tr>\n",
       "</table>\n",
       "[6990280 rows x 9 columns]<br/>Note: Only the head of the SFrame is printed.<br/>You can use print_rows(num_rows=m, num_columns=n) to print more rows and columns.\n",
       "</div>"
      ],
      "text/plain": [
       "Columns:\n",
       "\tbusiness_id\tstr\n",
       "\tcool\tint\n",
       "\tdate\tstr\n",
       "\tfunny\tint\n",
       "\treview_id\tstr\n",
       "\tstars\tfloat\n",
       "\ttext\tstr\n",
       "\tuseful\tint\n",
       "\tuser_id\tstr\n",
       "\n",
       "Rows: 6990280\n",
       "\n",
       "Data:\n",
       "+------------------------+------+---------------------+-------+\n",
       "|      business_id       | cool |         date        | funny |\n",
       "+------------------------+------+---------------------+-------+\n",
       "| XQfwVwDr-v0ZS3_CbbE5Xw |  0   | 2018-07-07 22:09:11 |   0   |\n",
       "| 7ATYjTIgM3jUlt4UM3IypQ |  1   | 2012-01-03 15:28:18 |   0   |\n",
       "| YjUWPpI6HXG530lwP-fb2A |  0   | 2014-02-05 20:30:30 |   0   |\n",
       "| kxX2SOes4o-D3ZQBkiMRfA |  1   | 2015-01-04 00:01:03 |   0   |\n",
       "| e4Vwtrqf-wpJfwesgvdgxQ |  1   | 2017-01-14 20:54:15 |   0   |\n",
       "| 04UD14gamNjLY0IDYVhHJg |  1   | 2015-09-23 23:10:31 |   2   |\n",
       "| gmjsEdUsKpj9Xxu6pdjH0g |  0   | 2015-01-03 23:21:18 |   2   |\n",
       "| LHSTtnW3YHCeUkRDGyJOyw |  0   | 2015-08-07 02:29:16 |   0   |\n",
       "| B5XSoSG3SfvQGtKEGQ1tSQ |  0   | 2016-03-30 22:46:33 |   1   |\n",
       "| gebiRewfieSdtt17PTW6Zg |  0   | 2016-07-25 07:31:06 |   0   |\n",
       "+------------------------+------+---------------------+-------+\n",
       "+------------------------+-------+-------------------------------+--------+\n",
       "|       review_id        | stars |              text             | useful |\n",
       "+------------------------+-------+-------------------------------+--------+\n",
       "| KU_O5udG6zpxOg-VcAEodg |  3.0  | If you decide to eat here,... |   0    |\n",
       "| BiTunyQ73aT9WBnpR9DZGw |  5.0  | I've taken a lot of spin c... |   1    |\n",
       "| saUsX_uimxRlCVr67Z4Jig |  3.0  | Family diner. Had the buff... |   0    |\n",
       "| AqPFMleE6RsU23_auESxiA |  5.0  | Wow!  Yummy, different,  d... |   1    |\n",
       "| Sx8TMOWLNuJBWer-0pcmoA |  4.0  | Cute interior and owner (?... |   1    |\n",
       "| JrIxlS1TzJ-iCu79ul40cQ |  1.0  | I am a long term frequent ... |   1    |\n",
       "| 6AxgBCNX_PNTOxmbRSwcKQ |  5.0  | Loved this tour! I grabbed... |   0    |\n",
       "| _ZeMknuYdlQcUqng_Im3yg |  5.0  | Amazingly amazing wings an... |   2    |\n",
       "| ZKvDG2sBvHVdF5oBNUOpAQ |  3.0  | This easter instead of goi... |   1    |\n",
       "| pUycOfUwM8vqX7KjRRhUEA |  3.0  | Had a party of 6 here for ... |   0    |\n",
       "+------------------------+-------+-------------------------------+--------+\n",
       "+------------------------+\n",
       "|        user_id         |\n",
       "+------------------------+\n",
       "| mh_-eMZ6K5RLWhZyISBhwA |\n",
       "| OyoGAe7OKpv6SyGZT5g77Q |\n",
       "| 8g_iMtfSiwikVnbP2etR0A |\n",
       "| _7bHUi9Uuf5__HHc_Q8guQ |\n",
       "| bcjbaE6dDog4jkNY91ncLQ |\n",
       "| eUta8W_HdHMXPzLBBZhL1A |\n",
       "| r3zeYsv1XFBRA4dJpL78cw |\n",
       "| yfFzsLmaWF2d4Sr0UNbBgg |\n",
       "| wSTuiTk-sKNdcFyprzZAjg |\n",
       "| 59MxRhNVhU9MYndMkz0wtw |\n",
       "+------------------------+\n",
       "[6990280 rows x 9 columns]\n",
       "Note: Only the head of the SFrame is printed.\n",
       "You can use print_rows(num_rows=m, num_columns=n) to print more rows and columns."
      ]
     },
     "execution_count": 16,
     "metadata": {},
     "output_type": "execute_result"
    }
   ],
   "source": [
    "file = 'yelp_academic_dataset_review.json'\n",
    "data = turicreate.SFrame.read_json(file, orient='lines')\n",
    "data"
   ]
  },
  {
   "cell_type": "code",
   "execution_count": 30,
   "id": "9d68c756-ff4b-4133-b5c7-a5dab1108e4c",
   "metadata": {},
   "outputs": [
    {
     "data": {
      "text/plain": [
       "6934"
      ]
     },
     "execution_count": 30,
     "metadata": {},
     "output_type": "execute_result"
    }
   ],
   "source": [
    "data001 = data.sample(fraction=0.001, seed=None, exact=False)\n",
    "len(data001)"
   ]
  },
  {
   "cell_type": "code",
   "execution_count": 33,
   "id": "23331fd9-0496-43bc-a11b-43afc1b263d8",
   "metadata": {},
   "outputs": [
    {
     "data": {
      "text/html": [
       "<div style=\"max-height:1000px;max-width:1500px;overflow:auto;\"><table frame=\"box\" rules=\"cols\">\n",
       "    <tr>\n",
       "        <th style=\"padding-left: 1em; padding-right: 1em; text-align: center\">business_id</th>\n",
       "        <th style=\"padding-left: 1em; padding-right: 1em; text-align: center\">cool</th>\n",
       "        <th style=\"padding-left: 1em; padding-right: 1em; text-align: center\">date</th>\n",
       "        <th style=\"padding-left: 1em; padding-right: 1em; text-align: center\">funny</th>\n",
       "        <th style=\"padding-left: 1em; padding-right: 1em; text-align: center\">review_id</th>\n",
       "        <th style=\"padding-left: 1em; padding-right: 1em; text-align: center\">stars</th>\n",
       "    </tr>\n",
       "    <tr>\n",
       "        <td style=\"padding-left: 1em; padding-right: 1em; text-align: center; vertical-align: top\">4fQPIhCh2bUJBZcxQlLGFQ</td>\n",
       "        <td style=\"padding-left: 1em; padding-right: 1em; text-align: center; vertical-align: top\">0</td>\n",
       "        <td style=\"padding-left: 1em; padding-right: 1em; text-align: center; vertical-align: top\">2014-08-11 11:11:00</td>\n",
       "        <td style=\"padding-left: 1em; padding-right: 1em; text-align: center; vertical-align: top\">0</td>\n",
       "        <td style=\"padding-left: 1em; padding-right: 1em; text-align: center; vertical-align: top\">Rr_613GjMqQKfh5NAWlyMQ</td>\n",
       "        <td style=\"padding-left: 1em; padding-right: 1em; text-align: center; vertical-align: top\">4.0</td>\n",
       "    </tr>\n",
       "    <tr>\n",
       "        <td style=\"padding-left: 1em; padding-right: 1em; text-align: center; vertical-align: top\">V9XlikTxq0My4gE8LULsjw</td>\n",
       "        <td style=\"padding-left: 1em; padding-right: 1em; text-align: center; vertical-align: top\">0</td>\n",
       "        <td style=\"padding-left: 1em; padding-right: 1em; text-align: center; vertical-align: top\">2016-09-06 02:45:41</td>\n",
       "        <td style=\"padding-left: 1em; padding-right: 1em; text-align: center; vertical-align: top\">0</td>\n",
       "        <td style=\"padding-left: 1em; padding-right: 1em; text-align: center; vertical-align: top\">a1VP27bgzixzrI6WOPP1jQ</td>\n",
       "        <td style=\"padding-left: 1em; padding-right: 1em; text-align: center; vertical-align: top\">5.0</td>\n",
       "    </tr>\n",
       "    <tr>\n",
       "        <td style=\"padding-left: 1em; padding-right: 1em; text-align: center; vertical-align: top\">DsKzHnkLKnxZTVsFpts4oA</td>\n",
       "        <td style=\"padding-left: 1em; padding-right: 1em; text-align: center; vertical-align: top\">0</td>\n",
       "        <td style=\"padding-left: 1em; padding-right: 1em; text-align: center; vertical-align: top\">2017-07-18 19:10:43</td>\n",
       "        <td style=\"padding-left: 1em; padding-right: 1em; text-align: center; vertical-align: top\">0</td>\n",
       "        <td style=\"padding-left: 1em; padding-right: 1em; text-align: center; vertical-align: top\">DGq-K-XhBq4ViKL-I0i6pw</td>\n",
       "        <td style=\"padding-left: 1em; padding-right: 1em; text-align: center; vertical-align: top\">4.0</td>\n",
       "    </tr>\n",
       "    <tr>\n",
       "        <td style=\"padding-left: 1em; padding-right: 1em; text-align: center; vertical-align: top\">CA5BOxKRDPGJgdUQ8OUOpw</td>\n",
       "        <td style=\"padding-left: 1em; padding-right: 1em; text-align: center; vertical-align: top\">0</td>\n",
       "        <td style=\"padding-left: 1em; padding-right: 1em; text-align: center; vertical-align: top\">2013-10-04 01:27:26</td>\n",
       "        <td style=\"padding-left: 1em; padding-right: 1em; text-align: center; vertical-align: top\">0</td>\n",
       "        <td style=\"padding-left: 1em; padding-right: 1em; text-align: center; vertical-align: top\">fB_0ZiIHbr-Nmwd-SUdSqg</td>\n",
       "        <td style=\"padding-left: 1em; padding-right: 1em; text-align: center; vertical-align: top\">5.0</td>\n",
       "    </tr>\n",
       "    <tr>\n",
       "        <td style=\"padding-left: 1em; padding-right: 1em; text-align: center; vertical-align: top\">NV6zZPb5OGVpyX4JrSzUPg</td>\n",
       "        <td style=\"padding-left: 1em; padding-right: 1em; text-align: center; vertical-align: top\">2</td>\n",
       "        <td style=\"padding-left: 1em; padding-right: 1em; text-align: center; vertical-align: top\">2018-02-24 00:14:21</td>\n",
       "        <td style=\"padding-left: 1em; padding-right: 1em; text-align: center; vertical-align: top\">1</td>\n",
       "        <td style=\"padding-left: 1em; padding-right: 1em; text-align: center; vertical-align: top\">hzXVHZTl4bB6OL-CV-zGBQ</td>\n",
       "        <td style=\"padding-left: 1em; padding-right: 1em; text-align: center; vertical-align: top\">5.0</td>\n",
       "    </tr>\n",
       "    <tr>\n",
       "        <td style=\"padding-left: 1em; padding-right: 1em; text-align: center; vertical-align: top\">N5ekxQd7wGHWJJK-p9qqXw</td>\n",
       "        <td style=\"padding-left: 1em; padding-right: 1em; text-align: center; vertical-align: top\">0</td>\n",
       "        <td style=\"padding-left: 1em; padding-right: 1em; text-align: center; vertical-align: top\">2015-11-18 18:51:34</td>\n",
       "        <td style=\"padding-left: 1em; padding-right: 1em; text-align: center; vertical-align: top\">1</td>\n",
       "        <td style=\"padding-left: 1em; padding-right: 1em; text-align: center; vertical-align: top\">-FLvaKCeYmEMtVQMIkQHdQ</td>\n",
       "        <td style=\"padding-left: 1em; padding-right: 1em; text-align: center; vertical-align: top\">2.0</td>\n",
       "    </tr>\n",
       "    <tr>\n",
       "        <td style=\"padding-left: 1em; padding-right: 1em; text-align: center; vertical-align: top\">2KIDQyTh-HzLxOUEDqtDBg</td>\n",
       "        <td style=\"padding-left: 1em; padding-right: 1em; text-align: center; vertical-align: top\">0</td>\n",
       "        <td style=\"padding-left: 1em; padding-right: 1em; text-align: center; vertical-align: top\">2014-09-10 21:30:02</td>\n",
       "        <td style=\"padding-left: 1em; padding-right: 1em; text-align: center; vertical-align: top\">0</td>\n",
       "        <td style=\"padding-left: 1em; padding-right: 1em; text-align: center; vertical-align: top\">g__M9x6ip0hmPJtDIRykGw</td>\n",
       "        <td style=\"padding-left: 1em; padding-right: 1em; text-align: center; vertical-align: top\">5.0</td>\n",
       "    </tr>\n",
       "    <tr>\n",
       "        <td style=\"padding-left: 1em; padding-right: 1em; text-align: center; vertical-align: top\">KAk07Tbv0UsoY-s7RYfepg</td>\n",
       "        <td style=\"padding-left: 1em; padding-right: 1em; text-align: center; vertical-align: top\">1</td>\n",
       "        <td style=\"padding-left: 1em; padding-right: 1em; text-align: center; vertical-align: top\">2009-10-14 21:39:15</td>\n",
       "        <td style=\"padding-left: 1em; padding-right: 1em; text-align: center; vertical-align: top\">1</td>\n",
       "        <td style=\"padding-left: 1em; padding-right: 1em; text-align: center; vertical-align: top\">PLQuBC6lANoh37GQb8jdxw</td>\n",
       "        <td style=\"padding-left: 1em; padding-right: 1em; text-align: center; vertical-align: top\">4.0</td>\n",
       "    </tr>\n",
       "    <tr>\n",
       "        <td style=\"padding-left: 1em; padding-right: 1em; text-align: center; vertical-align: top\">Z22UXOUurTUbctD4xA521A</td>\n",
       "        <td style=\"padding-left: 1em; padding-right: 1em; text-align: center; vertical-align: top\">0</td>\n",
       "        <td style=\"padding-left: 1em; padding-right: 1em; text-align: center; vertical-align: top\">2016-06-23 15:00:25</td>\n",
       "        <td style=\"padding-left: 1em; padding-right: 1em; text-align: center; vertical-align: top\">0</td>\n",
       "        <td style=\"padding-left: 1em; padding-right: 1em; text-align: center; vertical-align: top\">k2MTDhHpcb52mV2RjvEscQ</td>\n",
       "        <td style=\"padding-left: 1em; padding-right: 1em; text-align: center; vertical-align: top\">5.0</td>\n",
       "    </tr>\n",
       "    <tr>\n",
       "        <td style=\"padding-left: 1em; padding-right: 1em; text-align: center; vertical-align: top\">9ouyziwYpSvJzlLFpukSgA</td>\n",
       "        <td style=\"padding-left: 1em; padding-right: 1em; text-align: center; vertical-align: top\">0</td>\n",
       "        <td style=\"padding-left: 1em; padding-right: 1em; text-align: center; vertical-align: top\">2016-04-23 02:42:28</td>\n",
       "        <td style=\"padding-left: 1em; padding-right: 1em; text-align: center; vertical-align: top\">0</td>\n",
       "        <td style=\"padding-left: 1em; padding-right: 1em; text-align: center; vertical-align: top\">Hny3Xeiu6kRLknHpaZLiCA</td>\n",
       "        <td style=\"padding-left: 1em; padding-right: 1em; text-align: center; vertical-align: top\">5.0</td>\n",
       "    </tr>\n",
       "</table>\n",
       "<table frame=\"box\" rules=\"cols\">\n",
       "    <tr>\n",
       "        <th style=\"padding-left: 1em; padding-right: 1em; text-align: center\">text</th>\n",
       "        <th style=\"padding-left: 1em; padding-right: 1em; text-align: center\">useful</th>\n",
       "        <th style=\"padding-left: 1em; padding-right: 1em; text-align: center\">user_id</th>\n",
       "    </tr>\n",
       "    <tr>\n",
       "        <td style=\"padding-left: 1em; padding-right: 1em; text-align: center; vertical-align: top\">Listen up, this is a good<br>buffet - a buffet - ...</td>\n",
       "        <td style=\"padding-left: 1em; padding-right: 1em; text-align: center; vertical-align: top\">0</td>\n",
       "        <td style=\"padding-left: 1em; padding-right: 1em; text-align: center; vertical-align: top\">ba9Fz4_S5S1maikWswBEpQ</td>\n",
       "    </tr>\n",
       "    <tr>\n",
       "        <td style=\"padding-left: 1em; padding-right: 1em; text-align: center; vertical-align: top\">Came in at 6:30 pm on<br>Labor Day for dinner on ...</td>\n",
       "        <td style=\"padding-left: 1em; padding-right: 1em; text-align: center; vertical-align: top\">0</td>\n",
       "        <td style=\"padding-left: 1em; padding-right: 1em; text-align: center; vertical-align: top\">DhfFfbGGFv9yorH5KDEWYQ</td>\n",
       "    </tr>\n",
       "    <tr>\n",
       "        <td style=\"padding-left: 1em; padding-right: 1em; text-align: center; vertical-align: top\">It&#x27;s a nice two-leveled<br>tavern, right across  ...</td>\n",
       "        <td style=\"padding-left: 1em; padding-right: 1em; text-align: center; vertical-align: top\">0</td>\n",
       "        <td style=\"padding-left: 1em; padding-right: 1em; text-align: center; vertical-align: top\">Zt9dmWEJmX6oBNNDWS_whw</td>\n",
       "    </tr>\n",
       "    <tr>\n",
       "        <td style=\"padding-left: 1em; padding-right: 1em; text-align: center; vertical-align: top\">We went on a Sunday night<br>and it was surprisingly ...</td>\n",
       "        <td style=\"padding-left: 1em; padding-right: 1em; text-align: center; vertical-align: top\">0</td>\n",
       "        <td style=\"padding-left: 1em; padding-right: 1em; text-align: center; vertical-align: top\">Vve73msJ9nzxzhehHvpACg</td>\n",
       "    </tr>\n",
       "    <tr>\n",
       "        <td style=\"padding-left: 1em; padding-right: 1em; text-align: center; vertical-align: top\">FAN.TAS.TIC! This place<br>is the real deal, folks! ...</td>\n",
       "        <td style=\"padding-left: 1em; padding-right: 1em; text-align: center; vertical-align: top\">3</td>\n",
       "        <td style=\"padding-left: 1em; padding-right: 1em; text-align: center; vertical-align: top\">970YlfubcATt-Bl8LGocFw</td>\n",
       "    </tr>\n",
       "    <tr>\n",
       "        <td style=\"padding-left: 1em; padding-right: 1em; text-align: center; vertical-align: top\">This place is OVERRATED.<br>Been twice now and I  ...</td>\n",
       "        <td style=\"padding-left: 1em; padding-right: 1em; text-align: center; vertical-align: top\">2</td>\n",
       "        <td style=\"padding-left: 1em; padding-right: 1em; text-align: center; vertical-align: top\">fK2InDgVRRLPTWApH6untQ</td>\n",
       "    </tr>\n",
       "    <tr>\n",
       "        <td style=\"padding-left: 1em; padding-right: 1em; text-align: center; vertical-align: top\">It is a true Italian<br>market. They have a wide ...</td>\n",
       "        <td style=\"padding-left: 1em; padding-right: 1em; text-align: center; vertical-align: top\">7</td>\n",
       "        <td style=\"padding-left: 1em; padding-right: 1em; text-align: center; vertical-align: top\">ZAaLsCbkJSL4FPyn6WSckg</td>\n",
       "    </tr>\n",
       "    <tr>\n",
       "        <td style=\"padding-left: 1em; padding-right: 1em; text-align: center; vertical-align: top\">My first experience with<br>Mongolian BBQ was in ...</td>\n",
       "        <td style=\"padding-left: 1em; padding-right: 1em; text-align: center; vertical-align: top\">1</td>\n",
       "        <td style=\"padding-left: 1em; padding-right: 1em; text-align: center; vertical-align: top\">8ZH2XiduzACwoqHTsqpNNw</td>\n",
       "    </tr>\n",
       "    <tr>\n",
       "        <td style=\"padding-left: 1em; padding-right: 1em; text-align: center; vertical-align: top\">I never ever post reviews<br>but this place defini ...</td>\n",
       "        <td style=\"padding-left: 1em; padding-right: 1em; text-align: center; vertical-align: top\">0</td>\n",
       "        <td style=\"padding-left: 1em; padding-right: 1em; text-align: center; vertical-align: top\">jbW8j7HwZgvTUnTUZma8wA</td>\n",
       "    </tr>\n",
       "    <tr>\n",
       "        <td style=\"padding-left: 1em; padding-right: 1em; text-align: center; vertical-align: top\">LOVE chiptole- all<br>locations! this location ...</td>\n",
       "        <td style=\"padding-left: 1em; padding-right: 1em; text-align: center; vertical-align: top\">1</td>\n",
       "        <td style=\"padding-left: 1em; padding-right: 1em; text-align: center; vertical-align: top\">U53g03FvzB6yESJeU12CrA</td>\n",
       "    </tr>\n",
       "</table>\n",
       "[5000 rows x 9 columns]<br/>Note: Only the head of the SFrame is printed.<br/>You can use print_rows(num_rows=m, num_columns=n) to print more rows and columns.\n",
       "</div>"
      ],
      "text/plain": [
       "Columns:\n",
       "\tbusiness_id\tstr\n",
       "\tcool\tint\n",
       "\tdate\tstr\n",
       "\tfunny\tint\n",
       "\treview_id\tstr\n",
       "\tstars\tfloat\n",
       "\ttext\tstr\n",
       "\tuseful\tint\n",
       "\tuser_id\tstr\n",
       "\n",
       "Rows: 5000\n",
       "\n",
       "Data:\n",
       "+------------------------+------+---------------------+-------+\n",
       "|      business_id       | cool |         date        | funny |\n",
       "+------------------------+------+---------------------+-------+\n",
       "| 4fQPIhCh2bUJBZcxQlLGFQ |  0   | 2014-08-11 11:11:00 |   0   |\n",
       "| V9XlikTxq0My4gE8LULsjw |  0   | 2016-09-06 02:45:41 |   0   |\n",
       "| DsKzHnkLKnxZTVsFpts4oA |  0   | 2017-07-18 19:10:43 |   0   |\n",
       "| CA5BOxKRDPGJgdUQ8OUOpw |  0   | 2013-10-04 01:27:26 |   0   |\n",
       "| NV6zZPb5OGVpyX4JrSzUPg |  2   | 2018-02-24 00:14:21 |   1   |\n",
       "| N5ekxQd7wGHWJJK-p9qqXw |  0   | 2015-11-18 18:51:34 |   1   |\n",
       "| 2KIDQyTh-HzLxOUEDqtDBg |  0   | 2014-09-10 21:30:02 |   0   |\n",
       "| KAk07Tbv0UsoY-s7RYfepg |  1   | 2009-10-14 21:39:15 |   1   |\n",
       "| Z22UXOUurTUbctD4xA521A |  0   | 2016-06-23 15:00:25 |   0   |\n",
       "| 9ouyziwYpSvJzlLFpukSgA |  0   | 2016-04-23 02:42:28 |   0   |\n",
       "+------------------------+------+---------------------+-------+\n",
       "+------------------------+-------+-------------------------------+--------+\n",
       "|       review_id        | stars |              text             | useful |\n",
       "+------------------------+-------+-------------------------------+--------+\n",
       "| Rr_613GjMqQKfh5NAWlyMQ |  4.0  | Listen up, this is a good ... |   0    |\n",
       "| a1VP27bgzixzrI6WOPP1jQ |  5.0  | Came in at 6:30 pm on Labo... |   0    |\n",
       "| DGq-K-XhBq4ViKL-I0i6pw |  4.0  | It's a nice two-leveled ta... |   0    |\n",
       "| fB_0ZiIHbr-Nmwd-SUdSqg |  5.0  | We went on a Sunday night ... |   0    |\n",
       "| hzXVHZTl4bB6OL-CV-zGBQ |  5.0  | FAN.TAS.TIC! This place is... |   3    |\n",
       "| -FLvaKCeYmEMtVQMIkQHdQ |  2.0  | This place is OVERRATED. B... |   2    |\n",
       "| g__M9x6ip0hmPJtDIRykGw |  5.0  | It is a true Italian marke... |   7    |\n",
       "| PLQuBC6lANoh37GQb8jdxw |  4.0  | My first experience with M... |   1    |\n",
       "| k2MTDhHpcb52mV2RjvEscQ |  5.0  | I never ever post reviews ... |   0    |\n",
       "| Hny3Xeiu6kRLknHpaZLiCA |  5.0  | LOVE chiptole- all locatio... |   1    |\n",
       "+------------------------+-------+-------------------------------+--------+\n",
       "+------------------------+\n",
       "|        user_id         |\n",
       "+------------------------+\n",
       "| ba9Fz4_S5S1maikWswBEpQ |\n",
       "| DhfFfbGGFv9yorH5KDEWYQ |\n",
       "| Zt9dmWEJmX6oBNNDWS_whw |\n",
       "| Vve73msJ9nzxzhehHvpACg |\n",
       "| 970YlfubcATt-Bl8LGocFw |\n",
       "| fK2InDgVRRLPTWApH6untQ |\n",
       "| ZAaLsCbkJSL4FPyn6WSckg |\n",
       "| 8ZH2XiduzACwoqHTsqpNNw |\n",
       "| jbW8j7HwZgvTUnTUZma8wA |\n",
       "| U53g03FvzB6yESJeU12CrA |\n",
       "+------------------------+\n",
       "[5000 rows x 9 columns]\n",
       "Note: Only the head of the SFrame is printed.\n",
       "You can use print_rows(num_rows=m, num_columns=n) to print more rows and columns."
      ]
     },
     "execution_count": 33,
     "metadata": {},
     "output_type": "execute_result"
    }
   ],
   "source": [
    "data5000 = data001[0:5000]\n",
    "data5000"
   ]
  },
  {
   "cell_type": "code",
   "execution_count": 35,
   "id": "68a2b3b2-a70a-4303-9f76-d3457dae801f",
   "metadata": {},
   "outputs": [],
   "source": [
    "df = data5000.to_dataframe()\n",
    "df.to_csv(\"Reviews_Random5000.csv\")"
   ]
  },
  {
   "cell_type": "code",
   "execution_count": null,
   "id": "bc0e1967-a71e-4875-8aaf-1bea694f5c62",
   "metadata": {},
   "outputs": [],
   "source": []
  }
 ],
 "metadata": {
  "kernelspec": {
   "display_name": "Python 3 (ipykernel)",
   "language": "python",
   "name": "python3"
  },
  "language_info": {
   "codemirror_mode": {
    "name": "ipython",
    "version": 3
   },
   "file_extension": ".py",
   "mimetype": "text/x-python",
   "name": "python",
   "nbconvert_exporter": "python",
   "pygments_lexer": "ipython3",
   "version": "3.8.14"
  }
 },
 "nbformat": 4,
 "nbformat_minor": 5
}
