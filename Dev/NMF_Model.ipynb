{
 "cells": [
  {
   "cell_type": "code",
   "execution_count": 100,
   "id": "af03b478",
   "metadata": {},
   "outputs": [],
   "source": [
    "import numpy as np\n",
    "import pandas as pd\n",
    "from sklearn.feature_extraction.text import TfidfVectorizer\n",
    "from sklearn.feature_extraction._stop_words import ENGLISH_STOP_WORDS\n",
    "from sklearn.decomposition import NMF\n",
    "from nltk.corpus import stopwords\n",
    "from sklearn.preprocessing import normalize"
   ]
  },
  {
   "cell_type": "code",
   "execution_count": 161,
   "id": "5cf709be",
   "metadata": {},
   "outputs": [
    {
     "data": {
      "text/html": [
       "<div>\n",
       "<style scoped>\n",
       "    .dataframe tbody tr th:only-of-type {\n",
       "        vertical-align: middle;\n",
       "    }\n",
       "\n",
       "    .dataframe tbody tr th {\n",
       "        vertical-align: top;\n",
       "    }\n",
       "\n",
       "    .dataframe thead th {\n",
       "        text-align: right;\n",
       "    }\n",
       "</style>\n",
       "<table border=\"1\" class=\"dataframe\">\n",
       "  <thead>\n",
       "    <tr style=\"text-align: right;\">\n",
       "      <th></th>\n",
       "      <th>review_id</th>\n",
       "      <th>business_id</th>\n",
       "      <th>text</th>\n",
       "      <th>target</th>\n",
       "      <th>words</th>\n",
       "    </tr>\n",
       "  </thead>\n",
       "  <tbody>\n",
       "    <tr>\n",
       "      <th>0</th>\n",
       "      <td>fxWnU4OqONBNoQhEcyazSg</td>\n",
       "      <td>krTHKI0YOpASr4gz2CVWFw</td>\n",
       "      <td>This location used to be good, several years a...</td>\n",
       "      <td>0.0</td>\n",
       "      <td>this location use to be good several year ago ...</td>\n",
       "    </tr>\n",
       "    <tr>\n",
       "      <th>1</th>\n",
       "      <td>FhtER9SGsEYkEhRcs09rsQ</td>\n",
       "      <td>krTHKI0YOpASr4gz2CVWFw</td>\n",
       "      <td>I love Cosi but this Cosi is going down hill f...</td>\n",
       "      <td>0.0</td>\n",
       "      <td>love cosi but this cosi be go down hill fast a...</td>\n",
       "    </tr>\n",
       "    <tr>\n",
       "      <th>2</th>\n",
       "      <td>0KlwfaHZyvao41_3S47dyg</td>\n",
       "      <td>w9hS5x1F52Id-G1KTrAOZg</td>\n",
       "      <td>Was not a fan of their cheesesteak. Their wiz ...</td>\n",
       "      <td>0.0</td>\n",
       "      <td>be not fan of their cheesesteak their wiz sauc...</td>\n",
       "    </tr>\n",
       "    <tr>\n",
       "      <th>3</th>\n",
       "      <td>2qeje7dttkvREbccHev6Pg</td>\n",
       "      <td>7lwe7n-Yc-V9E_HfLAeylg</td>\n",
       "      <td>It pains me to write this, but I fear I must.....</td>\n",
       "      <td>0.0</td>\n",
       "      <td>it pain to write this but fear must use to rea...</td>\n",
       "    </tr>\n",
       "    <tr>\n",
       "      <th>4</th>\n",
       "      <td>1OR23O0giNcxNbFAi4jgcg</td>\n",
       "      <td>DsKzHnkLKnxZTVsFpts4oA</td>\n",
       "      <td>Cocktails were nice however the bartender Paul...</td>\n",
       "      <td>0.0</td>\n",
       "      <td>cocktail be nice however the bartender paul be...</td>\n",
       "    </tr>\n",
       "  </tbody>\n",
       "</table>\n",
       "</div>"
      ],
      "text/plain": [
       "                review_id             business_id  \\\n",
       "0  fxWnU4OqONBNoQhEcyazSg  krTHKI0YOpASr4gz2CVWFw   \n",
       "1  FhtER9SGsEYkEhRcs09rsQ  krTHKI0YOpASr4gz2CVWFw   \n",
       "2  0KlwfaHZyvao41_3S47dyg  w9hS5x1F52Id-G1KTrAOZg   \n",
       "3  2qeje7dttkvREbccHev6Pg  7lwe7n-Yc-V9E_HfLAeylg   \n",
       "4  1OR23O0giNcxNbFAi4jgcg  DsKzHnkLKnxZTVsFpts4oA   \n",
       "\n",
       "                                                text  target  \\\n",
       "0  This location used to be good, several years a...     0.0   \n",
       "1  I love Cosi but this Cosi is going down hill f...     0.0   \n",
       "2  Was not a fan of their cheesesteak. Their wiz ...     0.0   \n",
       "3  It pains me to write this, but I fear I must.....     0.0   \n",
       "4  Cocktails were nice however the bartender Paul...     0.0   \n",
       "\n",
       "                                               words  \n",
       "0  this location use to be good several year ago ...  \n",
       "1  love cosi but this cosi be go down hill fast a...  \n",
       "2  be not fan of their cheesesteak their wiz sauc...  \n",
       "3  it pain to write this but fear must use to rea...  \n",
       "4  cocktail be nice however the bartender paul be...  "
      ]
     },
     "execution_count": 161,
     "metadata": {},
     "output_type": "execute_result"
    }
   ],
   "source": [
    "file = \"Cleaned_Text_Dataset.csv\"\n",
    "cleaned_reviews_df = pd.read_csv(file)\n",
    "del cleaned_reviews_df[\"Unnamed: 0\"]\n",
    "cleaned_reviews_df.head()"
   ]
  },
  {
   "cell_type": "code",
   "execution_count": 162,
   "id": "265d1614",
   "metadata": {},
   "outputs": [],
   "source": [
    "pos_reviews_df = cleaned_reviews_df[cleaned_reviews_df['target'] == 1]\n",
    "neg_reviews_df = cleaned_reviews_df[cleaned_reviews_df['target'] == 0]\n",
    "pos_reviews_df = pos_reviews_df.reset_index(drop=True)\n",
    "neg_reviews_df = neg_reviews_df.reset_index(drop=True)"
   ]
  },
  {
   "cell_type": "code",
   "execution_count": 163,
   "id": "401c7e1c",
   "metadata": {},
   "outputs": [],
   "source": [
    "pos_reviews = cleaned_reviews_df.words[cleaned_reviews_df.target == 1.0]\n",
    "neg_reviews = cleaned_reviews_df.words[cleaned_reviews_df.target == 0.0]"
   ]
  },
  {
   "cell_type": "code",
   "execution_count": 164,
   "id": "38f67d33",
   "metadata": {},
   "outputs": [
    {
     "data": {
      "text/plain": [
       "4565    go here with friend on the positive side very ...\n",
       "4566    love everything about kanella from the delicio...\n",
       "4567    daaaaaang that be great philly cheesesteak fry...\n",
       "4568    can never eat whole burrito could not stop eat...\n",
       "4569    price ncame here for restaurant week and think...\n",
       "                              ...                        \n",
       "9125    definitely huge fan of the pok spot ve order f...\n",
       "9126    this place be super cool so many choice in one...\n",
       "9127    hookah the hookah be good too bit to prepare b...\n",
       "9128    the food be absolutely amazing the service be ...\n",
       "9129    the resurgence of old city start with the litt...\n",
       "Name: words, Length: 4565, dtype: object"
      ]
     },
     "execution_count": 164,
     "metadata": {},
     "output_type": "execute_result"
    }
   ],
   "source": [
    "pos_reviews"
   ]
  },
  {
   "cell_type": "markdown",
   "id": "58566b17",
   "metadata": {},
   "source": [
    "## Stopwords"
   ]
  },
  {
   "cell_type": "code",
   "execution_count": 165,
   "id": "d0f397e0",
   "metadata": {},
   "outputs": [],
   "source": [
    "# Create a list of stop words with stopwords library \n",
    "# and adding extra stopwords that is not potentially useful \n",
    "my_stop_words = set(stopwords.words('english') + \n",
    "                    list(ENGLISH_STOP_WORDS) + \n",
    "                    ['super', 'duper', 've', 'like', 'got', \n",
    "                     'Cleveland', 'just', 'don', 'really', \n",
    "                     'said', 'told', 'ok','came', 'went', \n",
    "                     'did', 'didn', 'good'])"
   ]
  },
  {
   "cell_type": "markdown",
   "id": "7e44d535",
   "metadata": {},
   "source": [
    "## TF-IDF"
   ]
  },
  {
   "cell_type": "code",
   "execution_count": 166,
   "id": "7d0f6400",
   "metadata": {},
   "outputs": [],
   "source": [
    "# Create a vectorizer object to generate term document counts\n",
    "tfidf_pos = TfidfVectorizer(stop_words=my_stop_words, min_df=10, max_df=0.5, \n",
    "                        ngram_range=(1,2), token_pattern='[a-z][a-z]+')\n",
    "\n",
    "tfidf_neg = TfidfVectorizer(stop_words=my_stop_words, min_df=10, max_df=0.5, \n",
    "                        ngram_range=(1,2), token_pattern='[a-z][a-z]+')"
   ]
  },
  {
   "cell_type": "code",
   "execution_count": 167,
   "id": "377a7bc2",
   "metadata": {},
   "outputs": [
    {
     "name": "stderr",
     "output_type": "stream",
     "text": [
      "C:\\Users\\AA\\AppData\\Local\\Programs\\Python\\Python310\\lib\\site-packages\\sklearn\\feature_extraction\\text.py:404: UserWarning: Your stop_words may be inconsistent with your preprocessing. Tokenizing the stop words generated tokens ['cleveland'] not in stop_words.\n",
      "  warnings.warn(\n"
     ]
    }
   ],
   "source": [
    "# Get the vectors\n",
    "pos_vectors = tfidf_pos.fit_transform(pos_reviews)\n",
    "neg_vectors = tfidf_neg.fit_transform(neg_reviews)"
   ]
  },
  {
   "cell_type": "code",
   "execution_count": 168,
   "id": "2817ee84",
   "metadata": {},
   "outputs": [],
   "source": [
    "pos_df = pd.DataFrame(pos_vectors.todense(), columns=[tfidf_pos.get_feature_names_out()])\n",
    "neg_df = pd.DataFrame(neg_vectors.todense(), columns=[tfidf_neg.get_feature_names_out()])"
   ]
  },
  {
   "cell_type": "code",
   "execution_count": 169,
   "id": "19c75bff",
   "metadata": {},
   "outputs": [],
   "source": [
    "# get mean for each column (word): highest means are most important words\n",
    "col_means_pos = {}\n",
    "for col in pos_df:\n",
    "    col_means_pos[col] = pos_df[col].mean()\n",
    "\n",
    "col_means_neg = {}\n",
    "for col in neg_df:\n",
    "    col_means_neg[col] = neg_df[col].mean()"
   ]
  },
  {
   "cell_type": "code",
   "execution_count": 170,
   "id": "35f1f6ba",
   "metadata": {},
   "outputs": [
    {
     "name": "stdout",
     "output_type": "stream",
     "text": [
      "Top 8 words in POSITIVE reviews:[('place',), ('food',), ('great',), ('love',), ('come',), ('time',), ('order',), ('service',)]\n",
      "Top 8 words in NEGATIVE reviews:[('order',), ('place',), ('time',), ('come',), ('service',), ('say',), ('bad',), ('make',)]\n"
     ]
    }
   ],
   "source": [
    "no_top_words = 8\n",
    "\n",
    "print('Top %d words in POSITIVE reviews:' %no_top_words, end='')\n",
    "print(sorted(col_means_pos, key=col_means_pos.get, reverse=True)[:no_top_words])\n",
    "\n",
    "print('Top %d words in NEGATIVE reviews:' %no_top_words, end='')\n",
    "print(sorted(col_means_neg, key=col_means_neg.get, reverse=True)[:no_top_words])"
   ]
  },
  {
   "cell_type": "markdown",
   "id": "292176d7",
   "metadata": {},
   "source": [
    "\n",
    "- Looks like the top words for both positive and negative Yelp reviews have mention topic related to service , place , time and order."
   ]
  },
  {
   "cell_type": "markdown",
   "id": "1fb33616",
   "metadata": {},
   "source": [
    "## Apply NMF to find Generate Topics"
   ]
  },
  {
   "cell_type": "code",
   "execution_count": 171,
   "id": "b1eb49ec",
   "metadata": {},
   "outputs": [],
   "source": [
    "# change num_topics\n",
    "num_topics = 6\n",
    "\n",
    "nmf_pos = NMF(n_components=num_topics)\n",
    "W_pos = nmf_pos.fit_transform(pos_vectors)\n",
    "H_pos = nmf_pos.components_\n",
    "\n",
    "nmf_neg = NMF(n_components=num_topics)\n",
    "W_neg = nmf_neg.fit_transform(neg_vectors)\n",
    "H_neg = nmf_neg.components_"
   ]
  },
  {
   "cell_type": "code",
   "execution_count": 172,
   "id": "a5456ba8",
   "metadata": {},
   "outputs": [],
   "source": [
    "def display_topics(model, feature_names, num_topics, no_top_words):\n",
    "    for topic_idx, topic in enumerate(model.components_):\n",
    "        if topic_idx < num_topics:\n",
    "            print(\"{:11}\".format(\"Topic %d:\" %(topic_idx)), end='')\n",
    "            print(\", \".join(['{:04.3f}*'.format(topic[i])+feature_names[i] \\\n",
    "                             for i in topic.argsort()[:-no_top_words-1:-1]]))"
   ]
  },
  {
   "cell_type": "code",
   "execution_count": 173,
   "id": "7216fa77",
   "metadata": {},
   "outputs": [
    {
     "name": "stdout",
     "output_type": "stream",
     "text": [
      "Top topics + words for Positive reviews\n",
      "---------------------------------------\n",
      "Topic 0:   0.793*order, 0.636*come, 0.504*delicious, 0.483*chicken, 0.478*try, 0.469*dish\n",
      "Topic 1:   0.933*sandwich, 0.877*cheesesteak, 0.768*cheese, 0.754*pork, 0.696*steak, 0.634*roast\n",
      "Topic 2:   2.293*pizza, 0.264*crust, 0.228*slice, 0.197*pizza place, 0.170*pizza pizza, 0.161*pie\n",
      "Topic 3:   1.239*place, 0.863*market, 0.721*love, 0.515*terminal, 0.393*love place, 0.393*food\n",
      "Topic 4:   1.553*great, 1.177*food, 0.871*service, 0.532*recommend, 0.491*amazing, 0.463*staff\n",
      "Topic 5:   0.748*hour, 0.741*happy hour, 0.719*happy, 0.687*beer, 0.572*bar, 0.512*drink\n",
      "\n",
      "Top topics + words for Negative reviews\n",
      "---------------------------------------\n",
      "Topic 0:   1.162*table, 0.773*wait, 0.730*come, 0.693*minute, 0.625*ask, 0.601*reservation\n",
      "Topic 1:   0.839*chicken, 0.596*taste, 0.536*salad, 0.436*sauce, 0.393*dish, 0.371*rice\n",
      "Topic 2:   2.148*pizza, 0.300*slice, 0.207*pizza place, 0.205*order pizza, 0.194*crust, 0.142*cheese\n",
      "Topic 3:   0.800*bar, 0.767*drink, 0.693*place, 0.482*bartender, 0.481*service, 0.415*beer\n",
      "Topic 4:   1.581*order, 0.561*time, 0.496*delivery, 0.371*hour, 0.364*say, 0.334*customer\n",
      "Topic 5:   1.211*cheesesteak, 1.207*sandwich, 0.621*steak, 0.555*cheese, 0.529*meat, 0.505*philly\n"
     ]
    }
   ],
   "source": [
    "num_topics = num_topics\n",
    "num_top_words = 6\n",
    "\n",
    "print('Top topics + words for Positive reviews')\n",
    "print('-'*39)\n",
    "display_topics(nmf_pos, tfidf_pos.get_feature_names_out(), num_topics, num_top_words)\n",
    "\n",
    "print('\\nTop topics + words for Negative reviews')\n",
    "print('-'*39)\n",
    "display_topics(nmf_neg, tfidf_neg.get_feature_names_out(), num_topics, num_top_words)"
   ]
  },
  {
   "cell_type": "markdown",
   "id": "c6dd37ad",
   "metadata": {},
   "source": [
    "Topics in Positive reviews Similarity:\n",
    "- Topics(0) : Order , Delicious , Dish  \n",
    "- Topics(1) : Sandwich , Cheese , Steak , Pork\n",
    "- Topics(2) : Pizza , Food\n",
    "- Topics(3) : Place , Market\n",
    "- Topics(4) : Service , Staff\n",
    "- Topics(5) ：Happy hour , Beer\n",
    "\n",
    "Topics in Negative reviews Similarity:\n",
    "- Topics(0) : Table , Wait\n",
    "- Topics(1) : Dish , Salad , Taste\n",
    "- Topics(2) : Pizza , Food\n",
    "- Topics(3) : Bar , Drink\n",
    "- Topics(4) : Order , Time , Delivery\n",
    "- Topics(5) ：Cheesesteak, Sandwich"
   ]
  },
  {
   "cell_type": "markdown",
   "id": "dafd4bb1",
   "metadata": {},
   "source": [
    "With these topis, we can investigate any review in the datasets that, the similarity of topics to the reviews"
   ]
  },
  {
   "cell_type": "markdown",
   "id": "7dbd8d33",
   "metadata": {},
   "source": [
    "---"
   ]
  },
  {
   "cell_type": "markdown",
   "id": "f680e6ae",
   "metadata": {},
   "source": [
    "## Testing positive review similar topics"
   ]
  },
  {
   "cell_type": "code",
   "execution_count": 174,
   "id": "afce607d",
   "metadata": {},
   "outputs": [
    {
     "name": "stdout",
     "output_type": "stream",
     "text": [
      "Sample Positive Review :\n",
      "-------------------------\n",
      "What an excellent addition to the Fairmount/Francisville neighborhood collection of bars/restaurants! The fries are great, the salmon entree is seriously one of the best salmon dishes I've ever had, and the boards are a delicious and fun way to sample the menu. They definitely have to work out some kinks in the service, as we were told that a wait for our party of three would be a half hour but it ended up being an hour. And once we were seated we barely saw our waiter who apologized for the slow pace of service multiple times. But it was a Saturday night and their 5th night of business so they definitely get a pass. Oh and my beer-lover husband had great things to say about the in-house brews.\n",
      "-------------------------\n",
      "Topic 5: 0.0970\n",
      "Topic 0: 0.0354\n",
      "Topic 4: 0.0348\n",
      "Topic 1: 0.0000\n",
      "Topic 2: 0.0000\n",
      "Topic 3: 0.0000\n"
     ]
    }
   ],
   "source": [
    "sample_pos_review = pos_reviews_df['text'][99] #randomly select a positive review\n",
    "print('Sample Positive Review :')\n",
    "print('-'*25)\n",
    "print(sample_pos_review)\n",
    "print('-'*25)\n",
    "topic_dict = {}\n",
    "for ind, w in enumerate(W_pos[99]):\n",
    "    topic_dict[ind] = w\n",
    "for k in sorted(topic_dict, key=topic_dict.get, reverse=True):\n",
    "     print('Topic {}: {:.4f}'.format(k, topic_dict[k]))"
   ]
  },
  {
   "cell_type": "markdown",
   "id": "7368cdeb",
   "metadata": {},
   "source": [
    "## Testing negative review similar topics"
   ]
  },
  {
   "cell_type": "code",
   "execution_count": 175,
   "id": "0f2ce3af",
   "metadata": {},
   "outputs": [
    {
     "name": "stdout",
     "output_type": "stream",
     "text": [
      "Sample Negative Review :\n",
      "-------------------------\n",
      "This place has a very good chicken cheesesteak wrap, but if you are delivering be cautious of the roof delivery guy. I've had two encounters with the same guy and he is rude. The first time he was impatient, when I work at a hospital and was trying to meet him in the lobby. The second time he shoved the bag in my had since I told him to come inside instead of me going outside for the food . That is not how you treat customers! I called and spoke with the manager and he said \"well he is very busy, that's no excuse I'll talk to him\". If that was no excuse then it shouldn't have been mentioned. I'd recommend only dining in , if you must.\n",
      "-------------------------\n",
      "Topic 4: 0.0672\n",
      "Topic 5: 0.0288\n",
      "Topic 3: 0.0267\n",
      "Topic 0: 0.0080\n",
      "Topic 2: 0.0038\n",
      "Topic 1: 0.0000\n"
     ]
    }
   ],
   "source": [
    "sample_neg_review = neg_reviews_df['text'][99] #randomly select a positive review\n",
    "print('Sample Negative Review :')\n",
    "print('-'*25)\n",
    "print(sample_neg_review)\n",
    "print('-'*25)\n",
    "topic_dict = {}\n",
    "for ind, w in enumerate(W_neg[99]):\n",
    "    topic_dict[ind] = w\n",
    "for k in sorted(topic_dict, key=topic_dict.get, reverse=True):\n",
    "     print('Topic {}: {:.4f}'.format(k, topic_dict[k]))"
   ]
  },
  {
   "cell_type": "markdown",
   "id": "ba8846b6",
   "metadata": {},
   "source": [
    "---"
   ]
  },
  {
   "cell_type": "markdown",
   "id": "79ccf38d",
   "metadata": {},
   "source": [
    "## Apply NMF to find General Topic\n",
    "### with words replace with defined dictionary 'dicty'"
   ]
  },
  {
   "cell_type": "code",
   "execution_count": 176,
   "id": "036382ca",
   "metadata": {},
   "outputs": [],
   "source": [
    "dicty = {'pizzas':'pizza', 'burgers':'burger', 'ordered':'order',\n",
    "         'prices':'price', 'topping':'toppings'}\n",
    "def replace_words(text, dicty):\n",
    "    '''Returns text with word substitutions made according\n",
    "       to the passed `dicty` dictionary'''\n",
    "    for i,j in dicty.items():\n",
    "        text = text.replace(i,j)\n",
    "    return text\n",
    "\n",
    "# replace words with defined dictionary 'dicty'\n",
    "pos_reviews = [replace_words(w, dicty) for w in pos_reviews]\n",
    "neg_reviews = [replace_words(w, dicty) for w in neg_reviews]"
   ]
  },
  {
   "cell_type": "code",
   "execution_count": 177,
   "id": "def27133",
   "metadata": {},
   "outputs": [],
   "source": [
    "# Get the vectors\n",
    "neg_vectors = tfidf_neg.fit_transform(neg_reviews)\n",
    "pos_vectors = tfidf_pos.fit_transform(pos_reviews)"
   ]
  },
  {
   "cell_type": "code",
   "execution_count": 178,
   "id": "2e26e14e",
   "metadata": {},
   "outputs": [],
   "source": [
    "# change num_topics\n",
    "num_topics = 6\n",
    "\n",
    "nmf_pos = NMF(n_components=num_topics)\n",
    "W_pos = nmf_pos.fit_transform(pos_vectors)\n",
    "H_pos = nmf_pos.components_\n",
    "\n",
    "nmf_neg = NMF(n_components=num_topics)\n",
    "W_neg = nmf_neg.fit_transform(neg_vectors)\n",
    "H_neg = nmf_neg.components_"
   ]
  },
  {
   "cell_type": "code",
   "execution_count": 179,
   "id": "b87258d1",
   "metadata": {},
   "outputs": [
    {
     "name": "stdout",
     "output_type": "stream",
     "text": [
      "Topics for POSITIVE reviews\n",
      "---------------------------------------\n",
      "Topic 0:   0.801*order, 0.636*come, 0.505*delicious, 0.484*chicken, 0.478*try, 0.469*dish\n",
      "Topic 1:   0.937*sandwich, 0.881*cheesesteak, 0.772*cheese, 0.757*pork, 0.698*steak, 0.637*roast\n",
      "Topic 2:   2.287*pizza, 0.261*crust, 0.226*slice, 0.195*pizza place, 0.169*pizza pizza, 0.158*pie\n",
      "Topic 3:   1.258*place, 0.877*market, 0.732*love, 0.523*terminal, 0.399*love place, 0.399*food\n",
      "Topic 4:   1.551*great, 1.176*food, 0.869*service, 0.529*recommend, 0.491*amazing, 0.460*staff\n",
      "Topic 5:   0.746*hour, 0.739*happy hour, 0.717*happy, 0.686*beer, 0.571*bar, 0.511*drink\n",
      "\n",
      "Topics for NEGATIVE reviews\n",
      "---------------------------------------\n",
      "Topic 0:   1.161*table, 0.773*wait, 0.729*come, 0.693*minute, 0.626*ask, 0.601*reservation\n",
      "Topic 1:   0.840*chicken, 0.597*taste, 0.536*salad, 0.436*sauce, 0.393*dish, 0.372*rice\n",
      "Topic 2:   2.148*pizza, 0.300*slice, 0.207*pizza place, 0.205*order pizza, 0.194*crust, 0.142*cheese\n",
      "Topic 3:   0.799*bar, 0.767*drink, 0.694*place, 0.483*service, 0.481*bartender, 0.414*beer\n",
      "Topic 4:   1.584*order, 0.560*time, 0.497*delivery, 0.371*hour, 0.364*say, 0.332*customer\n",
      "Topic 5:   1.212*cheesesteak, 1.205*sandwich, 0.622*steak, 0.556*cheese, 0.529*meat, 0.505*philly\n"
     ]
    },
    {
     "name": "stderr",
     "output_type": "stream",
     "text": [
      "C:\\Users\\AA\\AppData\\Local\\Programs\\Python\\Python310\\lib\\site-packages\\sklearn\\utils\\deprecation.py:87: FutureWarning: Function get_feature_names is deprecated; get_feature_names is deprecated in 1.0 and will be removed in 1.2. Please use get_feature_names_out instead.\n",
      "  warnings.warn(msg, category=FutureWarning)\n"
     ]
    }
   ],
   "source": [
    "no_topics = num_topics\n",
    "no_top_words = 6\n",
    "\n",
    "print('Topics for POSITIVE reviews')\n",
    "print('-'*39)\n",
    "display_topics(nmf_pos, tfidf_pos.get_feature_names(), no_topics, no_top_words)\n",
    "\n",
    "print('\\nTopics for NEGATIVE reviews')\n",
    "print('-'*39)\n",
    "display_topics(nmf_neg, tfidf_neg.get_feature_names(), no_topics, no_top_words)"
   ]
  },
  {
   "cell_type": "markdown",
   "id": "d1e398f2",
   "metadata": {},
   "source": [
    "Topics in Positive reviews Similarity:\n",
    "- Topics(1) : Order , Delicious , Dish  \n",
    "- Topics(2) : Sandwich , Cheese , Steak , Pork\n",
    "- Topics(3) : Pizza , Food\n",
    "- Topics(4) : Place , Market\n",
    "- Topics(5) : Service , Staff\n",
    "- Topics(6) ：Happy hour , Beer\n",
    "\n",
    "Topics in Negative reviews Similarity:\n",
    "- Topics(1) : Table , Wait\n",
    "- Topics(2) : Dish , Salad , Taste\n",
    "- Topics(3) : Pizza , Food\n",
    "- Topics(4) : Bar , Drink\n",
    "- Topics(5) : Order , Time , Delivery\n",
    "- Topics(6) ：Cheesesteak, Sandwich"
   ]
  },
  {
   "cell_type": "markdown",
   "id": "30f081d7",
   "metadata": {},
   "source": [
    "## Summarize NMF results and create Topics"
   ]
  },
  {
   "cell_type": "code",
   "execution_count": 180,
   "id": "5fce7065",
   "metadata": {},
   "outputs": [],
   "source": [
    "pos_topics = {0:'order/delicious/dish', \n",
    "              1:'sandwich/cheese/steak/pork', \n",
    "              2:'pizza/food', \n",
    "              3:'place/market', \n",
    "              4:'service/staff', \n",
    "              5:'happy_hour/beer'}\n",
    "\n",
    "neg_topics = {0:'table/wait', \n",
    "              1:'dish/salad/taste', \n",
    "              2:'pizza/food', \n",
    "              3:'bar/drink', \n",
    "              4:'order/time/delivery', \n",
    "              5:'cheesesteak/sandwich'}"
   ]
  },
  {
   "cell_type": "markdown",
   "id": "ed363b1e",
   "metadata": {},
   "source": [
    "---"
   ]
  },
  {
   "cell_type": "markdown",
   "id": "e1a11db3",
   "metadata": {},
   "source": [
    "## Adding Topic Weights to Pandas DataFrame"
   ]
  },
  {
   "cell_type": "markdown",
   "id": "2c27799e",
   "metadata": {},
   "source": [
    "### sample weight for a review"
   ]
  },
  {
   "cell_type": "code",
   "execution_count": 181,
   "id": "7fbbe1b9",
   "metadata": {},
   "outputs": [
    {
     "name": "stdout",
     "output_type": "stream",
     "text": [
      "Topic weights :  [0.05695678 0.01332664 0.         0.         0.02137134 0.        ]\n",
      "Sum of weights:  0.09165475882145842\n"
     ]
    }
   ],
   "source": [
    "print('Topic weights : ', W_pos[1])\n",
    "print('Sum of weights: ', W_pos[1].sum())"
   ]
  },
  {
   "cell_type": "markdown",
   "id": "a09dd415",
   "metadata": {},
   "source": [
    "### Normalize the sum of weights"
   ]
  },
  {
   "cell_type": "code",
   "execution_count": 182,
   "id": "0c81495b",
   "metadata": {},
   "outputs": [
    {
     "name": "stdout",
     "output_type": "stream",
     "text": [
      "Normalized Topic weights :  [[0.41207147 0.33266376 0.         0.         0.03088991 0.22437486]]\n",
      "Sum of normalized weights:  1.0\n"
     ]
    }
   ],
   "source": [
    "print('Normalized Topic weights : ', normalize(W_pos[0].reshape(1,-1), norm='l1'))\n",
    "print('Sum of normalized weights: ', normalize(W_pos[0].reshape(1,-1), norm='l1').sum())"
   ]
  },
  {
   "cell_type": "code",
   "execution_count": 183,
   "id": "d17b6eeb",
   "metadata": {},
   "outputs": [],
   "source": [
    "# add normalized topic weights to each review\n",
    "pos_reviews_df = pd.concat([pos_reviews_df, pd.DataFrame(normalize(W_pos, norm='l1'))], axis=1)\n",
    "neg_reviews_df = pd.concat([neg_reviews_df, pd.DataFrame(normalize(W_pos, norm='l1'))], axis=1)"
   ]
  },
  {
   "cell_type": "code",
   "execution_count": 184,
   "id": "8c75a876",
   "metadata": {},
   "outputs": [],
   "source": [
    "pos_reviews_df = pos_reviews_df.rename(columns={0: \"topic_1\", 1: \"topic_2\" , 2: \"topic_3\", 3: \"topic_4\" , 4: \"topic_5\", 5: \"topic_6\"})\n",
    "neg_reviews_df = neg_reviews_df.rename(columns={0: \"topic_1\", 1: \"topic_2\" , 2: \"topic_3\", 3: \"topic_4\" , 4: \"topic_5\", 5: \"topic_6\"})"
   ]
  },
  {
   "cell_type": "code",
   "execution_count": 185,
   "id": "843ddf9a",
   "metadata": {},
   "outputs": [],
   "source": [
    "# drop unecessary columns\n",
    "del pos_reviews_df['review_id']\n",
    "del pos_reviews_df['text']\n",
    "del pos_reviews_df['target']\n",
    "del pos_reviews_df['words']"
   ]
  },
  {
   "cell_type": "code",
   "execution_count": 186,
   "id": "a7c9bfe4",
   "metadata": {},
   "outputs": [
    {
     "data": {
      "text/html": [
       "<div>\n",
       "<style scoped>\n",
       "    .dataframe tbody tr th:only-of-type {\n",
       "        vertical-align: middle;\n",
       "    }\n",
       "\n",
       "    .dataframe tbody tr th {\n",
       "        vertical-align: top;\n",
       "    }\n",
       "\n",
       "    .dataframe thead th {\n",
       "        text-align: right;\n",
       "    }\n",
       "</style>\n",
       "<table border=\"1\" class=\"dataframe\">\n",
       "  <thead>\n",
       "    <tr style=\"text-align: right;\">\n",
       "      <th></th>\n",
       "      <th>business_id</th>\n",
       "      <th>topic_1</th>\n",
       "      <th>topic_2</th>\n",
       "      <th>topic_3</th>\n",
       "      <th>topic_4</th>\n",
       "      <th>topic_5</th>\n",
       "      <th>topic_6</th>\n",
       "    </tr>\n",
       "  </thead>\n",
       "  <tbody>\n",
       "    <tr>\n",
       "      <th>0</th>\n",
       "      <td>4R2KR_-FybS7oegGrXjHVg</td>\n",
       "      <td>0.412071</td>\n",
       "      <td>0.332664</td>\n",
       "      <td>0.000000</td>\n",
       "      <td>0.000000</td>\n",
       "      <td>0.030890</td>\n",
       "      <td>0.224375</td>\n",
       "    </tr>\n",
       "    <tr>\n",
       "      <th>1</th>\n",
       "      <td>mUIBtlWNPD7sz3rGGWQ1RA</td>\n",
       "      <td>0.621427</td>\n",
       "      <td>0.145400</td>\n",
       "      <td>0.000000</td>\n",
       "      <td>0.000000</td>\n",
       "      <td>0.233172</td>\n",
       "      <td>0.000000</td>\n",
       "    </tr>\n",
       "    <tr>\n",
       "      <th>2</th>\n",
       "      <td>-mIlmp5l4hKlp1tvHRdvTg</td>\n",
       "      <td>0.000000</td>\n",
       "      <td>0.700482</td>\n",
       "      <td>0.000000</td>\n",
       "      <td>0.000000</td>\n",
       "      <td>0.291873</td>\n",
       "      <td>0.007645</td>\n",
       "    </tr>\n",
       "    <tr>\n",
       "      <th>3</th>\n",
       "      <td>gvD09Ev1aOmphtlq07zYEA</td>\n",
       "      <td>0.494617</td>\n",
       "      <td>0.004725</td>\n",
       "      <td>0.065640</td>\n",
       "      <td>0.435018</td>\n",
       "      <td>0.000000</td>\n",
       "      <td>0.000000</td>\n",
       "    </tr>\n",
       "    <tr>\n",
       "      <th>4</th>\n",
       "      <td>Ou-_OQUNvBcaAoRU0XPtaQ</td>\n",
       "      <td>0.511076</td>\n",
       "      <td>0.095343</td>\n",
       "      <td>0.001416</td>\n",
       "      <td>0.000000</td>\n",
       "      <td>0.392165</td>\n",
       "      <td>0.000000</td>\n",
       "    </tr>\n",
       "  </tbody>\n",
       "</table>\n",
       "</div>"
      ],
      "text/plain": [
       "              business_id   topic_1   topic_2   topic_3   topic_4   topic_5  \\\n",
       "0  4R2KR_-FybS7oegGrXjHVg  0.412071  0.332664  0.000000  0.000000  0.030890   \n",
       "1  mUIBtlWNPD7sz3rGGWQ1RA  0.621427  0.145400  0.000000  0.000000  0.233172   \n",
       "2  -mIlmp5l4hKlp1tvHRdvTg  0.000000  0.700482  0.000000  0.000000  0.291873   \n",
       "3  gvD09Ev1aOmphtlq07zYEA  0.494617  0.004725  0.065640  0.435018  0.000000   \n",
       "4  Ou-_OQUNvBcaAoRU0XPtaQ  0.511076  0.095343  0.001416  0.000000  0.392165   \n",
       "\n",
       "    topic_6  \n",
       "0  0.224375  \n",
       "1  0.000000  \n",
       "2  0.007645  \n",
       "3  0.000000  \n",
       "4  0.000000  "
      ]
     },
     "execution_count": 186,
     "metadata": {},
     "output_type": "execute_result"
    }
   ],
   "source": [
    "# peek into a dataframe to ensure it worked right\n",
    "pos_reviews_df.head(5)"
   ]
  },
  {
   "cell_type": "markdown",
   "id": "49047800",
   "metadata": {},
   "source": [
    "## group the reviews by businesses and calculate the average topic weights by businesses"
   ]
  },
  {
   "cell_type": "code",
   "execution_count": 187,
   "id": "309cf84c",
   "metadata": {},
   "outputs": [],
   "source": [
    "# group by business_id and apply mean/count functions to columns\n",
    "pos_reviews_df = pos_reviews_df.groupby('business_id').agg({'topic_1':'mean', 'topic_2':'mean', \n",
    "                                                            'topic_3':'mean', 'topic_4':'mean',\n",
    "                                                            'topic_5':'mean', 'topic_6':'mean'}).reset_index()\n",
    "neg_reviews_df = neg_reviews_df.groupby('business_id').agg({'topic_1':'mean', 'topic_2':'mean', \n",
    "                                                            'topic_3':'mean', 'topic_4':'mean',\n",
    "                                                            'topic_5':'mean', 'topic_6':'mean'}).reset_index()"
   ]
  },
  {
   "cell_type": "code",
   "execution_count": 188,
   "id": "4941a326",
   "metadata": {},
   "outputs": [
    {
     "data": {
      "text/html": [
       "<div>\n",
       "<style scoped>\n",
       "    .dataframe tbody tr th:only-of-type {\n",
       "        vertical-align: middle;\n",
       "    }\n",
       "\n",
       "    .dataframe tbody tr th {\n",
       "        vertical-align: top;\n",
       "    }\n",
       "\n",
       "    .dataframe thead th {\n",
       "        text-align: right;\n",
       "    }\n",
       "</style>\n",
       "<table border=\"1\" class=\"dataframe\">\n",
       "  <thead>\n",
       "    <tr style=\"text-align: right;\">\n",
       "      <th></th>\n",
       "      <th>business_id</th>\n",
       "      <th>name</th>\n",
       "      <th>address</th>\n",
       "      <th>city</th>\n",
       "      <th>state</th>\n",
       "      <th>postal_code</th>\n",
       "      <th>latitude</th>\n",
       "      <th>longitude</th>\n",
       "      <th>stars</th>\n",
       "      <th>review_count</th>\n",
       "      <th>is_open</th>\n",
       "      <th>attributes</th>\n",
       "      <th>categories</th>\n",
       "      <th>hours</th>\n",
       "      <th>general_category</th>\n",
       "    </tr>\n",
       "  </thead>\n",
       "  <tbody>\n",
       "    <tr>\n",
       "      <th>0</th>\n",
       "      <td>hSbwd-VP4THYYvSKQQr6Ow</td>\n",
       "      <td>George's Famous Roast Pork and Beef</td>\n",
       "      <td>1007 S 9th St</td>\n",
       "      <td>Philadelphia</td>\n",
       "      <td>PA</td>\n",
       "      <td>19147.0</td>\n",
       "      <td>39.937345</td>\n",
       "      <td>-75.158118</td>\n",
       "      <td>4.0</td>\n",
       "      <td>27</td>\n",
       "      <td>0</td>\n",
       "      <td>{'RestaurantsReservations': 'False', 'Restaura...</td>\n",
       "      <td>Restaurants, Delis</td>\n",
       "      <td>{'Monday': '7:30-15:0', 'Tuesday': '7:30-15:0'...</td>\n",
       "      <td>Restaurants</td>\n",
       "    </tr>\n",
       "  </tbody>\n",
       "</table>\n",
       "</div>"
      ],
      "text/plain": [
       "              business_id                                 name        address  \\\n",
       "0  hSbwd-VP4THYYvSKQQr6Ow  George's Famous Roast Pork and Beef  1007 S 9th St   \n",
       "\n",
       "           city state  postal_code   latitude  longitude  stars  review_count  \\\n",
       "0  Philadelphia    PA      19147.0  39.937345 -75.158118    4.0            27   \n",
       "\n",
       "   is_open                                         attributes  \\\n",
       "0        0  {'RestaurantsReservations': 'False', 'Restaura...   \n",
       "\n",
       "           categories                                              hours  \\\n",
       "0  Restaurants, Delis  {'Monday': '7:30-15:0', 'Tuesday': '7:30-15:0'...   \n",
       "\n",
       "  general_category  \n",
       "0      Restaurants  "
      ]
     },
     "execution_count": 188,
     "metadata": {},
     "output_type": "execute_result"
    }
   ],
   "source": [
    "# read the restaurant info file\n",
    "file = \"Filtered_Restaurant_Dataset.csv\"\n",
    "restaurant_df = pd.read_csv(file)\n",
    "restaurant_df.head(1)"
   ]
  },
  {
   "cell_type": "markdown",
   "id": "35fdcbf6",
   "metadata": {},
   "source": [
    "### add business name & city back to the review df"
   ]
  },
  {
   "cell_type": "code",
   "execution_count": 189,
   "id": "96212a01",
   "metadata": {},
   "outputs": [],
   "source": [
    "# merge business name/city with topic data\n",
    "pos_reviews_df = pos_reviews_df.merge(restaurant_df[['business_id', 'name', 'city', 'stars']], left_on='business_id', \n",
    "                               right_on='business_id')\n",
    "\n",
    "neg_reviews_df = neg_reviews_df.merge(restaurant_df[['business_id', 'name', 'city', 'stars']], left_on='business_id', \n",
    "                               right_on='business_id')\n"
   ]
  },
  {
   "cell_type": "code",
   "execution_count": 192,
   "id": "bec7af73",
   "metadata": {},
   "outputs": [
    {
     "data": {
      "text/html": [
       "<div>\n",
       "<style scoped>\n",
       "    .dataframe tbody tr th:only-of-type {\n",
       "        vertical-align: middle;\n",
       "    }\n",
       "\n",
       "    .dataframe tbody tr th {\n",
       "        vertical-align: top;\n",
       "    }\n",
       "\n",
       "    .dataframe thead th {\n",
       "        text-align: right;\n",
       "    }\n",
       "</style>\n",
       "<table border=\"1\" class=\"dataframe\">\n",
       "  <thead>\n",
       "    <tr style=\"text-align: right;\">\n",
       "      <th></th>\n",
       "      <th>business_id</th>\n",
       "      <th>name</th>\n",
       "      <th>city</th>\n",
       "      <th>stars</th>\n",
       "      <th>topic_1</th>\n",
       "      <th>topic_2</th>\n",
       "      <th>topic_3</th>\n",
       "      <th>topic_4</th>\n",
       "      <th>topic_5</th>\n",
       "      <th>topic_6</th>\n",
       "    </tr>\n",
       "  </thead>\n",
       "  <tbody>\n",
       "    <tr>\n",
       "      <th>0</th>\n",
       "      <td>-2-ih3mE8KPyeKVIzpBfPQ</td>\n",
       "      <td>SkyGarten</td>\n",
       "      <td>Philadelphia</td>\n",
       "      <td>3.5</td>\n",
       "      <td>0.168629</td>\n",
       "      <td>0.0</td>\n",
       "      <td>0.0</td>\n",
       "      <td>0.013712</td>\n",
       "      <td>0.1451</td>\n",
       "      <td>0.672559</td>\n",
       "    </tr>\n",
       "  </tbody>\n",
       "</table>\n",
       "</div>"
      ],
      "text/plain": [
       "              business_id       name          city  stars   topic_1  topic_2  \\\n",
       "0  -2-ih3mE8KPyeKVIzpBfPQ  SkyGarten  Philadelphia    3.5  0.168629      0.0   \n",
       "\n",
       "   topic_3   topic_4  topic_5   topic_6  \n",
       "0      0.0  0.013712   0.1451  0.672559  "
      ]
     },
     "execution_count": 192,
     "metadata": {},
     "output_type": "execute_result"
    }
   ],
   "source": [
    "# rearrange dataframe\n",
    "pos_reviews_df = pos_reviews_df[['business_id' , 'name' , 'city' , 'stars' , 'topic_1' , 'topic_2' , 'topic_3' , 'topic_4' , 'topic_5' , 'topic_6']]\n",
    "neg_reviews_df = neg_reviews_df[['business_id' , 'name' , 'city' , 'stars' , 'topic_1' , 'topic_2' , 'topic_3' , 'topic_4' , 'topic_5' , 'topic_6']]\n",
    "pos_reviews_df.head(1)"
   ]
  },
  {
   "cell_type": "markdown",
   "id": "d79e92d0",
   "metadata": {},
   "source": [
    "### With the new pos_reviews_df , we can check the restaurant that is in this dataframe that how close is the restaurant to all topics."
   ]
  },
  {
   "cell_type": "code",
   "execution_count": 194,
   "id": "c7c87665",
   "metadata": {},
   "outputs": [
    {
     "name": "stdout",
     "output_type": "stream",
     "text": [
      "SkyGarten - Positive Reviews\n",
      "------------------------------------\n",
      "Topic 0: order/delicious/dish > 0.1686\n",
      "Topic 1: sandwich/cheese/steak/pork > 0.0000\n",
      "Topic 2: pizza/food         > 0.0000\n",
      "Topic 3: place/market       > 0.0137\n",
      "Topic 4: service/staff      > 0.1451\n",
      "Topic 5: happy_hour/beer    > 0.6726\n"
     ]
    }
   ],
   "source": [
    "topics_weights = pos_reviews_df[pos_reviews_df.business_id == '-2-ih3mE8KPyeKVIzpBfPQ'].iloc[:,-6:].values\n",
    "print(restaurant_df[restaurant_df.business_id == '-2-ih3mE8KPyeKVIzpBfPQ']['name'].values[0] + ' - Positive Reviews')\n",
    "print('-'*36)\n",
    "for n in pos_topics:\n",
    "    print('Topic {}: {:18} > {:.4f}'.format(n, pos_topics[n], topics_weights[0][n]))"
   ]
  },
  {
   "cell_type": "markdown",
   "id": "e53c2770",
   "metadata": {},
   "source": [
    "---"
   ]
  },
  {
   "cell_type": "markdown",
   "id": "8b9ba28f",
   "metadata": {},
   "source": [
    "### Export to CSV"
   ]
  },
  {
   "cell_type": "code",
   "execution_count": 195,
   "id": "ac759b64",
   "metadata": {},
   "outputs": [],
   "source": [
    "pos_reviews_df.to_csv('Positive_Restaurant_Topics.csv')\n",
    "neg_reviews_df.to_csv('Negative_Restaurant_Topics.csv')"
   ]
  },
  {
   "cell_type": "code",
   "execution_count": null,
   "id": "c961613a",
   "metadata": {},
   "outputs": [],
   "source": []
  }
 ],
 "metadata": {
  "kernelspec": {
   "display_name": "Python 3 (ipykernel)",
   "language": "python",
   "name": "python3"
  },
  "language_info": {
   "codemirror_mode": {
    "name": "ipython",
    "version": 3
   },
   "file_extension": ".py",
   "mimetype": "text/x-python",
   "name": "python",
   "nbconvert_exporter": "python",
   "pygments_lexer": "ipython3",
   "version": "3.10.7"
  }
 },
 "nbformat": 4,
 "nbformat_minor": 5
}
