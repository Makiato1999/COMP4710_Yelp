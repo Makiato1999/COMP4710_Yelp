{
 "cells": [
  {
   "cell_type": "markdown",
   "id": "7870471d",
   "metadata": {},
   "source": [
    "## import necessary libraries"
   ]
  },
  {
   "cell_type": "code",
   "execution_count": 1,
   "id": "1cd0a56a",
   "metadata": {},
   "outputs": [],
   "source": [
    "import turicreate"
   ]
  },
  {
   "cell_type": "markdown",
   "id": "4dcd6771",
   "metadata": {},
   "source": [
    "## Read filtered restaurant datasets"
   ]
  },
  {
   "cell_type": "code",
   "execution_count": 2,
   "id": "e8223b0a",
   "metadata": {},
   "outputs": [
    {
     "data": {
      "text/html": [
       "<pre>Finished parsing file /home/yunji/venv/Program_Files/Comp4710_Yelp/Filtered_Restaurant_Dataset.csv</pre>"
      ],
      "text/plain": [
       "Finished parsing file /home/yunji/venv/Program_Files/Comp4710_Yelp/Filtered_Restaurant_Dataset.csv"
      ]
     },
     "metadata": {},
     "output_type": "display_data"
    },
    {
     "data": {
      "text/html": [
       "<pre>Parsing completed. Parsed 100 lines in 0.041021 secs.</pre>"
      ],
      "text/plain": [
       "Parsing completed. Parsed 100 lines in 0.041021 secs."
      ]
     },
     "metadata": {},
     "output_type": "display_data"
    },
    {
     "name": "stdout",
     "output_type": "stream",
     "text": [
      "------------------------------------------------------\n",
      "Inferred types from first 100 line(s) of file as \n",
      "column_type_hints=[str,str,str,str,str,int,float,float,float,int,int,dict,str,dict,str]\n",
      "If parsing fails due to incorrect types, you can correct\n",
      "the inferred type list above and pass it to read_csv in\n",
      "the column_type_hints argument\n",
      "------------------------------------------------------\n"
     ]
    },
    {
     "data": {
      "text/html": [
       "<pre>Finished parsing file /home/yunji/venv/Program_Files/Comp4710_Yelp/Filtered_Restaurant_Dataset.csv</pre>"
      ],
      "text/plain": [
       "Finished parsing file /home/yunji/venv/Program_Files/Comp4710_Yelp/Filtered_Restaurant_Dataset.csv"
      ]
     },
     "metadata": {},
     "output_type": "display_data"
    },
    {
     "data": {
      "text/html": [
       "<pre>Parsing completed. Parsed 500 lines in 0.024069 secs.</pre>"
      ],
      "text/plain": [
       "Parsing completed. Parsed 500 lines in 0.024069 secs."
      ]
     },
     "metadata": {},
     "output_type": "display_data"
    },
    {
     "data": {
      "text/html": [
       "<div style=\"max-height:1000px;max-width:1500px;overflow:auto;\"><table frame=\"box\" rules=\"cols\">\n",
       "    <tr>\n",
       "        <th style=\"padding-left: 1em; padding-right: 1em; text-align: center\">business_id</th>\n",
       "        <th style=\"padding-left: 1em; padding-right: 1em; text-align: center\">name</th>\n",
       "        <th style=\"padding-left: 1em; padding-right: 1em; text-align: center\">address</th>\n",
       "        <th style=\"padding-left: 1em; padding-right: 1em; text-align: center\">city</th>\n",
       "        <th style=\"padding-left: 1em; padding-right: 1em; text-align: center\">state</th>\n",
       "        <th style=\"padding-left: 1em; padding-right: 1em; text-align: center\">postal_code</th>\n",
       "    </tr>\n",
       "    <tr>\n",
       "        <td style=\"padding-left: 1em; padding-right: 1em; text-align: center; vertical-align: top\">hSbwd-VP4THYYvSKQQr6Ow</td>\n",
       "        <td style=\"padding-left: 1em; padding-right: 1em; text-align: center; vertical-align: top\">George&#x27;s Famous Roast<br>Pork and Beef ...</td>\n",
       "        <td style=\"padding-left: 1em; padding-right: 1em; text-align: center; vertical-align: top\">1007 S 9th St</td>\n",
       "        <td style=\"padding-left: 1em; padding-right: 1em; text-align: center; vertical-align: top\">Philadelphia</td>\n",
       "        <td style=\"padding-left: 1em; padding-right: 1em; text-align: center; vertical-align: top\">PA</td>\n",
       "        <td style=\"padding-left: 1em; padding-right: 1em; text-align: center; vertical-align: top\">19147</td>\n",
       "    </tr>\n",
       "    <tr>\n",
       "        <td style=\"padding-left: 1em; padding-right: 1em; text-align: center; vertical-align: top\">e57HVMhbHJ37nQ363YAaYw</td>\n",
       "        <td style=\"padding-left: 1em; padding-right: 1em; text-align: center; vertical-align: top\">Roosevelt Pub</td>\n",
       "        <td style=\"padding-left: 1em; padding-right: 1em; text-align: center; vertical-align: top\">2220 Walnut St</td>\n",
       "        <td style=\"padding-left: 1em; padding-right: 1em; text-align: center; vertical-align: top\">Philadelphia</td>\n",
       "        <td style=\"padding-left: 1em; padding-right: 1em; text-align: center; vertical-align: top\">PA</td>\n",
       "        <td style=\"padding-left: 1em; padding-right: 1em; text-align: center; vertical-align: top\">19103</td>\n",
       "    </tr>\n",
       "    <tr>\n",
       "        <td style=\"padding-left: 1em; padding-right: 1em; text-align: center; vertical-align: top\">DY2-gIyesL5S5_DZM2TqeQ</td>\n",
       "        <td style=\"padding-left: 1em; padding-right: 1em; text-align: center; vertical-align: top\">El Gallo Pinto Restaurant</td>\n",
       "        <td style=\"padding-left: 1em; padding-right: 1em; text-align: center; vertical-align: top\">1163 S 7th. St</td>\n",
       "        <td style=\"padding-left: 1em; padding-right: 1em; text-align: center; vertical-align: top\">Philadelphia</td>\n",
       "        <td style=\"padding-left: 1em; padding-right: 1em; text-align: center; vertical-align: top\">PA</td>\n",
       "        <td style=\"padding-left: 1em; padding-right: 1em; text-align: center; vertical-align: top\">19147</td>\n",
       "    </tr>\n",
       "    <tr>\n",
       "        <td style=\"padding-left: 1em; padding-right: 1em; text-align: center; vertical-align: top\">gjFUrbSMo1rA1jgG5IhA2A</td>\n",
       "        <td style=\"padding-left: 1em; padding-right: 1em; text-align: center; vertical-align: top\">Chima Steakhouse</td>\n",
       "        <td style=\"padding-left: 1em; padding-right: 1em; text-align: center; vertical-align: top\">1901 John F Kennedy Blvd</td>\n",
       "        <td style=\"padding-left: 1em; padding-right: 1em; text-align: center; vertical-align: top\">Philadelphia</td>\n",
       "        <td style=\"padding-left: 1em; padding-right: 1em; text-align: center; vertical-align: top\">PA</td>\n",
       "        <td style=\"padding-left: 1em; padding-right: 1em; text-align: center; vertical-align: top\">19103</td>\n",
       "    </tr>\n",
       "    <tr>\n",
       "        <td style=\"padding-left: 1em; padding-right: 1em; text-align: center; vertical-align: top\">ciQrHorElL1_ekMewnsDXg</td>\n",
       "        <td style=\"padding-left: 1em; padding-right: 1em; text-align: center; vertical-align: top\">Evil Eye Café</td>\n",
       "        <td style=\"padding-left: 1em; padding-right: 1em; text-align: center; vertical-align: top\">628 S St</td>\n",
       "        <td style=\"padding-left: 1em; padding-right: 1em; text-align: center; vertical-align: top\">Philadelphia</td>\n",
       "        <td style=\"padding-left: 1em; padding-right: 1em; text-align: center; vertical-align: top\">PA</td>\n",
       "        <td style=\"padding-left: 1em; padding-right: 1em; text-align: center; vertical-align: top\">19147</td>\n",
       "    </tr>\n",
       "    <tr>\n",
       "        <td style=\"padding-left: 1em; padding-right: 1em; text-align: center; vertical-align: top\">NXq1TC8CjIQ_2HWMSoN2Mg</td>\n",
       "        <td style=\"padding-left: 1em; padding-right: 1em; text-align: center; vertical-align: top\">Tweed</td>\n",
       "        <td style=\"padding-left: 1em; padding-right: 1em; text-align: center; vertical-align: top\">114 S 12th St</td>\n",
       "        <td style=\"padding-left: 1em; padding-right: 1em; text-align: center; vertical-align: top\">Philadelphia</td>\n",
       "        <td style=\"padding-left: 1em; padding-right: 1em; text-align: center; vertical-align: top\">PA</td>\n",
       "        <td style=\"padding-left: 1em; padding-right: 1em; text-align: center; vertical-align: top\">19107</td>\n",
       "    </tr>\n",
       "    <tr>\n",
       "        <td style=\"padding-left: 1em; padding-right: 1em; text-align: center; vertical-align: top\">NWF16GKQyZNVHo086gIVzQ</td>\n",
       "        <td style=\"padding-left: 1em; padding-right: 1em; text-align: center; vertical-align: top\">Kamals Middle Eastern<br>Specialties ...</td>\n",
       "        <td style=\"padding-left: 1em; padding-right: 1em; text-align: center; vertical-align: top\">51 N 12th St</td>\n",
       "        <td style=\"padding-left: 1em; padding-right: 1em; text-align: center; vertical-align: top\">Philadelphia</td>\n",
       "        <td style=\"padding-left: 1em; padding-right: 1em; text-align: center; vertical-align: top\">PA</td>\n",
       "        <td style=\"padding-left: 1em; padding-right: 1em; text-align: center; vertical-align: top\">19102</td>\n",
       "    </tr>\n",
       "    <tr>\n",
       "        <td style=\"padding-left: 1em; padding-right: 1em; text-align: center; vertical-align: top\">1CCG0WYSoR8ejdgD5-Gaqg</td>\n",
       "        <td style=\"padding-left: 1em; padding-right: 1em; text-align: center; vertical-align: top\">Francoluigi&#x27;s Pizzeria &amp;<br>Italian Restaurant ...</td>\n",
       "        <td style=\"padding-left: 1em; padding-right: 1em; text-align: center; vertical-align: top\">1549 S 13th St</td>\n",
       "        <td style=\"padding-left: 1em; padding-right: 1em; text-align: center; vertical-align: top\">Philadelphia</td>\n",
       "        <td style=\"padding-left: 1em; padding-right: 1em; text-align: center; vertical-align: top\">PA</td>\n",
       "        <td style=\"padding-left: 1em; padding-right: 1em; text-align: center; vertical-align: top\">19147</td>\n",
       "    </tr>\n",
       "    <tr>\n",
       "        <td style=\"padding-left: 1em; padding-right: 1em; text-align: center; vertical-align: top\">jmgEQ7co9p5aV7l1EPbvBQ</td>\n",
       "        <td style=\"padding-left: 1em; padding-right: 1em; text-align: center; vertical-align: top\">Fruit Salad Truck</td>\n",
       "        <td style=\"padding-left: 1em; padding-right: 1em; text-align: center; vertical-align: top\">17th &amp; Arch St</td>\n",
       "        <td style=\"padding-left: 1em; padding-right: 1em; text-align: center; vertical-align: top\">Philadelphia</td>\n",
       "        <td style=\"padding-left: 1em; padding-right: 1em; text-align: center; vertical-align: top\">PA</td>\n",
       "        <td style=\"padding-left: 1em; padding-right: 1em; text-align: center; vertical-align: top\">19103</td>\n",
       "    </tr>\n",
       "    <tr>\n",
       "        <td style=\"padding-left: 1em; padding-right: 1em; text-align: center; vertical-align: top\">h6XRiG4QOnuY6n3SRnou1w</td>\n",
       "        <td style=\"padding-left: 1em; padding-right: 1em; text-align: center; vertical-align: top\">Cooperage Café</td>\n",
       "        <td style=\"padding-left: 1em; padding-right: 1em; text-align: center; vertical-align: top\">150 S Independence Mall W</td>\n",
       "        <td style=\"padding-left: 1em; padding-right: 1em; text-align: center; vertical-align: top\">Philadelphia</td>\n",
       "        <td style=\"padding-left: 1em; padding-right: 1em; text-align: center; vertical-align: top\">PA</td>\n",
       "        <td style=\"padding-left: 1em; padding-right: 1em; text-align: center; vertical-align: top\">19106</td>\n",
       "    </tr>\n",
       "</table>\n",
       "<table frame=\"box\" rules=\"cols\">\n",
       "    <tr>\n",
       "        <th style=\"padding-left: 1em; padding-right: 1em; text-align: center\">latitude</th>\n",
       "        <th style=\"padding-left: 1em; padding-right: 1em; text-align: center\">longitude</th>\n",
       "        <th style=\"padding-left: 1em; padding-right: 1em; text-align: center\">stars</th>\n",
       "        <th style=\"padding-left: 1em; padding-right: 1em; text-align: center\">review_count</th>\n",
       "        <th style=\"padding-left: 1em; padding-right: 1em; text-align: center\">is_open</th>\n",
       "        <th style=\"padding-left: 1em; padding-right: 1em; text-align: center\">attributes</th>\n",
       "    </tr>\n",
       "    <tr>\n",
       "        <td style=\"padding-left: 1em; padding-right: 1em; text-align: center; vertical-align: top\">39.9373453</td>\n",
       "        <td style=\"padding-left: 1em; padding-right: 1em; text-align: center; vertical-align: top\">-75.1581179</td>\n",
       "        <td style=\"padding-left: 1em; padding-right: 1em; text-align: center; vertical-align: top\">4.0</td>\n",
       "        <td style=\"padding-left: 1em; padding-right: 1em; text-align: center; vertical-align: top\">27</td>\n",
       "        <td style=\"padding-left: 1em; padding-right: 1em; text-align: center; vertical-align: top\">0</td>\n",
       "        <td style=\"padding-left: 1em; padding-right: 1em; text-align: center; vertical-align: top\">{&#x27;RestaurantsReservations<br>&#x27;: &#x27;False&#x27;, ...</td>\n",
       "    </tr>\n",
       "    <tr>\n",
       "        <td style=\"padding-left: 1em; padding-right: 1em; text-align: center; vertical-align: top\">39.9509902358</td>\n",
       "        <td style=\"padding-left: 1em; padding-right: 1em; text-align: center; vertical-align: top\">-75.1783608264</td>\n",
       "        <td style=\"padding-left: 1em; padding-right: 1em; text-align: center; vertical-align: top\">3.0</td>\n",
       "        <td style=\"padding-left: 1em; padding-right: 1em; text-align: center; vertical-align: top\">37</td>\n",
       "        <td style=\"padding-left: 1em; padding-right: 1em; text-align: center; vertical-align: top\">0</td>\n",
       "        <td style=\"padding-left: 1em; padding-right: 1em; text-align: center; vertical-align: top\">{&#x27;RestaurantsPriceRange2&#x27;<br>: &#x27;1&#x27;, &#x27;OutdoorSeating&#x27;: ...</td>\n",
       "    </tr>\n",
       "    <tr>\n",
       "        <td style=\"padding-left: 1em; padding-right: 1em; text-align: center; vertical-align: top\">39.93395</td>\n",
       "        <td style=\"padding-left: 1em; padding-right: 1em; text-align: center; vertical-align: top\">-75.1557061</td>\n",
       "        <td style=\"padding-left: 1em; padding-right: 1em; text-align: center; vertical-align: top\">3.5</td>\n",
       "        <td style=\"padding-left: 1em; padding-right: 1em; text-align: center; vertical-align: top\">5</td>\n",
       "        <td style=\"padding-left: 1em; padding-right: 1em; text-align: center; vertical-align: top\">0</td>\n",
       "        <td style=\"padding-left: 1em; padding-right: 1em; text-align: center; vertical-align: top\">{&#x27;RestaurantsAttire&#x27;:<br>&quot;u&#x27;casual&#x27;&quot;, &#x27;Restaur ...</td>\n",
       "    </tr>\n",
       "    <tr>\n",
       "        <td style=\"padding-left: 1em; padding-right: 1em; text-align: center; vertical-align: top\">39.9547768017</td>\n",
       "        <td style=\"padding-left: 1em; padding-right: 1em; text-align: center; vertical-align: top\">-75.1726724432</td>\n",
       "        <td style=\"padding-left: 1em; padding-right: 1em; text-align: center; vertical-align: top\">3.5</td>\n",
       "        <td style=\"padding-left: 1em; padding-right: 1em; text-align: center; vertical-align: top\">697</td>\n",
       "        <td style=\"padding-left: 1em; padding-right: 1em; text-align: center; vertical-align: top\">1</td>\n",
       "        <td style=\"padding-left: 1em; padding-right: 1em; text-align: center; vertical-align: top\">{&#x27;OutdoorSeating&#x27;:<br>&#x27;False&#x27;, &#x27;BikeParking&#x27;: ...</td>\n",
       "    </tr>\n",
       "    <tr>\n",
       "        <td style=\"padding-left: 1em; padding-right: 1em; text-align: center; vertical-align: top\">39.9419294</td>\n",
       "        <td style=\"padding-left: 1em; padding-right: 1em; text-align: center; vertical-align: top\">-75.1531842</td>\n",
       "        <td style=\"padding-left: 1em; padding-right: 1em; text-align: center; vertical-align: top\">4.5</td>\n",
       "        <td style=\"padding-left: 1em; padding-right: 1em; text-align: center; vertical-align: top\">28</td>\n",
       "        <td style=\"padding-left: 1em; padding-right: 1em; text-align: center; vertical-align: top\">0</td>\n",
       "        <td style=\"padding-left: 1em; padding-right: 1em; text-align: center; vertical-align: top\">{&#x27;BikeParking&#x27;: &#x27;True&#x27;, &#x27;<br>BusinessAcceptsCredit ...</td>\n",
       "    </tr>\n",
       "    <tr>\n",
       "        <td style=\"padding-left: 1em; padding-right: 1em; text-align: center; vertical-align: top\">39.9498766</td>\n",
       "        <td style=\"padding-left: 1em; padding-right: 1em; text-align: center; vertical-align: top\">-75.1603841</td>\n",
       "        <td style=\"padding-left: 1em; padding-right: 1em; text-align: center; vertical-align: top\">3.5</td>\n",
       "        <td style=\"padding-left: 1em; padding-right: 1em; text-align: center; vertical-align: top\">42</td>\n",
       "        <td style=\"padding-left: 1em; padding-right: 1em; text-align: center; vertical-align: top\">0</td>\n",
       "        <td style=\"padding-left: 1em; padding-right: 1em; text-align: center; vertical-align: top\">{&#x27;RestaurantsDelivery&#x27;:<br>&#x27;False&#x27;, ...</td>\n",
       "    </tr>\n",
       "    <tr>\n",
       "        <td style=\"padding-left: 1em; padding-right: 1em; text-align: center; vertical-align: top\">39.9528558776</td>\n",
       "        <td style=\"padding-left: 1em; padding-right: 1em; text-align: center; vertical-align: top\">-75.1586364432</td>\n",
       "        <td style=\"padding-left: 1em; padding-right: 1em; text-align: center; vertical-align: top\">3.5</td>\n",
       "        <td style=\"padding-left: 1em; padding-right: 1em; text-align: center; vertical-align: top\">187</td>\n",
       "        <td style=\"padding-left: 1em; padding-right: 1em; text-align: center; vertical-align: top\">1</td>\n",
       "        <td style=\"padding-left: 1em; padding-right: 1em; text-align: center; vertical-align: top\">{&#x27;GoodForKids&#x27;: &#x27;True&#x27;,<br>&#x27;RestaurantsTakeOut&#x27;: ...</td>\n",
       "    </tr>\n",
       "    <tr>\n",
       "        <td style=\"padding-left: 1em; padding-right: 1em; text-align: center; vertical-align: top\">39.9302667</td>\n",
       "        <td style=\"padding-left: 1em; padding-right: 1em; text-align: center; vertical-align: top\">-75.1659499</td>\n",
       "        <td style=\"padding-left: 1em; padding-right: 1em; text-align: center; vertical-align: top\">4.0</td>\n",
       "        <td style=\"padding-left: 1em; padding-right: 1em; text-align: center; vertical-align: top\">303</td>\n",
       "        <td style=\"padding-left: 1em; padding-right: 1em; text-align: center; vertical-align: top\">1</td>\n",
       "        <td style=\"padding-left: 1em; padding-right: 1em; text-align: center; vertical-align: top\">{&#x27;BYOBCorkage&#x27;:<br>&quot;&#x27;yes_corkage&#x27;&quot;, ...</td>\n",
       "    </tr>\n",
       "    <tr>\n",
       "        <td style=\"padding-left: 1em; padding-right: 1em; text-align: center; vertical-align: top\">39.955008</td>\n",
       "        <td style=\"padding-left: 1em; padding-right: 1em; text-align: center; vertical-align: top\">-75.167989</td>\n",
       "        <td style=\"padding-left: 1em; padding-right: 1em; text-align: center; vertical-align: top\">5.0</td>\n",
       "        <td style=\"padding-left: 1em; padding-right: 1em; text-align: center; vertical-align: top\">8</td>\n",
       "        <td style=\"padding-left: 1em; padding-right: 1em; text-align: center; vertical-align: top\">0</td>\n",
       "        <td style=\"padding-left: 1em; padding-right: 1em; text-align: center; vertical-align: top\">{&#x27;RestaurantsTakeOut&#x27;:<br>&#x27;True&#x27;, &#x27;RestaurantsR ...</td>\n",
       "    </tr>\n",
       "    <tr>\n",
       "        <td style=\"padding-left: 1em; padding-right: 1em; text-align: center; vertical-align: top\">39.9491962348</td>\n",
       "        <td style=\"padding-left: 1em; padding-right: 1em; text-align: center; vertical-align: top\">-75.1515886104</td>\n",
       "        <td style=\"padding-left: 1em; padding-right: 1em; text-align: center; vertical-align: top\">3.5</td>\n",
       "        <td style=\"padding-left: 1em; padding-right: 1em; text-align: center; vertical-align: top\">6</td>\n",
       "        <td style=\"padding-left: 1em; padding-right: 1em; text-align: center; vertical-align: top\">0</td>\n",
       "        <td style=\"padding-left: 1em; padding-right: 1em; text-align: center; vertical-align: top\">{&#x27;OutdoorSeating&#x27;:<br>&#x27;True&#x27;, &#x27;Ambience&#x27;: ...</td>\n",
       "    </tr>\n",
       "</table>\n",
       "<table frame=\"box\" rules=\"cols\">\n",
       "    <tr>\n",
       "        <th style=\"padding-left: 1em; padding-right: 1em; text-align: center\">categories</th>\n",
       "        <th style=\"padding-left: 1em; padding-right: 1em; text-align: center\">hours</th>\n",
       "        <th style=\"padding-left: 1em; padding-right: 1em; text-align: center\">general_category</th>\n",
       "    </tr>\n",
       "    <tr>\n",
       "        <td style=\"padding-left: 1em; padding-right: 1em; text-align: center; vertical-align: top\">Restaurants, Delis</td>\n",
       "        <td style=\"padding-left: 1em; padding-right: 1em; text-align: center; vertical-align: top\">{&#x27;Monday&#x27;: &#x27;7:30-15:0&#x27;,<br>&#x27;Tuesday&#x27;: &#x27;7:30-15:0&#x27;, ...</td>\n",
       "        <td style=\"padding-left: 1em; padding-right: 1em; text-align: center; vertical-align: top\">Restaurants</td>\n",
       "    </tr>\n",
       "    <tr>\n",
       "        <td style=\"padding-left: 1em; padding-right: 1em; text-align: center; vertical-align: top\">Restaurants, Pubs,<br>Nightlife, Bars ...</td>\n",
       "        <td style=\"padding-left: 1em; padding-right: 1em; text-align: center; vertical-align: top\">None</td>\n",
       "        <td style=\"padding-left: 1em; padding-right: 1em; text-align: center; vertical-align: top\">Restaurants</td>\n",
       "    </tr>\n",
       "    <tr>\n",
       "        <td style=\"padding-left: 1em; padding-right: 1em; text-align: center; vertical-align: top\">Restaurants, Latin<br>American ...</td>\n",
       "        <td style=\"padding-left: 1em; padding-right: 1em; text-align: center; vertical-align: top\">None</td>\n",
       "        <td style=\"padding-left: 1em; padding-right: 1em; text-align: center; vertical-align: top\">Restaurants</td>\n",
       "    </tr>\n",
       "    <tr>\n",
       "        <td style=\"padding-left: 1em; padding-right: 1em; text-align: center; vertical-align: top\">Brazilian, Food,<br>Desserts, Restaurants, ...</td>\n",
       "        <td style=\"padding-left: 1em; padding-right: 1em; text-align: center; vertical-align: top\">{&#x27;Monday&#x27;: &#x27;17:30-21:0&#x27;,<br>&#x27;Tuesday&#x27;: &#x27;17:30-21:0&#x27;, ...</td>\n",
       "        <td style=\"padding-left: 1em; padding-right: 1em; text-align: center; vertical-align: top\">Restaurants</td>\n",
       "    </tr>\n",
       "    <tr>\n",
       "        <td style=\"padding-left: 1em; padding-right: 1em; text-align: center; vertical-align: top\">Bakeries, Turkish, Greek,<br>Sandwiches, Ice Cream &amp; ...</td>\n",
       "        <td style=\"padding-left: 1em; padding-right: 1em; text-align: center; vertical-align: top\">{&#x27;Monday&#x27;: &#x27;10:30-20:0&#x27;,<br>&#x27;Tuesday&#x27;: &#x27;10:30-20:0&#x27;, ...</td>\n",
       "        <td style=\"padding-left: 1em; padding-right: 1em; text-align: center; vertical-align: top\">Restaurants</td>\n",
       "    </tr>\n",
       "    <tr>\n",
       "        <td style=\"padding-left: 1em; padding-right: 1em; text-align: center; vertical-align: top\">American (New),<br>Restaurants ...</td>\n",
       "        <td style=\"padding-left: 1em; padding-right: 1em; text-align: center; vertical-align: top\">{&#x27;Monday&#x27;: &#x27;17:0-1:0&#x27;,<br>&#x27;Tuesday&#x27;: &#x27;17:0-1:0&#x27;, ...</td>\n",
       "        <td style=\"padding-left: 1em; padding-right: 1em; text-align: center; vertical-align: top\">Restaurants</td>\n",
       "    </tr>\n",
       "    <tr>\n",
       "        <td style=\"padding-left: 1em; padding-right: 1em; text-align: center; vertical-align: top\">Middle Eastern, Food,<br>Restaurants, ...</td>\n",
       "        <td style=\"padding-left: 1em; padding-right: 1em; text-align: center; vertical-align: top\">{&#x27;Monday&#x27;: &#x27;9:0-15:0&#x27;,<br>&#x27;Tuesday&#x27;: &#x27;9:0-15:0&#x27;, ...</td>\n",
       "        <td style=\"padding-left: 1em; padding-right: 1em; text-align: center; vertical-align: top\">Restaurants</td>\n",
       "    </tr>\n",
       "    <tr>\n",
       "        <td style=\"padding-left: 1em; padding-right: 1em; text-align: center; vertical-align: top\">Italian, Restaurants,<br>Pizza ...</td>\n",
       "        <td style=\"padding-left: 1em; padding-right: 1em; text-align: center; vertical-align: top\">{&#x27;Wednesday&#x27;:<br>&#x27;15:0-22:0&#x27;, &#x27;Thursday&#x27;: ...</td>\n",
       "        <td style=\"padding-left: 1em; padding-right: 1em; text-align: center; vertical-align: top\">Restaurants</td>\n",
       "    </tr>\n",
       "    <tr>\n",
       "        <td style=\"padding-left: 1em; padding-right: 1em; text-align: center; vertical-align: top\">Restaurants, Food Stands</td>\n",
       "        <td style=\"padding-left: 1em; padding-right: 1em; text-align: center; vertical-align: top\">None</td>\n",
       "        <td style=\"padding-left: 1em; padding-right: 1em; text-align: center; vertical-align: top\">Restaurants</td>\n",
       "    </tr>\n",
       "    <tr>\n",
       "        <td style=\"padding-left: 1em; padding-right: 1em; text-align: center; vertical-align: top\">Restaurants, Sandwiches,<br>Food, Cafes ...</td>\n",
       "        <td style=\"padding-left: 1em; padding-right: 1em; text-align: center; vertical-align: top\">None</td>\n",
       "        <td style=\"padding-left: 1em; padding-right: 1em; text-align: center; vertical-align: top\">Restaurants</td>\n",
       "    </tr>\n",
       "</table>\n",
       "[500 rows x 15 columns]<br/>Note: Only the head of the SFrame is printed.<br/>You can use print_rows(num_rows=m, num_columns=n) to print more rows and columns.\n",
       "</div>"
      ],
      "text/plain": [
       "Columns:\n",
       "\tbusiness_id\tstr\n",
       "\tname\tstr\n",
       "\taddress\tstr\n",
       "\tcity\tstr\n",
       "\tstate\tstr\n",
       "\tpostal_code\tint\n",
       "\tlatitude\tfloat\n",
       "\tlongitude\tfloat\n",
       "\tstars\tfloat\n",
       "\treview_count\tint\n",
       "\tis_open\tint\n",
       "\tattributes\tdict\n",
       "\tcategories\tstr\n",
       "\thours\tdict\n",
       "\tgeneral_category\tstr\n",
       "\n",
       "Rows: 500\n",
       "\n",
       "Data:\n",
       "+------------------------+-------------------------------+\n",
       "|      business_id       |              name             |\n",
       "+------------------------+-------------------------------+\n",
       "| hSbwd-VP4THYYvSKQQr6Ow | George's Famous Roast Pork... |\n",
       "| e57HVMhbHJ37nQ363YAaYw |         Roosevelt Pub         |\n",
       "| DY2-gIyesL5S5_DZM2TqeQ |   El Gallo Pinto Restaurant   |\n",
       "| gjFUrbSMo1rA1jgG5IhA2A |        Chima Steakhouse       |\n",
       "| ciQrHorElL1_ekMewnsDXg |         Evil Eye Café         |\n",
       "| NXq1TC8CjIQ_2HWMSoN2Mg |             Tweed             |\n",
       "| NWF16GKQyZNVHo086gIVzQ | Kamals Middle Eastern Spec... |\n",
       "| 1CCG0WYSoR8ejdgD5-Gaqg | Francoluigi's Pizzeria & I... |\n",
       "| jmgEQ7co9p5aV7l1EPbvBQ |       Fruit Salad Truck       |\n",
       "| h6XRiG4QOnuY6n3SRnou1w |         Cooperage Café        |\n",
       "+------------------------+-------------------------------+\n",
       "+---------------------------+--------------+-------+-------------+---------------+\n",
       "|          address          |     city     | state | postal_code |    latitude   |\n",
       "+---------------------------+--------------+-------+-------------+---------------+\n",
       "|       1007 S 9th St       | Philadelphia |   PA  |    19147    |   39.9373453  |\n",
       "|       2220 Walnut St      | Philadelphia |   PA  |    19103    | 39.9509902358 |\n",
       "|       1163 S 7th. St      | Philadelphia |   PA  |    19147    |    39.93395   |\n",
       "|  1901 John F Kennedy Blvd | Philadelphia |   PA  |    19103    | 39.9547768017 |\n",
       "|          628 S St         | Philadelphia |   PA  |    19147    |   39.9419294  |\n",
       "|       114 S 12th St       | Philadelphia |   PA  |    19107    |   39.9498766  |\n",
       "|        51 N 12th St       | Philadelphia |   PA  |    19102    | 39.9528558776 |\n",
       "|       1549 S 13th St      | Philadelphia |   PA  |    19147    |   39.9302667  |\n",
       "|       17th & Arch St      | Philadelphia |   PA  |    19103    |   39.955008   |\n",
       "| 150 S Independence Mall W | Philadelphia |   PA  |    19106    | 39.9491962348 |\n",
       "+---------------------------+--------------+-------+-------------+---------------+\n",
       "+----------------+-------+--------------+---------+\n",
       "|   longitude    | stars | review_count | is_open |\n",
       "+----------------+-------+--------------+---------+\n",
       "|  -75.1581179   |  4.0  |      27      |    0    |\n",
       "| -75.1783608264 |  3.0  |      37      |    0    |\n",
       "|  -75.1557061   |  3.5  |      5       |    0    |\n",
       "| -75.1726724432 |  3.5  |     697      |    1    |\n",
       "|  -75.1531842   |  4.5  |      28      |    0    |\n",
       "|  -75.1603841   |  3.5  |      42      |    0    |\n",
       "| -75.1586364432 |  3.5  |     187      |    1    |\n",
       "|  -75.1659499   |  4.0  |     303      |    1    |\n",
       "|   -75.167989   |  5.0  |      8       |    0    |\n",
       "| -75.1515886104 |  3.5  |      6       |    0    |\n",
       "+----------------+-------+--------------+---------+\n",
       "+-------------------------------+-------------------------------+\n",
       "|           attributes          |           categories          |\n",
       "+-------------------------------+-------------------------------+\n",
       "| {'RestaurantsReservations'... |       Restaurants, Delis      |\n",
       "| {'RestaurantsPriceRange2':... | Restaurants, Pubs, Nightli... |\n",
       "| {'RestaurantsAttire': \"u'c... |  Restaurants, Latin American  |\n",
       "| {'OutdoorSeating': 'False'... | Brazilian, Food, Desserts,... |\n",
       "| {'BikeParking': 'True', 'B... | Bakeries, Turkish, Greek, ... |\n",
       "| {'RestaurantsDelivery': 'F... |  American (New), Restaurants  |\n",
       "| {'GoodForKids': 'True', 'R... | Middle Eastern, Food, Rest... |\n",
       "| {'BYOBCorkage': \"'yes_cork... |  Italian, Restaurants, Pizza  |\n",
       "| {'RestaurantsTakeOut': 'Tr... |    Restaurants, Food Stands   |\n",
       "| {'OutdoorSeating': 'True',... | Restaurants, Sandwiches, F... |\n",
       "+-------------------------------+-------------------------------+\n",
       "+-------------------------------+------------------+\n",
       "|             hours             | general_category |\n",
       "+-------------------------------+------------------+\n",
       "| {'Monday': '7:30-15:0', 'T... |   Restaurants    |\n",
       "|              None             |   Restaurants    |\n",
       "|              None             |   Restaurants    |\n",
       "| {'Monday': '17:30-21:0', '... |   Restaurants    |\n",
       "| {'Monday': '10:30-20:0', '... |   Restaurants    |\n",
       "| {'Monday': '17:0-1:0', 'Tu... |   Restaurants    |\n",
       "| {'Monday': '9:0-15:0', 'Tu... |   Restaurants    |\n",
       "| {'Wednesday': '15:0-22:0',... |   Restaurants    |\n",
       "|              None             |   Restaurants    |\n",
       "|              None             |   Restaurants    |\n",
       "+-------------------------------+------------------+\n",
       "[500 rows x 15 columns]\n",
       "Note: Only the head of the SFrame is printed.\n",
       "You can use print_rows(num_rows=m, num_columns=n) to print more rows and columns."
      ]
     },
     "execution_count": 2,
     "metadata": {},
     "output_type": "execute_result"
    }
   ],
   "source": [
    "restaurant_csv_file = \"../Datasets/Filtered_Restaurant_Dataset.csv\"\n",
    "sf_restaurant = turicreate.SFrame.read_csv(restaurant_csv_file)\n",
    "sf_restaurant"
   ]
  },
  {
   "cell_type": "markdown",
   "id": "c112157c",
   "metadata": {},
   "source": [
    "## Read reviews datasets"
   ]
  },
  {
   "cell_type": "code",
   "execution_count": 3,
   "id": "c995c503",
   "metadata": {},
   "outputs": [
    {
     "data": {
      "text/html": [
       "<pre>Finished parsing file /home/yunji/venv/Program_Files/Comp4710_Yelp/yelp_academic_dataset_review.json</pre>"
      ],
      "text/plain": [
       "Finished parsing file /home/yunji/venv/Program_Files/Comp4710_Yelp/yelp_academic_dataset_review.json"
      ]
     },
     "metadata": {},
     "output_type": "display_data"
    },
    {
     "data": {
      "text/html": [
       "<pre>Parsing completed. Parsed 100 lines in 0.587638 secs.</pre>"
      ],
      "text/plain": [
       "Parsing completed. Parsed 100 lines in 0.587638 secs."
      ]
     },
     "metadata": {},
     "output_type": "display_data"
    },
    {
     "name": "stdout",
     "output_type": "stream",
     "text": [
      "------------------------------------------------------\n",
      "Inferred types from first 100 line(s) of file as \n",
      "column_type_hints=[dict]\n",
      "If parsing fails due to incorrect types, you can correct\n",
      "the inferred type list above and pass it to read_csv in\n",
      "the column_type_hints argument\n",
      "------------------------------------------------------\n"
     ]
    },
    {
     "data": {
      "text/html": [
       "<pre>Read 70415 lines. Lines per second: 64243.2</pre>"
      ],
      "text/plain": [
       "Read 70415 lines. Lines per second: 64243.2"
      ]
     },
     "metadata": {},
     "output_type": "display_data"
    },
    {
     "data": {
      "text/html": [
       "<pre>Read 754150 lines. Lines per second: 125304</pre>"
      ],
      "text/plain": [
       "Read 754150 lines. Lines per second: 125304"
      ]
     },
     "metadata": {},
     "output_type": "display_data"
    },
    {
     "data": {
      "text/html": [
       "<pre>Read 1440020 lines. Lines per second: 127149</pre>"
      ],
      "text/plain": [
       "Read 1440020 lines. Lines per second: 127149"
      ]
     },
     "metadata": {},
     "output_type": "display_data"
    },
    {
     "data": {
      "text/html": [
       "<pre>Read 2126586 lines. Lines per second: 126706</pre>"
      ],
      "text/plain": [
       "Read 2126586 lines. Lines per second: 126706"
      ]
     },
     "metadata": {},
     "output_type": "display_data"
    },
    {
     "data": {
      "text/html": [
       "<pre>Read 2746293 lines. Lines per second: 125107</pre>"
      ],
      "text/plain": [
       "Read 2746293 lines. Lines per second: 125107"
      ]
     },
     "metadata": {},
     "output_type": "display_data"
    },
    {
     "data": {
      "text/html": [
       "<pre>Read 3364743 lines. Lines per second: 124019</pre>"
      ],
      "text/plain": [
       "Read 3364743 lines. Lines per second: 124019"
      ]
     },
     "metadata": {},
     "output_type": "display_data"
    },
    {
     "data": {
      "text/html": [
       "<pre>Read 3845644 lines. Lines per second: 116501</pre>"
      ],
      "text/plain": [
       "Read 3845644 lines. Lines per second: 116501"
      ]
     },
     "metadata": {},
     "output_type": "display_data"
    },
    {
     "data": {
      "text/html": [
       "<pre>Read 4392340 lines. Lines per second: 114283</pre>"
      ],
      "text/plain": [
       "Read 4392340 lines. Lines per second: 114283"
      ]
     },
     "metadata": {},
     "output_type": "display_data"
    },
    {
     "data": {
      "text/html": [
       "<pre>Read 5005606 lines. Lines per second: 114068</pre>"
      ],
      "text/plain": [
       "Read 5005606 lines. Lines per second: 114068"
      ]
     },
     "metadata": {},
     "output_type": "display_data"
    },
    {
     "data": {
      "text/html": [
       "<pre>Read 5624019 lines. Lines per second: 114167</pre>"
      ],
      "text/plain": [
       "Read 5624019 lines. Lines per second: 114167"
      ]
     },
     "metadata": {},
     "output_type": "display_data"
    },
    {
     "data": {
      "text/html": [
       "<pre>Read 6245873 lines. Lines per second: 114345</pre>"
      ],
      "text/plain": [
       "Read 6245873 lines. Lines per second: 114345"
      ]
     },
     "metadata": {},
     "output_type": "display_data"
    },
    {
     "data": {
      "text/html": [
       "<pre>Read 6869108 lines. Lines per second: 114461</pre>"
      ],
      "text/plain": [
       "Read 6869108 lines. Lines per second: 114461"
      ]
     },
     "metadata": {},
     "output_type": "display_data"
    },
    {
     "data": {
      "text/html": [
       "<pre>Finished parsing file /home/yunji/venv/Program_Files/Comp4710_Yelp/yelp_academic_dataset_review.json</pre>"
      ],
      "text/plain": [
       "Finished parsing file /home/yunji/venv/Program_Files/Comp4710_Yelp/yelp_academic_dataset_review.json"
      ]
     },
     "metadata": {},
     "output_type": "display_data"
    },
    {
     "data": {
      "text/html": [
       "<pre>Parsing completed. Parsed 6990280 lines in 61.0318 secs.</pre>"
      ],
      "text/plain": [
       "Parsing completed. Parsed 6990280 lines in 61.0318 secs."
      ]
     },
     "metadata": {},
     "output_type": "display_data"
    },
    {
     "data": {
      "text/html": [
       "<div style=\"max-height:1000px;max-width:1500px;overflow:auto;\"><table frame=\"box\" rules=\"cols\">\n",
       "    <tr>\n",
       "        <th style=\"padding-left: 1em; padding-right: 1em; text-align: center\">business_id</th>\n",
       "        <th style=\"padding-left: 1em; padding-right: 1em; text-align: center\">cool</th>\n",
       "        <th style=\"padding-left: 1em; padding-right: 1em; text-align: center\">date</th>\n",
       "        <th style=\"padding-left: 1em; padding-right: 1em; text-align: center\">funny</th>\n",
       "        <th style=\"padding-left: 1em; padding-right: 1em; text-align: center\">review_id</th>\n",
       "        <th style=\"padding-left: 1em; padding-right: 1em; text-align: center\">stars</th>\n",
       "    </tr>\n",
       "    <tr>\n",
       "        <td style=\"padding-left: 1em; padding-right: 1em; text-align: center; vertical-align: top\">XQfwVwDr-v0ZS3_CbbE5Xw</td>\n",
       "        <td style=\"padding-left: 1em; padding-right: 1em; text-align: center; vertical-align: top\">0</td>\n",
       "        <td style=\"padding-left: 1em; padding-right: 1em; text-align: center; vertical-align: top\">2018-07-07 22:09:11</td>\n",
       "        <td style=\"padding-left: 1em; padding-right: 1em; text-align: center; vertical-align: top\">0</td>\n",
       "        <td style=\"padding-left: 1em; padding-right: 1em; text-align: center; vertical-align: top\">KU_O5udG6zpxOg-VcAEodg</td>\n",
       "        <td style=\"padding-left: 1em; padding-right: 1em; text-align: center; vertical-align: top\">3.0</td>\n",
       "    </tr>\n",
       "    <tr>\n",
       "        <td style=\"padding-left: 1em; padding-right: 1em; text-align: center; vertical-align: top\">7ATYjTIgM3jUlt4UM3IypQ</td>\n",
       "        <td style=\"padding-left: 1em; padding-right: 1em; text-align: center; vertical-align: top\">1</td>\n",
       "        <td style=\"padding-left: 1em; padding-right: 1em; text-align: center; vertical-align: top\">2012-01-03 15:28:18</td>\n",
       "        <td style=\"padding-left: 1em; padding-right: 1em; text-align: center; vertical-align: top\">0</td>\n",
       "        <td style=\"padding-left: 1em; padding-right: 1em; text-align: center; vertical-align: top\">BiTunyQ73aT9WBnpR9DZGw</td>\n",
       "        <td style=\"padding-left: 1em; padding-right: 1em; text-align: center; vertical-align: top\">5.0</td>\n",
       "    </tr>\n",
       "    <tr>\n",
       "        <td style=\"padding-left: 1em; padding-right: 1em; text-align: center; vertical-align: top\">YjUWPpI6HXG530lwP-fb2A</td>\n",
       "        <td style=\"padding-left: 1em; padding-right: 1em; text-align: center; vertical-align: top\">0</td>\n",
       "        <td style=\"padding-left: 1em; padding-right: 1em; text-align: center; vertical-align: top\">2014-02-05 20:30:30</td>\n",
       "        <td style=\"padding-left: 1em; padding-right: 1em; text-align: center; vertical-align: top\">0</td>\n",
       "        <td style=\"padding-left: 1em; padding-right: 1em; text-align: center; vertical-align: top\">saUsX_uimxRlCVr67Z4Jig</td>\n",
       "        <td style=\"padding-left: 1em; padding-right: 1em; text-align: center; vertical-align: top\">3.0</td>\n",
       "    </tr>\n",
       "    <tr>\n",
       "        <td style=\"padding-left: 1em; padding-right: 1em; text-align: center; vertical-align: top\">kxX2SOes4o-D3ZQBkiMRfA</td>\n",
       "        <td style=\"padding-left: 1em; padding-right: 1em; text-align: center; vertical-align: top\">1</td>\n",
       "        <td style=\"padding-left: 1em; padding-right: 1em; text-align: center; vertical-align: top\">2015-01-04 00:01:03</td>\n",
       "        <td style=\"padding-left: 1em; padding-right: 1em; text-align: center; vertical-align: top\">0</td>\n",
       "        <td style=\"padding-left: 1em; padding-right: 1em; text-align: center; vertical-align: top\">AqPFMleE6RsU23_auESxiA</td>\n",
       "        <td style=\"padding-left: 1em; padding-right: 1em; text-align: center; vertical-align: top\">5.0</td>\n",
       "    </tr>\n",
       "    <tr>\n",
       "        <td style=\"padding-left: 1em; padding-right: 1em; text-align: center; vertical-align: top\">e4Vwtrqf-wpJfwesgvdgxQ</td>\n",
       "        <td style=\"padding-left: 1em; padding-right: 1em; text-align: center; vertical-align: top\">1</td>\n",
       "        <td style=\"padding-left: 1em; padding-right: 1em; text-align: center; vertical-align: top\">2017-01-14 20:54:15</td>\n",
       "        <td style=\"padding-left: 1em; padding-right: 1em; text-align: center; vertical-align: top\">0</td>\n",
       "        <td style=\"padding-left: 1em; padding-right: 1em; text-align: center; vertical-align: top\">Sx8TMOWLNuJBWer-0pcmoA</td>\n",
       "        <td style=\"padding-left: 1em; padding-right: 1em; text-align: center; vertical-align: top\">4.0</td>\n",
       "    </tr>\n",
       "    <tr>\n",
       "        <td style=\"padding-left: 1em; padding-right: 1em; text-align: center; vertical-align: top\">04UD14gamNjLY0IDYVhHJg</td>\n",
       "        <td style=\"padding-left: 1em; padding-right: 1em; text-align: center; vertical-align: top\">1</td>\n",
       "        <td style=\"padding-left: 1em; padding-right: 1em; text-align: center; vertical-align: top\">2015-09-23 23:10:31</td>\n",
       "        <td style=\"padding-left: 1em; padding-right: 1em; text-align: center; vertical-align: top\">2</td>\n",
       "        <td style=\"padding-left: 1em; padding-right: 1em; text-align: center; vertical-align: top\">JrIxlS1TzJ-iCu79ul40cQ</td>\n",
       "        <td style=\"padding-left: 1em; padding-right: 1em; text-align: center; vertical-align: top\">1.0</td>\n",
       "    </tr>\n",
       "    <tr>\n",
       "        <td style=\"padding-left: 1em; padding-right: 1em; text-align: center; vertical-align: top\">gmjsEdUsKpj9Xxu6pdjH0g</td>\n",
       "        <td style=\"padding-left: 1em; padding-right: 1em; text-align: center; vertical-align: top\">0</td>\n",
       "        <td style=\"padding-left: 1em; padding-right: 1em; text-align: center; vertical-align: top\">2015-01-03 23:21:18</td>\n",
       "        <td style=\"padding-left: 1em; padding-right: 1em; text-align: center; vertical-align: top\">2</td>\n",
       "        <td style=\"padding-left: 1em; padding-right: 1em; text-align: center; vertical-align: top\">6AxgBCNX_PNTOxmbRSwcKQ</td>\n",
       "        <td style=\"padding-left: 1em; padding-right: 1em; text-align: center; vertical-align: top\">5.0</td>\n",
       "    </tr>\n",
       "    <tr>\n",
       "        <td style=\"padding-left: 1em; padding-right: 1em; text-align: center; vertical-align: top\">LHSTtnW3YHCeUkRDGyJOyw</td>\n",
       "        <td style=\"padding-left: 1em; padding-right: 1em; text-align: center; vertical-align: top\">0</td>\n",
       "        <td style=\"padding-left: 1em; padding-right: 1em; text-align: center; vertical-align: top\">2015-08-07 02:29:16</td>\n",
       "        <td style=\"padding-left: 1em; padding-right: 1em; text-align: center; vertical-align: top\">0</td>\n",
       "        <td style=\"padding-left: 1em; padding-right: 1em; text-align: center; vertical-align: top\">_ZeMknuYdlQcUqng_Im3yg</td>\n",
       "        <td style=\"padding-left: 1em; padding-right: 1em; text-align: center; vertical-align: top\">5.0</td>\n",
       "    </tr>\n",
       "    <tr>\n",
       "        <td style=\"padding-left: 1em; padding-right: 1em; text-align: center; vertical-align: top\">B5XSoSG3SfvQGtKEGQ1tSQ</td>\n",
       "        <td style=\"padding-left: 1em; padding-right: 1em; text-align: center; vertical-align: top\">0</td>\n",
       "        <td style=\"padding-left: 1em; padding-right: 1em; text-align: center; vertical-align: top\">2016-03-30 22:46:33</td>\n",
       "        <td style=\"padding-left: 1em; padding-right: 1em; text-align: center; vertical-align: top\">1</td>\n",
       "        <td style=\"padding-left: 1em; padding-right: 1em; text-align: center; vertical-align: top\">ZKvDG2sBvHVdF5oBNUOpAQ</td>\n",
       "        <td style=\"padding-left: 1em; padding-right: 1em; text-align: center; vertical-align: top\">3.0</td>\n",
       "    </tr>\n",
       "    <tr>\n",
       "        <td style=\"padding-left: 1em; padding-right: 1em; text-align: center; vertical-align: top\">gebiRewfieSdtt17PTW6Zg</td>\n",
       "        <td style=\"padding-left: 1em; padding-right: 1em; text-align: center; vertical-align: top\">0</td>\n",
       "        <td style=\"padding-left: 1em; padding-right: 1em; text-align: center; vertical-align: top\">2016-07-25 07:31:06</td>\n",
       "        <td style=\"padding-left: 1em; padding-right: 1em; text-align: center; vertical-align: top\">0</td>\n",
       "        <td style=\"padding-left: 1em; padding-right: 1em; text-align: center; vertical-align: top\">pUycOfUwM8vqX7KjRRhUEA</td>\n",
       "        <td style=\"padding-left: 1em; padding-right: 1em; text-align: center; vertical-align: top\">3.0</td>\n",
       "    </tr>\n",
       "</table>\n",
       "<table frame=\"box\" rules=\"cols\">\n",
       "    <tr>\n",
       "        <th style=\"padding-left: 1em; padding-right: 1em; text-align: center\">text</th>\n",
       "        <th style=\"padding-left: 1em; padding-right: 1em; text-align: center\">useful</th>\n",
       "        <th style=\"padding-left: 1em; padding-right: 1em; text-align: center\">user_id</th>\n",
       "    </tr>\n",
       "    <tr>\n",
       "        <td style=\"padding-left: 1em; padding-right: 1em; text-align: center; vertical-align: top\">If you decide to eat<br>here, just be aware i ...</td>\n",
       "        <td style=\"padding-left: 1em; padding-right: 1em; text-align: center; vertical-align: top\">0</td>\n",
       "        <td style=\"padding-left: 1em; padding-right: 1em; text-align: center; vertical-align: top\">mh_-eMZ6K5RLWhZyISBhwA</td>\n",
       "    </tr>\n",
       "    <tr>\n",
       "        <td style=\"padding-left: 1em; padding-right: 1em; text-align: center; vertical-align: top\">I&#x27;ve taken a lot of spin<br>classes over the years, ...</td>\n",
       "        <td style=\"padding-left: 1em; padding-right: 1em; text-align: center; vertical-align: top\">1</td>\n",
       "        <td style=\"padding-left: 1em; padding-right: 1em; text-align: center; vertical-align: top\">OyoGAe7OKpv6SyGZT5g77Q</td>\n",
       "    </tr>\n",
       "    <tr>\n",
       "        <td style=\"padding-left: 1em; padding-right: 1em; text-align: center; vertical-align: top\">Family diner. Had the<br>buffet. Eclectic ...</td>\n",
       "        <td style=\"padding-left: 1em; padding-right: 1em; text-align: center; vertical-align: top\">0</td>\n",
       "        <td style=\"padding-left: 1em; padding-right: 1em; text-align: center; vertical-align: top\">8g_iMtfSiwikVnbP2etR0A</td>\n",
       "    </tr>\n",
       "    <tr>\n",
       "        <td style=\"padding-left: 1em; padding-right: 1em; text-align: center; vertical-align: top\">Wow!  Yummy, different,<br>delicious.   Our favo ...</td>\n",
       "        <td style=\"padding-left: 1em; padding-right: 1em; text-align: center; vertical-align: top\">1</td>\n",
       "        <td style=\"padding-left: 1em; padding-right: 1em; text-align: center; vertical-align: top\">_7bHUi9Uuf5__HHc_Q8guQ</td>\n",
       "    </tr>\n",
       "    <tr>\n",
       "        <td style=\"padding-left: 1em; padding-right: 1em; text-align: center; vertical-align: top\">Cute interior and owner<br>(?) gave us tour of ...</td>\n",
       "        <td style=\"padding-left: 1em; padding-right: 1em; text-align: center; vertical-align: top\">1</td>\n",
       "        <td style=\"padding-left: 1em; padding-right: 1em; text-align: center; vertical-align: top\">bcjbaE6dDog4jkNY91ncLQ</td>\n",
       "    </tr>\n",
       "    <tr>\n",
       "        <td style=\"padding-left: 1em; padding-right: 1em; text-align: center; vertical-align: top\">I am a long term frequent<br>customer of this ...</td>\n",
       "        <td style=\"padding-left: 1em; padding-right: 1em; text-align: center; vertical-align: top\">1</td>\n",
       "        <td style=\"padding-left: 1em; padding-right: 1em; text-align: center; vertical-align: top\">eUta8W_HdHMXPzLBBZhL1A</td>\n",
       "    </tr>\n",
       "    <tr>\n",
       "        <td style=\"padding-left: 1em; padding-right: 1em; text-align: center; vertical-align: top\">Loved this tour! I<br>grabbed a groupon and ...</td>\n",
       "        <td style=\"padding-left: 1em; padding-right: 1em; text-align: center; vertical-align: top\">0</td>\n",
       "        <td style=\"padding-left: 1em; padding-right: 1em; text-align: center; vertical-align: top\">r3zeYsv1XFBRA4dJpL78cw</td>\n",
       "    </tr>\n",
       "    <tr>\n",
       "        <td style=\"padding-left: 1em; padding-right: 1em; text-align: center; vertical-align: top\">Amazingly amazing wings<br>and homemade bleu che ...</td>\n",
       "        <td style=\"padding-left: 1em; padding-right: 1em; text-align: center; vertical-align: top\">2</td>\n",
       "        <td style=\"padding-left: 1em; padding-right: 1em; text-align: center; vertical-align: top\">yfFzsLmaWF2d4Sr0UNbBgg</td>\n",
       "    </tr>\n",
       "    <tr>\n",
       "        <td style=\"padding-left: 1em; padding-right: 1em; text-align: center; vertical-align: top\">This easter instead of<br>going to Lopez Lake we ...</td>\n",
       "        <td style=\"padding-left: 1em; padding-right: 1em; text-align: center; vertical-align: top\">1</td>\n",
       "        <td style=\"padding-left: 1em; padding-right: 1em; text-align: center; vertical-align: top\">wSTuiTk-sKNdcFyprzZAjg</td>\n",
       "    </tr>\n",
       "    <tr>\n",
       "        <td style=\"padding-left: 1em; padding-right: 1em; text-align: center; vertical-align: top\">Had a party of 6 here for<br>hibachi. Our waitress ...</td>\n",
       "        <td style=\"padding-left: 1em; padding-right: 1em; text-align: center; vertical-align: top\">0</td>\n",
       "        <td style=\"padding-left: 1em; padding-right: 1em; text-align: center; vertical-align: top\">59MxRhNVhU9MYndMkz0wtw</td>\n",
       "    </tr>\n",
       "</table>\n",
       "[6990280 rows x 9 columns]<br/>Note: Only the head of the SFrame is printed.<br/>You can use print_rows(num_rows=m, num_columns=n) to print more rows and columns.\n",
       "</div>"
      ],
      "text/plain": [
       "Columns:\n",
       "\tbusiness_id\tstr\n",
       "\tcool\tint\n",
       "\tdate\tstr\n",
       "\tfunny\tint\n",
       "\treview_id\tstr\n",
       "\tstars\tfloat\n",
       "\ttext\tstr\n",
       "\tuseful\tint\n",
       "\tuser_id\tstr\n",
       "\n",
       "Rows: 6990280\n",
       "\n",
       "Data:\n",
       "+------------------------+------+---------------------+-------+\n",
       "|      business_id       | cool |         date        | funny |\n",
       "+------------------------+------+---------------------+-------+\n",
       "| XQfwVwDr-v0ZS3_CbbE5Xw |  0   | 2018-07-07 22:09:11 |   0   |\n",
       "| 7ATYjTIgM3jUlt4UM3IypQ |  1   | 2012-01-03 15:28:18 |   0   |\n",
       "| YjUWPpI6HXG530lwP-fb2A |  0   | 2014-02-05 20:30:30 |   0   |\n",
       "| kxX2SOes4o-D3ZQBkiMRfA |  1   | 2015-01-04 00:01:03 |   0   |\n",
       "| e4Vwtrqf-wpJfwesgvdgxQ |  1   | 2017-01-14 20:54:15 |   0   |\n",
       "| 04UD14gamNjLY0IDYVhHJg |  1   | 2015-09-23 23:10:31 |   2   |\n",
       "| gmjsEdUsKpj9Xxu6pdjH0g |  0   | 2015-01-03 23:21:18 |   2   |\n",
       "| LHSTtnW3YHCeUkRDGyJOyw |  0   | 2015-08-07 02:29:16 |   0   |\n",
       "| B5XSoSG3SfvQGtKEGQ1tSQ |  0   | 2016-03-30 22:46:33 |   1   |\n",
       "| gebiRewfieSdtt17PTW6Zg |  0   | 2016-07-25 07:31:06 |   0   |\n",
       "+------------------------+------+---------------------+-------+\n",
       "+------------------------+-------+-------------------------------+--------+\n",
       "|       review_id        | stars |              text             | useful |\n",
       "+------------------------+-------+-------------------------------+--------+\n",
       "| KU_O5udG6zpxOg-VcAEodg |  3.0  | If you decide to eat here,... |   0    |\n",
       "| BiTunyQ73aT9WBnpR9DZGw |  5.0  | I've taken a lot of spin c... |   1    |\n",
       "| saUsX_uimxRlCVr67Z4Jig |  3.0  | Family diner. Had the buff... |   0    |\n",
       "| AqPFMleE6RsU23_auESxiA |  5.0  | Wow!  Yummy, different,  d... |   1    |\n",
       "| Sx8TMOWLNuJBWer-0pcmoA |  4.0  | Cute interior and owner (?... |   1    |\n",
       "| JrIxlS1TzJ-iCu79ul40cQ |  1.0  | I am a long term frequent ... |   1    |\n",
       "| 6AxgBCNX_PNTOxmbRSwcKQ |  5.0  | Loved this tour! I grabbed... |   0    |\n",
       "| _ZeMknuYdlQcUqng_Im3yg |  5.0  | Amazingly amazing wings an... |   2    |\n",
       "| ZKvDG2sBvHVdF5oBNUOpAQ |  3.0  | This easter instead of goi... |   1    |\n",
       "| pUycOfUwM8vqX7KjRRhUEA |  3.0  | Had a party of 6 here for ... |   0    |\n",
       "+------------------------+-------+-------------------------------+--------+\n",
       "+------------------------+\n",
       "|        user_id         |\n",
       "+------------------------+\n",
       "| mh_-eMZ6K5RLWhZyISBhwA |\n",
       "| OyoGAe7OKpv6SyGZT5g77Q |\n",
       "| 8g_iMtfSiwikVnbP2etR0A |\n",
       "| _7bHUi9Uuf5__HHc_Q8guQ |\n",
       "| bcjbaE6dDog4jkNY91ncLQ |\n",
       "| eUta8W_HdHMXPzLBBZhL1A |\n",
       "| r3zeYsv1XFBRA4dJpL78cw |\n",
       "| yfFzsLmaWF2d4Sr0UNbBgg |\n",
       "| wSTuiTk-sKNdcFyprzZAjg |\n",
       "| 59MxRhNVhU9MYndMkz0wtw |\n",
       "+------------------------+\n",
       "[6990280 rows x 9 columns]\n",
       "Note: Only the head of the SFrame is printed.\n",
       "You can use print_rows(num_rows=m, num_columns=n) to print more rows and columns."
      ]
     },
     "execution_count": 3,
     "metadata": {},
     "output_type": "execute_result"
    }
   ],
   "source": [
    "reviews_json_file = \"yelp_academic_dataset_review.json\"\n",
    "sf_review = turicreate.SFrame.read_json(reviews_json_file , orient='lines')\n",
    "sf_review"
   ]
  },
  {
   "cell_type": "code",
   "execution_count": 4,
   "id": "016f7027",
   "metadata": {},
   "outputs": [],
   "source": [
    "businessID_list = list(sf_restaurant['business_id'])\n",
    "#businessID_list"
   ]
  },
  {
   "cell_type": "code",
   "execution_count": 5,
   "id": "e93560ee",
   "metadata": {},
   "outputs": [
    {
     "data": {
      "text/html": [
       "<div style=\"max-height:1000px;max-width:1500px;overflow:auto;\"><table frame=\"box\" rules=\"cols\">\n",
       "    <tr>\n",
       "        <th style=\"padding-left: 1em; padding-right: 1em; text-align: center\">business_id</th>\n",
       "        <th style=\"padding-left: 1em; padding-right: 1em; text-align: center\">cool</th>\n",
       "        <th style=\"padding-left: 1em; padding-right: 1em; text-align: center\">date</th>\n",
       "        <th style=\"padding-left: 1em; padding-right: 1em; text-align: center\">funny</th>\n",
       "        <th style=\"padding-left: 1em; padding-right: 1em; text-align: center\">review_id</th>\n",
       "        <th style=\"padding-left: 1em; padding-right: 1em; text-align: center\">stars</th>\n",
       "    </tr>\n",
       "    <tr>\n",
       "        <td style=\"padding-left: 1em; padding-right: 1em; text-align: center; vertical-align: top\">YtSqYv1Q_pOltsVPSx54SA</td>\n",
       "        <td style=\"padding-left: 1em; padding-right: 1em; text-align: center; vertical-align: top\">0</td>\n",
       "        <td style=\"padding-left: 1em; padding-right: 1em; text-align: center; vertical-align: top\">2013-06-24 11:21:25</td>\n",
       "        <td style=\"padding-left: 1em; padding-right: 1em; text-align: center; vertical-align: top\">0</td>\n",
       "        <td style=\"padding-left: 1em; padding-right: 1em; text-align: center; vertical-align: top\">oyaMhzBSwfGgemSGuZCdwQ</td>\n",
       "        <td style=\"padding-left: 1em; padding-right: 1em; text-align: center; vertical-align: top\">5.0</td>\n",
       "    </tr>\n",
       "    <tr>\n",
       "        <td style=\"padding-left: 1em; padding-right: 1em; text-align: center; vertical-align: top\">SIoCIxjn4jLt2O-4DajWJw</td>\n",
       "        <td style=\"padding-left: 1em; padding-right: 1em; text-align: center; vertical-align: top\">0</td>\n",
       "        <td style=\"padding-left: 1em; padding-right: 1em; text-align: center; vertical-align: top\">2015-11-18 17:47:29</td>\n",
       "        <td style=\"padding-left: 1em; padding-right: 1em; text-align: center; vertical-align: top\">0</td>\n",
       "        <td style=\"padding-left: 1em; padding-right: 1em; text-align: center; vertical-align: top\">DWbmJF84jRrGaJRmlSSnYQ</td>\n",
       "        <td style=\"padding-left: 1em; padding-right: 1em; text-align: center; vertical-align: top\">4.0</td>\n",
       "    </tr>\n",
       "    <tr>\n",
       "        <td style=\"padding-left: 1em; padding-right: 1em; text-align: center; vertical-align: top\">9gObo5ltOMo6UgsaXaHPWA</td>\n",
       "        <td style=\"padding-left: 1em; padding-right: 1em; text-align: center; vertical-align: top\">0</td>\n",
       "        <td style=\"padding-left: 1em; padding-right: 1em; text-align: center; vertical-align: top\">2016-09-06 03:04:24</td>\n",
       "        <td style=\"padding-left: 1em; padding-right: 1em; text-align: center; vertical-align: top\">0</td>\n",
       "        <td style=\"padding-left: 1em; padding-right: 1em; text-align: center; vertical-align: top\">7rCsR3SARVF3vXNiw_Csgg</td>\n",
       "        <td style=\"padding-left: 1em; padding-right: 1em; text-align: center; vertical-align: top\">5.0</td>\n",
       "    </tr>\n",
       "    <tr>\n",
       "        <td style=\"padding-left: 1em; padding-right: 1em; text-align: center; vertical-align: top\">D4DZztR7vkbiED6txGUYFg</td>\n",
       "        <td style=\"padding-left: 1em; padding-right: 1em; text-align: center; vertical-align: top\">1</td>\n",
       "        <td style=\"padding-left: 1em; padding-right: 1em; text-align: center; vertical-align: top\">2013-06-24 13:15:21</td>\n",
       "        <td style=\"padding-left: 1em; padding-right: 1em; text-align: center; vertical-align: top\">0</td>\n",
       "        <td style=\"padding-left: 1em; padding-right: 1em; text-align: center; vertical-align: top\">L0E_Ld__jIATsQ1vA7ZGZw</td>\n",
       "        <td style=\"padding-left: 1em; padding-right: 1em; text-align: center; vertical-align: top\">4.0</td>\n",
       "    </tr>\n",
       "    <tr>\n",
       "        <td style=\"padding-left: 1em; padding-right: 1em; text-align: center; vertical-align: top\">FnEkr6LzjuGsg93Z7fkl7Q</td>\n",
       "        <td style=\"padding-left: 1em; padding-right: 1em; text-align: center; vertical-align: top\">0</td>\n",
       "        <td style=\"padding-left: 1em; padding-right: 1em; text-align: center; vertical-align: top\">2017-12-29 20:44:06</td>\n",
       "        <td style=\"padding-left: 1em; padding-right: 1em; text-align: center; vertical-align: top\">0</td>\n",
       "        <td style=\"padding-left: 1em; padding-right: 1em; text-align: center; vertical-align: top\">dUkUiVjwb9xCF1kMqjT6nA</td>\n",
       "        <td style=\"padding-left: 1em; padding-right: 1em; text-align: center; vertical-align: top\">2.0</td>\n",
       "    </tr>\n",
       "    <tr>\n",
       "        <td style=\"padding-left: 1em; padding-right: 1em; text-align: center; vertical-align: top\">V6Om7YZhlRQRU7WfuxHq8Q</td>\n",
       "        <td style=\"padding-left: 1em; padding-right: 1em; text-align: center; vertical-align: top\">0</td>\n",
       "        <td style=\"padding-left: 1em; padding-right: 1em; text-align: center; vertical-align: top\">2017-07-08 21:23:54</td>\n",
       "        <td style=\"padding-left: 1em; padding-right: 1em; text-align: center; vertical-align: top\">0</td>\n",
       "        <td style=\"padding-left: 1em; padding-right: 1em; text-align: center; vertical-align: top\">g7MfpJGKQUGowCvIcrB91A</td>\n",
       "        <td style=\"padding-left: 1em; padding-right: 1em; text-align: center; vertical-align: top\">4.0</td>\n",
       "    </tr>\n",
       "    <tr>\n",
       "        <td style=\"padding-left: 1em; padding-right: 1em; text-align: center; vertical-align: top\">9gObo5ltOMo6UgsaXaHPWA</td>\n",
       "        <td style=\"padding-left: 1em; padding-right: 1em; text-align: center; vertical-align: top\">0</td>\n",
       "        <td style=\"padding-left: 1em; padding-right: 1em; text-align: center; vertical-align: top\">2012-09-11 11:56:59</td>\n",
       "        <td style=\"padding-left: 1em; padding-right: 1em; text-align: center; vertical-align: top\">0</td>\n",
       "        <td style=\"padding-left: 1em; padding-right: 1em; text-align: center; vertical-align: top\">Oc7hdAWcXum2mRgb5f5NNw</td>\n",
       "        <td style=\"padding-left: 1em; padding-right: 1em; text-align: center; vertical-align: top\">5.0</td>\n",
       "    </tr>\n",
       "    <tr>\n",
       "        <td style=\"padding-left: 1em; padding-right: 1em; text-align: center; vertical-align: top\">68ThEdiK0eWCEgGEmV9Tng</td>\n",
       "        <td style=\"padding-left: 1em; padding-right: 1em; text-align: center; vertical-align: top\">0</td>\n",
       "        <td style=\"padding-left: 1em; padding-right: 1em; text-align: center; vertical-align: top\">2016-01-30 16:34:41</td>\n",
       "        <td style=\"padding-left: 1em; padding-right: 1em; text-align: center; vertical-align: top\">0</td>\n",
       "        <td style=\"padding-left: 1em; padding-right: 1em; text-align: center; vertical-align: top\">CdasgDuJmAJYRb50sgzQEQ</td>\n",
       "        <td style=\"padding-left: 1em; padding-right: 1em; text-align: center; vertical-align: top\">4.0</td>\n",
       "    </tr>\n",
       "    <tr>\n",
       "        <td style=\"padding-left: 1em; padding-right: 1em; text-align: center; vertical-align: top\">AY1SyySRyTnBwBdf7qfGxQ</td>\n",
       "        <td style=\"padding-left: 1em; padding-right: 1em; text-align: center; vertical-align: top\">2</td>\n",
       "        <td style=\"padding-left: 1em; padding-right: 1em; text-align: center; vertical-align: top\">2009-08-04 18:04:15</td>\n",
       "        <td style=\"padding-left: 1em; padding-right: 1em; text-align: center; vertical-align: top\">0</td>\n",
       "        <td style=\"padding-left: 1em; padding-right: 1em; text-align: center; vertical-align: top\">2fD2Do7xBjoahST3FmiwcQ</td>\n",
       "        <td style=\"padding-left: 1em; padding-right: 1em; text-align: center; vertical-align: top\">5.0</td>\n",
       "    </tr>\n",
       "    <tr>\n",
       "        <td style=\"padding-left: 1em; padding-right: 1em; text-align: center; vertical-align: top\">DsKzHnkLKnxZTVsFpts4oA</td>\n",
       "        <td style=\"padding-left: 1em; padding-right: 1em; text-align: center; vertical-align: top\">0</td>\n",
       "        <td style=\"padding-left: 1em; padding-right: 1em; text-align: center; vertical-align: top\">2016-07-03 23:45:16</td>\n",
       "        <td style=\"padding-left: 1em; padding-right: 1em; text-align: center; vertical-align: top\">0</td>\n",
       "        <td style=\"padding-left: 1em; padding-right: 1em; text-align: center; vertical-align: top\">As1_aGyTE-Sh3jGwh3vG0Q</td>\n",
       "        <td style=\"padding-left: 1em; padding-right: 1em; text-align: center; vertical-align: top\">5.0</td>\n",
       "    </tr>\n",
       "</table>\n",
       "<table frame=\"box\" rules=\"cols\">\n",
       "    <tr>\n",
       "        <th style=\"padding-left: 1em; padding-right: 1em; text-align: center\">text</th>\n",
       "        <th style=\"padding-left: 1em; padding-right: 1em; text-align: center\">useful</th>\n",
       "        <th style=\"padding-left: 1em; padding-right: 1em; text-align: center\">user_id</th>\n",
       "    </tr>\n",
       "    <tr>\n",
       "        <td style=\"padding-left: 1em; padding-right: 1em; text-align: center; vertical-align: top\">Tremendous service (Big<br>shout out to Douglas) ...</td>\n",
       "        <td style=\"padding-left: 1em; padding-right: 1em; text-align: center; vertical-align: top\">0</td>\n",
       "        <td style=\"padding-left: 1em; padding-right: 1em; text-align: center; vertical-align: top\">Dd1jQj7S-BFGqRbApFzCFw</td>\n",
       "    </tr>\n",
       "    <tr>\n",
       "        <td style=\"padding-left: 1em; padding-right: 1em; text-align: center; vertical-align: top\">My go-to spot on a<br>Saturday night! I was ...</td>\n",
       "        <td style=\"padding-left: 1em; padding-right: 1em; text-align: center; vertical-align: top\">0</td>\n",
       "        <td style=\"padding-left: 1em; padding-right: 1em; text-align: center; vertical-align: top\">aWlojpSpzEICTza3RgGJgg</td>\n",
       "    </tr>\n",
       "    <tr>\n",
       "        <td style=\"padding-left: 1em; padding-right: 1em; text-align: center; vertical-align: top\">My husband and I took my<br>mother here for her 1 ...</td>\n",
       "        <td style=\"padding-left: 1em; padding-right: 1em; text-align: center; vertical-align: top\">0</td>\n",
       "        <td style=\"padding-left: 1em; padding-right: 1em; text-align: center; vertical-align: top\">mmdf_Fi-Hh_3uZN5zE164A</td>\n",
       "    </tr>\n",
       "    <tr>\n",
       "        <td style=\"padding-left: 1em; padding-right: 1em; text-align: center; vertical-align: top\">Looks like there is a<br>second Red Kings ...</td>\n",
       "        <td style=\"padding-left: 1em; padding-right: 1em; text-align: center; vertical-align: top\">0</td>\n",
       "        <td style=\"padding-left: 1em; padding-right: 1em; text-align: center; vertical-align: top\">Cvi8nZTwDVaQkqmmgQwQMw</td>\n",
       "    </tr>\n",
       "    <tr>\n",
       "        <td style=\"padding-left: 1em; padding-right: 1em; text-align: center; vertical-align: top\">Before I share the main<br>issue, I want to share ...</td>\n",
       "        <td style=\"padding-left: 1em; padding-right: 1em; text-align: center; vertical-align: top\">0</td>\n",
       "        <td style=\"padding-left: 1em; padding-right: 1em; text-align: center; vertical-align: top\">EDPlya2Sfu0teqreA3rlZw</td>\n",
       "    </tr>\n",
       "    <tr>\n",
       "        <td style=\"padding-left: 1em; padding-right: 1em; text-align: center; vertical-align: top\">A wee bit pricey for the<br>portions they serve. I ...</td>\n",
       "        <td style=\"padding-left: 1em; padding-right: 1em; text-align: center; vertical-align: top\">1</td>\n",
       "        <td style=\"padding-left: 1em; padding-right: 1em; text-align: center; vertical-align: top\">ci7Q6NvXQ8UZrBHusVX18g</td>\n",
       "    </tr>\n",
       "    <tr>\n",
       "        <td style=\"padding-left: 1em; padding-right: 1em; text-align: center; vertical-align: top\">great food, great view.<br>Try the lobster mac and ...</td>\n",
       "        <td style=\"padding-left: 1em; padding-right: 1em; text-align: center; vertical-align: top\">1</td>\n",
       "        <td style=\"padding-left: 1em; padding-right: 1em; text-align: center; vertical-align: top\">i1jYqpHfyu2LB9c5zezLEQ</td>\n",
       "    </tr>\n",
       "    <tr>\n",
       "        <td style=\"padding-left: 1em; padding-right: 1em; text-align: center; vertical-align: top\">out of ten -- ten being<br>best\\n\\nfood: ...</td>\n",
       "        <td style=\"padding-left: 1em; padding-right: 1em; text-align: center; vertical-align: top\">0</td>\n",
       "        <td style=\"padding-left: 1em; padding-right: 1em; text-align: center; vertical-align: top\">2DhNGmmyDmnZdZps49U9VQ</td>\n",
       "    </tr>\n",
       "    <tr>\n",
       "        <td style=\"padding-left: 1em; padding-right: 1em; text-align: center; vertical-align: top\">From the second you walk<br>in the door, you&#x27;re ...</td>\n",
       "        <td style=\"padding-left: 1em; padding-right: 1em; text-align: center; vertical-align: top\">3</td>\n",
       "        <td style=\"padding-left: 1em; padding-right: 1em; text-align: center; vertical-align: top\">avQwKRvXc21koLCbahFEig</td>\n",
       "    </tr>\n",
       "    <tr>\n",
       "        <td style=\"padding-left: 1em; padding-right: 1em; text-align: center; vertical-align: top\">We stopped in for brunch<br>and we weren&#x27;t expecting ...</td>\n",
       "        <td style=\"padding-left: 1em; padding-right: 1em; text-align: center; vertical-align: top\">0</td>\n",
       "        <td style=\"padding-left: 1em; padding-right: 1em; text-align: center; vertical-align: top\">QvIZleI1KG46yFMRSWrYcQ</td>\n",
       "    </tr>\n",
       "</table>\n",
       "[85226 rows x 9 columns]<br/>Note: Only the head of the SFrame is printed.<br/>You can use print_rows(num_rows=m, num_columns=n) to print more rows and columns.\n",
       "</div>"
      ],
      "text/plain": [
       "Columns:\n",
       "\tbusiness_id\tstr\n",
       "\tcool\tint\n",
       "\tdate\tstr\n",
       "\tfunny\tint\n",
       "\treview_id\tstr\n",
       "\tstars\tfloat\n",
       "\ttext\tstr\n",
       "\tuseful\tint\n",
       "\tuser_id\tstr\n",
       "\n",
       "Rows: 85226\n",
       "\n",
       "Data:\n",
       "+------------------------+------+---------------------+-------+\n",
       "|      business_id       | cool |         date        | funny |\n",
       "+------------------------+------+---------------------+-------+\n",
       "| YtSqYv1Q_pOltsVPSx54SA |  0   | 2013-06-24 11:21:25 |   0   |\n",
       "| SIoCIxjn4jLt2O-4DajWJw |  0   | 2015-11-18 17:47:29 |   0   |\n",
       "| 9gObo5ltOMo6UgsaXaHPWA |  0   | 2016-09-06 03:04:24 |   0   |\n",
       "| D4DZztR7vkbiED6txGUYFg |  1   | 2013-06-24 13:15:21 |   0   |\n",
       "| FnEkr6LzjuGsg93Z7fkl7Q |  0   | 2017-12-29 20:44:06 |   0   |\n",
       "| V6Om7YZhlRQRU7WfuxHq8Q |  0   | 2017-07-08 21:23:54 |   0   |\n",
       "| 9gObo5ltOMo6UgsaXaHPWA |  0   | 2012-09-11 11:56:59 |   0   |\n",
       "| 68ThEdiK0eWCEgGEmV9Tng |  0   | 2016-01-30 16:34:41 |   0   |\n",
       "| AY1SyySRyTnBwBdf7qfGxQ |  2   | 2009-08-04 18:04:15 |   0   |\n",
       "| DsKzHnkLKnxZTVsFpts4oA |  0   | 2016-07-03 23:45:16 |   0   |\n",
       "+------------------------+------+---------------------+-------+\n",
       "+------------------------+-------+-------------------------------+--------+\n",
       "|       review_id        | stars |              text             | useful |\n",
       "+------------------------+-------+-------------------------------+--------+\n",
       "| oyaMhzBSwfGgemSGuZCdwQ |  5.0  | Tremendous service (Big sh... |   0    |\n",
       "| DWbmJF84jRrGaJRmlSSnYQ |  4.0  | My go-to spot on a Saturda... |   0    |\n",
       "| 7rCsR3SARVF3vXNiw_Csgg |  5.0  | My husband and I took my m... |   0    |\n",
       "| L0E_Ld__jIATsQ1vA7ZGZw |  4.0  | Looks like there is a seco... |   0    |\n",
       "| dUkUiVjwb9xCF1kMqjT6nA |  2.0  | Before I share the main is... |   0    |\n",
       "| g7MfpJGKQUGowCvIcrB91A |  4.0  | A wee bit pricey for the p... |   1    |\n",
       "| Oc7hdAWcXum2mRgb5f5NNw |  5.0  | great food, great view. Tr... |   1    |\n",
       "| CdasgDuJmAJYRb50sgzQEQ |  4.0  | out of ten -- ten being be... |   0    |\n",
       "| 2fD2Do7xBjoahST3FmiwcQ |  5.0  | From the second you walk i... |   3    |\n",
       "| As1_aGyTE-Sh3jGwh3vG0Q |  5.0  | We stopped in for brunch a... |   0    |\n",
       "+------------------------+-------+-------------------------------+--------+\n",
       "+------------------------+\n",
       "|        user_id         |\n",
       "+------------------------+\n",
       "| Dd1jQj7S-BFGqRbApFzCFw |\n",
       "| aWlojpSpzEICTza3RgGJgg |\n",
       "| mmdf_Fi-Hh_3uZN5zE164A |\n",
       "| Cvi8nZTwDVaQkqmmgQwQMw |\n",
       "| EDPlya2Sfu0teqreA3rlZw |\n",
       "| ci7Q6NvXQ8UZrBHusVX18g |\n",
       "| i1jYqpHfyu2LB9c5zezLEQ |\n",
       "| 2DhNGmmyDmnZdZps49U9VQ |\n",
       "| avQwKRvXc21koLCbahFEig |\n",
       "| QvIZleI1KG46yFMRSWrYcQ |\n",
       "+------------------------+\n",
       "[85226 rows x 9 columns]\n",
       "Note: Only the head of the SFrame is printed.\n",
       "You can use print_rows(num_rows=m, num_columns=n) to print more rows and columns."
      ]
     },
     "execution_count": 5,
     "metadata": {},
     "output_type": "execute_result"
    }
   ],
   "source": [
    "sf_review_filtered = sf_review.filter_by(filter(lambda x: x in businessID_list, sf_review['business_id']) , 'business_id' , exclude=False)\n",
    "sf_review_filtered"
   ]
  },
  {
   "cell_type": "code",
   "execution_count": 6,
   "id": "708078da",
   "metadata": {},
   "outputs": [],
   "source": [
    "sf_review_filtered.export_csv(\"Restaurant_Full_Reviews_Dataset.csv\") "
   ]
  },
  {
   "cell_type": "code",
   "execution_count": null,
   "id": "30bcc678",
   "metadata": {},
   "outputs": [],
   "source": []
  },
  {
   "cell_type": "markdown",
   "id": "cd1e9a62",
   "metadata": {},
   "source": [
    "---"
   ]
  },
  {
   "cell_type": "code",
   "execution_count": 39,
   "id": "523fca8c",
   "metadata": {},
   "outputs": [],
   "source": [
    "sf_review_filtered_5000 = sf_review_filtered.sample(.059412 , seed=5)"
   ]
  },
  {
   "cell_type": "code",
   "execution_count": 40,
   "id": "1cc2e8bf",
   "metadata": {},
   "outputs": [
    {
     "data": {
      "text/plain": [
       "5000"
      ]
     },
     "execution_count": 40,
     "metadata": {},
     "output_type": "execute_result"
    }
   ],
   "source": [
    "len(sf_review_filtered_5000)"
   ]
  },
  {
   "cell_type": "code",
   "execution_count": 44,
   "id": "f25ceddd",
   "metadata": {},
   "outputs": [],
   "source": [
    "sf_review_filtered_5000.export_csv(\"Restaurant_Reviews_Dataset.csv\")"
   ]
  },
  {
   "cell_type": "markdown",
   "id": "4a3d7d70",
   "metadata": {},
   "source": [
    "---"
   ]
  },
  {
   "cell_type": "markdown",
   "id": "8c034cb6",
   "metadata": {},
   "source": [
    "## Select at least 3000 negative reviews."
   ]
  },
  {
   "cell_type": "code",
   "execution_count": 8,
   "id": "f3b2f27a",
   "metadata": {},
   "outputs": [],
   "source": [
    "sf_reveiws_fil_30k = sf_review_filtered.sample(.352005256)"
   ]
  },
  {
   "cell_type": "code",
   "execution_count": 9,
   "id": "598545c1",
   "metadata": {},
   "outputs": [
    {
     "data": {
      "text/plain": [
       "30003"
      ]
     },
     "execution_count": 9,
     "metadata": {},
     "output_type": "execute_result"
    }
   ],
   "source": [
    "len(sf_reveiws_fil_30k)"
   ]
  },
  {
   "cell_type": "code",
   "execution_count": 10,
   "id": "6d115868",
   "metadata": {},
   "outputs": [
    {
     "data": {
      "text/html": [
       "<div style=\"max-height:1000px;max-width:1500px;overflow:auto;\"><table frame=\"box\" rules=\"cols\">\n",
       "    <tr>\n",
       "        <th style=\"padding-left: 1em; padding-right: 1em; text-align: center\">business_id</th>\n",
       "        <th style=\"padding-left: 1em; padding-right: 1em; text-align: center\">cool</th>\n",
       "        <th style=\"padding-left: 1em; padding-right: 1em; text-align: center\">date</th>\n",
       "        <th style=\"padding-left: 1em; padding-right: 1em; text-align: center\">funny</th>\n",
       "        <th style=\"padding-left: 1em; padding-right: 1em; text-align: center\">review_id</th>\n",
       "        <th style=\"padding-left: 1em; padding-right: 1em; text-align: center\">stars</th>\n",
       "    </tr>\n",
       "    <tr>\n",
       "        <td style=\"padding-left: 1em; padding-right: 1em; text-align: center; vertical-align: top\">YtSqYv1Q_pOltsVPSx54SA</td>\n",
       "        <td style=\"padding-left: 1em; padding-right: 1em; text-align: center; vertical-align: top\">0</td>\n",
       "        <td style=\"padding-left: 1em; padding-right: 1em; text-align: center; vertical-align: top\">2013-06-24 11:21:25</td>\n",
       "        <td style=\"padding-left: 1em; padding-right: 1em; text-align: center; vertical-align: top\">0</td>\n",
       "        <td style=\"padding-left: 1em; padding-right: 1em; text-align: center; vertical-align: top\">oyaMhzBSwfGgemSGuZCdwQ</td>\n",
       "        <td style=\"padding-left: 1em; padding-right: 1em; text-align: center; vertical-align: top\">5.0</td>\n",
       "    </tr>\n",
       "    <tr>\n",
       "        <td style=\"padding-left: 1em; padding-right: 1em; text-align: center; vertical-align: top\">D4DZztR7vkbiED6txGUYFg</td>\n",
       "        <td style=\"padding-left: 1em; padding-right: 1em; text-align: center; vertical-align: top\">1</td>\n",
       "        <td style=\"padding-left: 1em; padding-right: 1em; text-align: center; vertical-align: top\">2013-06-24 13:15:21</td>\n",
       "        <td style=\"padding-left: 1em; padding-right: 1em; text-align: center; vertical-align: top\">0</td>\n",
       "        <td style=\"padding-left: 1em; padding-right: 1em; text-align: center; vertical-align: top\">L0E_Ld__jIATsQ1vA7ZGZw</td>\n",
       "        <td style=\"padding-left: 1em; padding-right: 1em; text-align: center; vertical-align: top\">4.0</td>\n",
       "    </tr>\n",
       "    <tr>\n",
       "        <td style=\"padding-left: 1em; padding-right: 1em; text-align: center; vertical-align: top\">AY1SyySRyTnBwBdf7qfGxQ</td>\n",
       "        <td style=\"padding-left: 1em; padding-right: 1em; text-align: center; vertical-align: top\">2</td>\n",
       "        <td style=\"padding-left: 1em; padding-right: 1em; text-align: center; vertical-align: top\">2009-08-04 18:04:15</td>\n",
       "        <td style=\"padding-left: 1em; padding-right: 1em; text-align: center; vertical-align: top\">0</td>\n",
       "        <td style=\"padding-left: 1em; padding-right: 1em; text-align: center; vertical-align: top\">2fD2Do7xBjoahST3FmiwcQ</td>\n",
       "        <td style=\"padding-left: 1em; padding-right: 1em; text-align: center; vertical-align: top\">5.0</td>\n",
       "    </tr>\n",
       "    <tr>\n",
       "        <td style=\"padding-left: 1em; padding-right: 1em; text-align: center; vertical-align: top\">DsKzHnkLKnxZTVsFpts4oA</td>\n",
       "        <td style=\"padding-left: 1em; padding-right: 1em; text-align: center; vertical-align: top\">0</td>\n",
       "        <td style=\"padding-left: 1em; padding-right: 1em; text-align: center; vertical-align: top\">2016-07-03 23:45:16</td>\n",
       "        <td style=\"padding-left: 1em; padding-right: 1em; text-align: center; vertical-align: top\">0</td>\n",
       "        <td style=\"padding-left: 1em; padding-right: 1em; text-align: center; vertical-align: top\">As1_aGyTE-Sh3jGwh3vG0Q</td>\n",
       "        <td style=\"padding-left: 1em; padding-right: 1em; text-align: center; vertical-align: top\">5.0</td>\n",
       "    </tr>\n",
       "    <tr>\n",
       "        <td style=\"padding-left: 1em; padding-right: 1em; text-align: center; vertical-align: top\">aZNiVR6oAMQX5__yGPvYsg</td>\n",
       "        <td style=\"padding-left: 1em; padding-right: 1em; text-align: center; vertical-align: top\">1</td>\n",
       "        <td style=\"padding-left: 1em; padding-right: 1em; text-align: center; vertical-align: top\">2008-12-03 04:24:16</td>\n",
       "        <td style=\"padding-left: 1em; padding-right: 1em; text-align: center; vertical-align: top\">0</td>\n",
       "        <td style=\"padding-left: 1em; padding-right: 1em; text-align: center; vertical-align: top\">Ly4PZdIlbIhLZO6WdDAaPg</td>\n",
       "        <td style=\"padding-left: 1em; padding-right: 1em; text-align: center; vertical-align: top\">3.0</td>\n",
       "    </tr>\n",
       "</table>\n",
       "<table frame=\"box\" rules=\"cols\">\n",
       "    <tr>\n",
       "        <th style=\"padding-left: 1em; padding-right: 1em; text-align: center\">text</th>\n",
       "        <th style=\"padding-left: 1em; padding-right: 1em; text-align: center\">useful</th>\n",
       "        <th style=\"padding-left: 1em; padding-right: 1em; text-align: center\">user_id</th>\n",
       "    </tr>\n",
       "    <tr>\n",
       "        <td style=\"padding-left: 1em; padding-right: 1em; text-align: center; vertical-align: top\">Tremendous service (Big<br>shout out to Douglas) ...</td>\n",
       "        <td style=\"padding-left: 1em; padding-right: 1em; text-align: center; vertical-align: top\">0</td>\n",
       "        <td style=\"padding-left: 1em; padding-right: 1em; text-align: center; vertical-align: top\">Dd1jQj7S-BFGqRbApFzCFw</td>\n",
       "    </tr>\n",
       "    <tr>\n",
       "        <td style=\"padding-left: 1em; padding-right: 1em; text-align: center; vertical-align: top\">Looks like there is a<br>second Red Kings ...</td>\n",
       "        <td style=\"padding-left: 1em; padding-right: 1em; text-align: center; vertical-align: top\">0</td>\n",
       "        <td style=\"padding-left: 1em; padding-right: 1em; text-align: center; vertical-align: top\">Cvi8nZTwDVaQkqmmgQwQMw</td>\n",
       "    </tr>\n",
       "    <tr>\n",
       "        <td style=\"padding-left: 1em; padding-right: 1em; text-align: center; vertical-align: top\">From the second you walk<br>in the door, you&#x27;re ...</td>\n",
       "        <td style=\"padding-left: 1em; padding-right: 1em; text-align: center; vertical-align: top\">3</td>\n",
       "        <td style=\"padding-left: 1em; padding-right: 1em; text-align: center; vertical-align: top\">avQwKRvXc21koLCbahFEig</td>\n",
       "    </tr>\n",
       "    <tr>\n",
       "        <td style=\"padding-left: 1em; padding-right: 1em; text-align: center; vertical-align: top\">We stopped in for brunch<br>and we weren&#x27;t expecting ...</td>\n",
       "        <td style=\"padding-left: 1em; padding-right: 1em; text-align: center; vertical-align: top\">0</td>\n",
       "        <td style=\"padding-left: 1em; padding-right: 1em; text-align: center; vertical-align: top\">QvIZleI1KG46yFMRSWrYcQ</td>\n",
       "    </tr>\n",
       "    <tr>\n",
       "        <td style=\"padding-left: 1em; padding-right: 1em; text-align: center; vertical-align: top\">My first trip to Susanna<br>Foo was at 6 months old ...</td>\n",
       "        <td style=\"padding-left: 1em; padding-right: 1em; text-align: center; vertical-align: top\">1</td>\n",
       "        <td style=\"padding-left: 1em; padding-right: 1em; text-align: center; vertical-align: top\">uAu772KpSkb-tPFgZmU-lA</td>\n",
       "    </tr>\n",
       "</table>\n",
       "[5 rows x 9 columns]<br/>\n",
       "</div>"
      ],
      "text/plain": [
       "Columns:\n",
       "\tbusiness_id\tstr\n",
       "\tcool\tint\n",
       "\tdate\tstr\n",
       "\tfunny\tint\n",
       "\treview_id\tstr\n",
       "\tstars\tfloat\n",
       "\ttext\tstr\n",
       "\tuseful\tint\n",
       "\tuser_id\tstr\n",
       "\n",
       "Rows: 5\n",
       "\n",
       "Data:\n",
       "+------------------------+------+---------------------+-------+\n",
       "|      business_id       | cool |         date        | funny |\n",
       "+------------------------+------+---------------------+-------+\n",
       "| YtSqYv1Q_pOltsVPSx54SA |  0   | 2013-06-24 11:21:25 |   0   |\n",
       "| D4DZztR7vkbiED6txGUYFg |  1   | 2013-06-24 13:15:21 |   0   |\n",
       "| AY1SyySRyTnBwBdf7qfGxQ |  2   | 2009-08-04 18:04:15 |   0   |\n",
       "| DsKzHnkLKnxZTVsFpts4oA |  0   | 2016-07-03 23:45:16 |   0   |\n",
       "| aZNiVR6oAMQX5__yGPvYsg |  1   | 2008-12-03 04:24:16 |   0   |\n",
       "+------------------------+------+---------------------+-------+\n",
       "+------------------------+-------+-------------------------------+--------+\n",
       "|       review_id        | stars |              text             | useful |\n",
       "+------------------------+-------+-------------------------------+--------+\n",
       "| oyaMhzBSwfGgemSGuZCdwQ |  5.0  | Tremendous service (Big sh... |   0    |\n",
       "| L0E_Ld__jIATsQ1vA7ZGZw |  4.0  | Looks like there is a seco... |   0    |\n",
       "| 2fD2Do7xBjoahST3FmiwcQ |  5.0  | From the second you walk i... |   3    |\n",
       "| As1_aGyTE-Sh3jGwh3vG0Q |  5.0  | We stopped in for brunch a... |   0    |\n",
       "| Ly4PZdIlbIhLZO6WdDAaPg |  3.0  | My first trip to Susanna F... |   1    |\n",
       "+------------------------+-------+-------------------------------+--------+\n",
       "+------------------------+\n",
       "|        user_id         |\n",
       "+------------------------+\n",
       "| Dd1jQj7S-BFGqRbApFzCFw |\n",
       "| Cvi8nZTwDVaQkqmmgQwQMw |\n",
       "| avQwKRvXc21koLCbahFEig |\n",
       "| QvIZleI1KG46yFMRSWrYcQ |\n",
       "| uAu772KpSkb-tPFgZmU-lA |\n",
       "+------------------------+\n",
       "[5 rows x 9 columns]"
      ]
     },
     "execution_count": 10,
     "metadata": {},
     "output_type": "execute_result"
    }
   ],
   "source": [
    "sf_reveiws_fil_30k.head(5)"
   ]
  },
  {
   "cell_type": "code",
   "execution_count": 12,
   "id": "86750b28",
   "metadata": {},
   "outputs": [
    {
     "data": {
      "text/plain": [
       "['business_id',\n",
       " 'cool',\n",
       " 'date',\n",
       " 'funny',\n",
       " 'review_id',\n",
       " 'stars',\n",
       " 'text',\n",
       " 'useful',\n",
       " 'user_id']"
      ]
     },
     "execution_count": 12,
     "metadata": {},
     "output_type": "execute_result"
    }
   ],
   "source": [
    "sf_reveiws_fil_30k.column_names()"
   ]
  },
  {
   "cell_type": "code",
   "execution_count": 13,
   "id": "a7378478",
   "metadata": {},
   "outputs": [
    {
     "data": {
      "text/plain": [
       "2323"
      ]
     },
     "execution_count": 13,
     "metadata": {},
     "output_type": "execute_result"
    }
   ],
   "source": [
    "check_1_star = sf_reveiws_fil_30k[sf_reveiws_fil_30k['stars'] == 1.0]\n",
    "len(check_1_star)"
   ]
  },
  {
   "cell_type": "code",
   "execution_count": 14,
   "id": "3c366909",
   "metadata": {},
   "outputs": [
    {
     "data": {
      "text/plain": [
       "2246"
      ]
     },
     "execution_count": 14,
     "metadata": {},
     "output_type": "execute_result"
    }
   ],
   "source": [
    "check_2_star = sf_reveiws_fil_30k[sf_reveiws_fil_30k['stars'] == 2.0]\n",
    "len(check_2_star)"
   ]
  },
  {
   "cell_type": "code",
   "execution_count": 16,
   "id": "5a7873fa",
   "metadata": {},
   "outputs": [],
   "source": [
    "sf_reveiws_fil_30k.export_csv(\"../Datasets/Restaurant_Reviews_30k_Dataset.csv\")"
   ]
  },
  {
   "cell_type": "code",
   "execution_count": null,
   "id": "fece67c3",
   "metadata": {},
   "outputs": [],
   "source": []
  }
 ],
 "metadata": {
  "kernelspec": {
   "display_name": "Python 3",
   "language": "python",
   "name": "python3"
  },
  "language_info": {
   "codemirror_mode": {
    "name": "ipython",
    "version": 3
   },
   "file_extension": ".py",
   "mimetype": "text/x-python",
   "name": "python",
   "nbconvert_exporter": "python",
   "pygments_lexer": "ipython3",
   "version": "3.6.9"
  }
 },
 "nbformat": 4,
 "nbformat_minor": 5
}
